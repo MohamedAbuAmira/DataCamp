{
 "cells": [
  {
   "cell_type": "markdown",
   "metadata": {},
   "source": [
    "In this chapter, you'll learn about a dimension reduction technique called \"Non-negative matrix factorization\" (\"NMF\") that expresses samples as combinations of interpretable parts. For example, it expresses documents as combinations of topics, and images in terms of commonly occurring visual patterns. You'll also learn to use NMF to build recommender systems that can find you similar articles to read, or musical artists that match your listening history!"
   ]
  },
  {
   "cell_type": "markdown",
   "metadata": {},
   "source": [
    "## Non-negative data\n"
   ]
  },
  {
   "cell_type": "markdown",
   "metadata": {},
   "source": [
    "Which of the following 2-dimensional arrays are examples of non-negative data?\n",
    "\n",
    "- 1-A tf-idf word-frequency array.\n",
    "- 2-An array daily stock market price movements (up and down), where each row represents a company.\n",
    "- 3-An array where rows are customers, columns are products and entries are 0 or 1, indicating whether a customer has purchased a product."
   ]
  },
  {
   "cell_type": "markdown",
   "metadata": {},
   "source": [
    "Answer: 1  and 3 "
   ]
  },
  {
   "cell_type": "raw",
   "metadata": {},
   "source": [
    "Well done! Stock prices can go down as well as up, so an array of daily stock market price movements is not an example of non-negative data."
   ]
  },
  {
   "cell_type": "markdown",
   "metadata": {},
   "source": [
    "## NMF applied to Wikipedia articles"
   ]
  },
  {
   "cell_type": "markdown",
   "metadata": {},
   "source": [
    "<p>In the video, you saw NMF applied to transform a toy word-frequency array.  Now it&apos;s your turn to apply NMF, this time using the tf-idf word-frequency array of Wikipedia articles, given as a csr matrix <code>articles</code>.  Here, fit the model and transform the articles.  In the next exercise, you&apos;ll explore the result.</p>"
   ]
  },
  {
   "cell_type": "markdown",
   "metadata": {},
   "source": [
    "<ul>\n",
    "<li>Import <code>NMF</code> from <code>sklearn.decomposition</code>.</li>\n",
    "<li>Create an <code>NMF</code> instance called <code>model</code> with <code>6</code> components.</li>\n",
    "<li>Fit the model to the word count data <code>articles</code>.</li>\n",
    "<li>Use the <code>.transform()</code> method of <code>model</code> to transform <code>articles</code>, and assign the result to <code>nmf_features</code>.</li>\n",
    "<li>Print <code>nmf_features</code> to get a first idea what it looks like.</li>\n",
    "    </ul>"
   ]
  },
  {
   "cell_type": "code",
   "execution_count": 1,
   "metadata": {},
   "outputs": [],
   "source": [
    "import pandas as pd\n",
    "#Get the data\n",
    "df = pd.read_csv('datasets/Wikipedia articles/wikipedia-vectors.csv', index_col=0)\n",
    "\n",
    "#To preprocess `wikipedia-vectors.csv` into the format in which you used it in the exercises, you have to take its transpose:\n",
    "\n",
    "from scipy.sparse import csr_matrix\n",
    "\n",
    "articles = csr_matrix(df.transpose())\n",
    "titles = list(df.columns)"
   ]
  },
  {
   "cell_type": "code",
   "execution_count": 2,
   "metadata": {},
   "outputs": [
    {
     "name": "stdout",
     "output_type": "stream",
     "text": [
      "[[0.00000000e+00 0.00000000e+00 0.00000000e+00 0.00000000e+00\n",
      "  0.00000000e+00 4.40418201e-01]\n",
      " [0.00000000e+00 0.00000000e+00 0.00000000e+00 0.00000000e+00\n",
      "  0.00000000e+00 5.66544062e-01]\n",
      " [3.82064105e-03 0.00000000e+00 0.00000000e+00 0.00000000e+00\n",
      "  0.00000000e+00 3.98603945e-01]\n",
      " [0.00000000e+00 0.00000000e+00 0.00000000e+00 0.00000000e+00\n",
      "  0.00000000e+00 3.81698958e-01]\n",
      " [0.00000000e+00 0.00000000e+00 0.00000000e+00 0.00000000e+00\n",
      "  0.00000000e+00 4.85465046e-01]\n",
      " [1.29292625e-02 1.37882382e-02 7.76319204e-03 3.34415418e-02\n",
      "  0.00000000e+00 3.34485750e-01]\n",
      " [0.00000000e+00 0.00000000e+00 2.06738601e-02 0.00000000e+00\n",
      "  6.04438509e-03 3.59022655e-01]\n",
      " [0.00000000e+00 0.00000000e+00 0.00000000e+00 0.00000000e+00\n",
      "  0.00000000e+00 4.90924003e-01]\n",
      " [1.54276779e-02 1.42810075e-02 3.76628640e-03 2.37060092e-02\n",
      "  2.62599067e-02 4.80723005e-01]\n",
      " [1.11740157e-02 3.13661225e-02 3.09480983e-02 6.56858147e-02\n",
      "  1.96662506e-02 3.38252160e-01]\n",
      " [0.00000000e+00 0.00000000e+00 5.30709974e-01 0.00000000e+00\n",
      "  2.83657097e-02 0.00000000e+00]\n",
      " [0.00000000e+00 0.00000000e+00 3.56502937e-01 0.00000000e+00\n",
      "  0.00000000e+00 0.00000000e+00]\n",
      " [1.20129339e-02 6.50001445e-03 3.12239700e-01 6.09638054e-02\n",
      "  1.13852424e-02 1.92580954e-02]\n",
      " [3.93492387e-03 6.24400985e-03 3.42367151e-01 1.10744724e-02\n",
      "  0.00000000e+00 0.00000000e+00]\n",
      " [4.63829237e-03 0.00000000e+00 4.34907309e-01 0.00000000e+00\n",
      "  3.84244862e-02 3.08098335e-03]\n",
      " [0.00000000e+00 0.00000000e+00 4.83280465e-01 0.00000000e+00\n",
      "  0.00000000e+00 0.00000000e+00]\n",
      " [5.65026281e-03 1.83523283e-02 3.76526294e-01 3.25390079e-02\n",
      "  0.00000000e+00 1.13321867e-02]\n",
      " [0.00000000e+00 0.00000000e+00 4.80905184e-01 0.00000000e+00\n",
      "  0.00000000e+00 0.00000000e+00]\n",
      " [0.00000000e+00 9.01803828e-03 5.50998087e-01 0.00000000e+00\n",
      "  0.00000000e+00 0.00000000e+00]\n",
      " [0.00000000e+00 0.00000000e+00 4.65961296e-01 0.00000000e+00\n",
      "  0.00000000e+00 0.00000000e+00]\n",
      " [0.00000000e+00 1.14073289e-02 2.08651972e-02 5.17654583e-01\n",
      "  5.81363146e-02 1.37838619e-02]\n",
      " [0.00000000e+00 0.00000000e+00 0.00000000e+00 5.10364105e-01\n",
      "  0.00000000e+00 0.00000000e+00]\n",
      " [0.00000000e+00 5.60067138e-03 0.00000000e+00 4.22287872e-01\n",
      "  0.00000000e+00 0.00000000e+00]\n",
      " [0.00000000e+00 0.00000000e+00 0.00000000e+00 4.36656145e-01\n",
      "  0.00000000e+00 0.00000000e+00]\n",
      " [0.00000000e+00 0.00000000e+00 0.00000000e+00 4.97983568e-01\n",
      "  0.00000000e+00 0.00000000e+00]\n",
      " [9.88411047e-02 8.59986520e-02 3.91028684e-03 3.80934547e-01\n",
      "  4.39204766e-04 5.22093520e-03]\n",
      " [0.00000000e+00 0.00000000e+00 0.00000000e+00 5.72045294e-01\n",
      "  0.00000000e+00 7.13462696e-03]\n",
      " [1.31471062e-02 1.04846386e-02 0.00000000e+00 4.68803929e-01\n",
      "  0.00000000e+00 1.16297350e-02]\n",
      " [3.84556135e-03 0.00000000e+00 0.00000000e+00 5.75585184e-01\n",
      "  0.00000000e+00 0.00000000e+00]\n",
      " [2.25248916e-03 1.38727622e-03 0.00000000e+00 5.27830814e-01\n",
      "  1.20255314e-02 1.49467491e-02]\n",
      " [0.00000000e+00 4.07520644e-01 1.85711339e-03 0.00000000e+00\n",
      "  2.96587139e-03 4.52290449e-04]\n",
      " [1.53423736e-03 6.08131947e-01 5.22268759e-04 6.24717129e-03\n",
      "  1.18435540e-03 4.40020763e-04]\n",
      " [5.38828692e-03 2.64999155e-01 5.38502387e-04 1.86885119e-02\n",
      "  6.38601353e-03 2.90073442e-03]\n",
      " [0.00000000e+00 6.44872328e-01 0.00000000e+00 0.00000000e+00\n",
      "  0.00000000e+00 0.00000000e+00]\n",
      " [0.00000000e+00 6.08865833e-01 0.00000000e+00 0.00000000e+00\n",
      "  0.00000000e+00 0.00000000e+00]\n",
      " [0.00000000e+00 3.43662031e-01 0.00000000e+00 0.00000000e+00\n",
      "  3.97763426e-03 0.00000000e+00]\n",
      " [6.10519184e-03 3.15291516e-01 1.54877258e-02 0.00000000e+00\n",
      "  5.06205037e-03 4.74283920e-03]\n",
      " [6.47384745e-03 2.13314151e-01 9.49478957e-03 4.56881568e-02\n",
      "  1.71901058e-02 9.51961494e-03]\n",
      " [7.99160907e-03 4.67563578e-01 0.00000000e+00 2.43372326e-02\n",
      "  0.00000000e+00 0.00000000e+00]\n",
      " [0.00000000e+00 6.42776683e-01 0.00000000e+00 2.35803236e-03\n",
      "  0.00000000e+00 0.00000000e+00]\n",
      " [0.00000000e+00 0.00000000e+00 0.00000000e+00 0.00000000e+00\n",
      "  4.77042977e-01 0.00000000e+00]\n",
      " [0.00000000e+00 0.00000000e+00 0.00000000e+00 0.00000000e+00\n",
      "  4.94214767e-01 0.00000000e+00]\n",
      " [0.00000000e+00 2.99051610e-04 2.14485601e-03 0.00000000e+00\n",
      "  3.81746539e-01 5.83718103e-03]\n",
      " [0.00000000e+00 0.00000000e+00 0.00000000e+00 5.64569952e-03\n",
      "  5.42195907e-01 0.00000000e+00]\n",
      " [1.78062958e-03 7.84361934e-04 1.41625564e-02 4.59713003e-04\n",
      "  4.24266774e-01 0.00000000e+00]\n",
      " [0.00000000e+00 0.00000000e+00 0.00000000e+00 0.00000000e+00\n",
      "  5.11349035e-01 0.00000000e+00]\n",
      " [0.00000000e+00 0.00000000e+00 3.28381693e-03 0.00000000e+00\n",
      "  3.72855453e-01 0.00000000e+00]\n",
      " [0.00000000e+00 2.62067179e-04 3.61098267e-02 2.32285594e-04\n",
      "  2.30491362e-01 0.00000000e+00]\n",
      " [1.12519666e-02 2.12313427e-03 1.60969911e-02 1.02462585e-02\n",
      "  3.25434196e-01 3.75840343e-02]\n",
      " [0.00000000e+00 0.00000000e+00 0.00000000e+00 0.00000000e+00\n",
      "  4.18923046e-01 3.57662400e-04]\n",
      " [3.08378736e-01 0.00000000e+00 0.00000000e+00 0.00000000e+00\n",
      "  0.00000000e+00 0.00000000e+00]\n",
      " [3.68187877e-01 0.00000000e+00 0.00000000e+00 0.00000000e+00\n",
      "  0.00000000e+00 0.00000000e+00]\n",
      " [3.97960018e-01 2.81684080e-02 3.67005972e-03 1.70029744e-02\n",
      "  1.95951570e-03 2.11621747e-02]\n",
      " [3.75808921e-01 2.07506713e-03 0.00000000e+00 3.72073281e-02\n",
      "  0.00000000e+00 5.85865556e-03]\n",
      " [4.38044890e-01 0.00000000e+00 0.00000000e+00 0.00000000e+00\n",
      "  0.00000000e+00 0.00000000e+00]\n",
      " [4.57898461e-01 0.00000000e+00 0.00000000e+00 0.00000000e+00\n",
      "  0.00000000e+00 0.00000000e+00]\n",
      " [2.75487725e-01 4.46926663e-03 0.00000000e+00 5.29540041e-02\n",
      "  0.00000000e+00 1.90977330e-02]\n",
      " [4.45210886e-01 0.00000000e+00 0.00000000e+00 0.00000000e+00\n",
      "  5.48653034e-03 0.00000000e+00]\n",
      " [2.92751544e-01 1.33655787e-02 1.14261491e-02 1.05177107e-02\n",
      "  1.87680744e-01 9.23866217e-03]\n",
      " [3.78280903e-01 1.43960562e-02 0.00000000e+00 9.85024872e-02\n",
      "  1.35889073e-02 0.00000000e+00]]\n"
     ]
    }
   ],
   "source": [
    "# Import NMF\n",
    "from sklearn.decomposition import NMF\n",
    "\n",
    "# Create an NMF instance: model\n",
    "model = NMF(n_components=6)\n",
    "\n",
    "# Fit the model to articles\n",
    "model.fit(articles)\n",
    "\n",
    "# Transform the articles: nmf_features\n",
    "nmf_features = model.transform(articles)\n",
    "\n",
    "# Print the NMF features\n",
    "print(nmf_features)"
   ]
  },
  {
   "cell_type": "raw",
   "metadata": {},
   "source": [
    "Fantastic - these NMF features don't make much sense at this point, but you will explore them in the next exercise!"
   ]
  },
  {
   "cell_type": "markdown",
   "metadata": {},
   "source": [
    "## NMF features of the Wikipedia articles\n"
   ]
  },
  {
   "cell_type": "markdown",
   "metadata": {},
   "source": [
    "<p>Now you will explore the NMF features you created in the previous exercise. A solution to the previous exercise has been pre-loaded, so the array <code>nmf_features</code> is available.  Also available is a list <code>titles</code> giving the title of each Wikipedia article.</p>\n",
    "<p>When investigating the features, notice that for both actors, the NMF feature 3 has by far the highest value.  This means that both articles are reconstructed using mainly the 3rd NMF component.  In the next video, you&apos;ll see why: NMF components represent topics (for instance, acting!).</p>"
   ]
  },
  {
   "cell_type": "markdown",
   "metadata": {},
   "source": [
    "<ul>\n",
    "<li>Import <code>pandas</code> as <code>pd</code>.</li>\n",
    "<li>Create a DataFrame <code>df</code> from <code>nmf_features</code> using <code>pd.DataFrame()</code>. Set the index to <code>titles</code> using <code>index=titles</code>.</li>\n",
    "<li>Use the <code>.loc[]</code> accessor of <code>df</code> to select the row with title <code>&apos;Anne Hathaway&apos;</code>, and print the result.  These are the NMF features for the article about the actress Anne Hathaway.</li>\n",
    "<li>Repeat the last step for <code>&apos;Denzel Washington&apos;</code> (another actor).</li>\n",
    "</ul>"
   ]
  },
  {
   "cell_type": "code",
   "execution_count": 3,
   "metadata": {},
   "outputs": [
    {
     "name": "stdout",
     "output_type": "stream",
     "text": [
      "0    0.003846\n",
      "1    0.000000\n",
      "2    0.000000\n",
      "3    0.575585\n",
      "4    0.000000\n",
      "5    0.000000\n",
      "Name: Anne Hathaway, dtype: float64\n",
      "0    0.000000\n",
      "1    0.005601\n",
      "2    0.000000\n",
      "3    0.422288\n",
      "4    0.000000\n",
      "5    0.000000\n",
      "Name: Denzel Washington, dtype: float64\n"
     ]
    }
   ],
   "source": [
    "# Import pandas\n",
    "import pandas as pd\n",
    "\n",
    "# Create a pandas DataFrame: df\n",
    "df = pd.DataFrame(nmf_features, index=titles)\n",
    "\n",
    "# Print the row for 'Anne Hathaway'\n",
    "print(df.loc['Anne Hathaway'])\n",
    "\n",
    "# Print the row for 'Denzel Washington'\n",
    "print(df.loc['Denzel Washington'])\n"
   ]
  },
  {
   "cell_type": "raw",
   "metadata": {},
   "source": [
    "Great work! Notice that for both actors, the NMF feature 3 has by far the highest value. This means that both articles are reconstructed using mainly the 3rd NMF component. In the next video, you'll see why: NMF components represent topics (for instance, acting!)."
   ]
  },
  {
   "cell_type": "markdown",
   "metadata": {},
   "source": [
    "## NMF reconstructs samples\n"
   ]
  },
  {
   "cell_type": "markdown",
   "metadata": {},
   "source": [
    "<p>In this exercise, you&apos;ll check your understanding of how NMF reconstructs samples from its components using the NMF feature values.  On the right are the components of an NMF model.  If the NMF feature values of a sample are <code>[2, 1]</code>, then which of the following is <em>most likely</em> to represent the original sample? A pen and paper will help here! You have to apply the same technique Ben used in the video to reconstruct the sample <code>[0.1203 0.1764 0.3195 0.141]</code>.</p>\n",
    "[[1.  0.5 0. ]\n",
    " [0.2 0.1 2.1]]"
   ]
  },
  {
   "cell_type": "markdown",
   "metadata": {},
   "source": [
    "Ansewr: [2.2, 1.1, 2.1]."
   ]
  },
  {
   "cell_type": "markdown",
   "metadata": {},
   "source": [
    "## NMF learns topics of documents"
   ]
  },
  {
   "cell_type": "markdown",
   "metadata": {},
   "source": [
    "<p>In the video, you learned when NMF is applied to documents, the components correspond to topics of documents, and the NMF features reconstruct the documents from the topics. Verify this for yourself for the NMF model that you built earlier using the Wikipedia articles.  Previously, you saw that the 3rd NMF feature value was high for the articles about actors Anne Hathaway and Denzel Washington. In this exercise, identify the topic of the corresponding NMF component.</p>\n",
    "<p>The NMF model you built earlier is available as <code>model</code>, while <code>words</code> is a list of the words that label the columns of the word-frequency array.</p>\n",
    "<p>After you are done, take a moment to recognise the topic that the articles about Anne Hathaway and Denzel Washington have in common!</p>"
   ]
  },
  {
   "cell_type": "markdown",
   "metadata": {},
   "source": [
    "<ul>\n",
    "<li>Import <code>pandas</code> as <code>pd</code>.</li>\n",
    "<li>Create a DataFrame <code>components_df</code> from <code>model.components_</code>, setting <code>columns=words</code> so that columns are labeled by the words.</li>\n",
    "<li>Print <code>components_df.shape</code> to check the dimensions of the DataFrame.</li>\n",
    "<li>Use the <code>.iloc[]</code> accessor on the DataFrame <code>components_df</code> to select row <code>3</code>. Assign the result to <code>component</code>.</li>\n",
    "<li>Call the <code>.nlargest()</code> method of <code>component</code>, and print the result.  This gives the five words with the highest values for that component.</li>\n",
    "</ul>"
   ]
  },
  {
   "cell_type": "code",
   "execution_count": 12,
   "metadata": {},
   "outputs": [
    {
     "data": {
      "text/plain": [
       "[['aaron'],\n",
       " ['abandon'],\n",
       " ['abandoned'],\n",
       " ['abandoning'],\n",
       " ['abandonment'],\n",
       " ['abbas'],\n",
       " ['abbey'],\n",
       " ['abbreviated'],\n",
       " ['abbreviation'],\n",
       " ['abc'],\n",
       " ['abdomen'],\n",
       " ['abdominal'],\n",
       " ['abdul'],\n",
       " ['abel'],\n",
       " ['abilities'],\n",
       " ['ability'],\n",
       " ['able'],\n",
       " ['abnormal'],\n",
       " ['abnormalities'],\n",
       " ['abnormally'],\n",
       " ['aboard'],\n",
       " ['abolish'],\n",
       " ['abolished'],\n",
       " ['abolishing'],\n",
       " ['abolition'],\n",
       " ['aboriginal'],\n",
       " ['abortion'],\n",
       " ['abraham'],\n",
       " ['abroad'],\n",
       " ['abrupt'],\n",
       " ['abruptly'],\n",
       " ['absence'],\n",
       " ['absent'],\n",
       " ['absolute'],\n",
       " ['absolutely'],\n",
       " ['absorb'],\n",
       " ['absorbed'],\n",
       " ['absorbing'],\n",
       " ['absorbs'],\n",
       " ['absorption'],\n",
       " ['abstract'],\n",
       " ['abstraction'],\n",
       " ['absurd'],\n",
       " ['abu'],\n",
       " ['abundance'],\n",
       " ['abundant'],\n",
       " ['abuse'],\n",
       " ['abused'],\n",
       " ['abuses'],\n",
       " ['abusive'],\n",
       " ['academia'],\n",
       " ['academic'],\n",
       " ['academics'],\n",
       " ['academies'],\n",
       " ['academy'],\n",
       " ['accelerate'],\n",
       " ['accelerated'],\n",
       " ['accelerating'],\n",
       " ['acceleration'],\n",
       " ['accent'],\n",
       " ['accents'],\n",
       " ['accept'],\n",
       " ['acceptable'],\n",
       " ['acceptance'],\n",
       " ['accepted'],\n",
       " ['accepting'],\n",
       " ['accepts'],\n",
       " ['access'],\n",
       " ['accessed'],\n",
       " ['accessible'],\n",
       " ['accessing'],\n",
       " ['accession'],\n",
       " ['accessories'],\n",
       " ['accessory'],\n",
       " ['accident'],\n",
       " ['accidental'],\n",
       " ['accidentally'],\n",
       " ['accidents'],\n",
       " ['acclaim'],\n",
       " ['acclaimed'],\n",
       " ['accolades'],\n",
       " ['accommodate'],\n",
       " ['accompanied'],\n",
       " ['accompaniment'],\n",
       " ['accompany'],\n",
       " ['accompanying'],\n",
       " ['accomplish'],\n",
       " ['accomplished'],\n",
       " ['accomplishment'],\n",
       " ['accomplishments'],\n",
       " ['accord'],\n",
       " ['accordance'],\n",
       " ['according'],\n",
       " ['accordingly'],\n",
       " ['account'],\n",
       " ['accountability'],\n",
       " ['accountable'],\n",
       " ['accounted'],\n",
       " ['accounting'],\n",
       " ['accounts'],\n",
       " ['accredited'],\n",
       " ['accumulate'],\n",
       " ['accumulated'],\n",
       " ['accumulation'],\n",
       " ['accuracy'],\n",
       " ['accurate'],\n",
       " ['accurately'],\n",
       " ['accusation'],\n",
       " ['accusations'],\n",
       " ['accused'],\n",
       " ['accusing'],\n",
       " ['ace'],\n",
       " ['achieve'],\n",
       " ['achieved'],\n",
       " ['achievement'],\n",
       " ['achievements'],\n",
       " ['achieves'],\n",
       " ['achieving'],\n",
       " ['acid'],\n",
       " ['acidic'],\n",
       " ['acids'],\n",
       " ['acknowledge'],\n",
       " ['acknowledged'],\n",
       " ['acknowledges'],\n",
       " ['acknowledging'],\n",
       " ['acoustic'],\n",
       " ['acquaintance'],\n",
       " ['acquainted'],\n",
       " ['acquire'],\n",
       " ['acquired'],\n",
       " ['acquiring'],\n",
       " ['acquisition'],\n",
       " ['acquisitions'],\n",
       " ['acquitted'],\n",
       " ['acre'],\n",
       " ['acres'],\n",
       " ['acronym'],\n",
       " ['act'],\n",
       " ['acted'],\n",
       " ['acting'],\n",
       " ['action'],\n",
       " ['actions'],\n",
       " ['activate'],\n",
       " ['activated'],\n",
       " ['activates'],\n",
       " ['activation'],\n",
       " ['active'],\n",
       " ['actively'],\n",
       " ['activism'],\n",
       " ['activist'],\n",
       " ['activists'],\n",
       " ['activities'],\n",
       " ['activity'],\n",
       " ['actor'],\n",
       " ['actors'],\n",
       " ['actress'],\n",
       " ['actresses'],\n",
       " ['acts'],\n",
       " ['actual'],\n",
       " ['actually'],\n",
       " ['acute'],\n",
       " ['adam'],\n",
       " ['adams'],\n",
       " ['adapt'],\n",
       " ['adaptation'],\n",
       " ['adaptations'],\n",
       " ['adapted'],\n",
       " ['adapting'],\n",
       " ['adaption'],\n",
       " ['adaptive'],\n",
       " ['add'],\n",
       " ['added'],\n",
       " ['addicted'],\n",
       " ['addiction'],\n",
       " ['adding'],\n",
       " ['addition'],\n",
       " ['additional'],\n",
       " ['additionally'],\n",
       " ['additions'],\n",
       " ['additive'],\n",
       " ['address'],\n",
       " ['addressed'],\n",
       " ['addresses'],\n",
       " ['addressing'],\n",
       " ['adds'],\n",
       " ['adept'],\n",
       " ['adequate'],\n",
       " ['adequately'],\n",
       " ['adhere'],\n",
       " ['adhered'],\n",
       " ['adherence'],\n",
       " ['adherents'],\n",
       " ['adjacent'],\n",
       " ['adjective'],\n",
       " ['adjoining'],\n",
       " ['adjust'],\n",
       " ['adjusted'],\n",
       " ['adjusting'],\n",
       " ['adjustment'],\n",
       " ['adjustments'],\n",
       " ['administer'],\n",
       " ['administered'],\n",
       " ['administering'],\n",
       " ['administration'],\n",
       " ['administrations'],\n",
       " ['administrative'],\n",
       " ['administrator'],\n",
       " ['administrators'],\n",
       " ['admiral'],\n",
       " ['admiration'],\n",
       " ['admired'],\n",
       " ['admission'],\n",
       " ['admissions'],\n",
       " ['admit'],\n",
       " ['admits'],\n",
       " ['admitted'],\n",
       " ['admitting'],\n",
       " ['adolescence'],\n",
       " ['adolescent'],\n",
       " ['adolescents'],\n",
       " ['adolf'],\n",
       " ['adopt'],\n",
       " ['adopted'],\n",
       " ['adopting'],\n",
       " ['adoption'],\n",
       " ['adrian'],\n",
       " ['ads'],\n",
       " ['adult'],\n",
       " ['adultery'],\n",
       " ['adulthood'],\n",
       " ['adults'],\n",
       " ['advance'],\n",
       " ['advanced'],\n",
       " ['advancement'],\n",
       " ['advances'],\n",
       " ['advancing'],\n",
       " ['advantage'],\n",
       " ['advantageous'],\n",
       " ['advantages'],\n",
       " ['advent'],\n",
       " ['adventure'],\n",
       " ['adventures'],\n",
       " ['adversary'],\n",
       " ['adverse'],\n",
       " ['adversely'],\n",
       " ['advertise'],\n",
       " ['advertised'],\n",
       " ['advertisement'],\n",
       " ['advertisements'],\n",
       " ['advertising'],\n",
       " ['advice'],\n",
       " ['advise'],\n",
       " ['advised'],\n",
       " ['adviser'],\n",
       " ['advisers'],\n",
       " ['advises'],\n",
       " ['advising'],\n",
       " ['advisor'],\n",
       " ['advisors'],\n",
       " ['advisory'],\n",
       " ['advocacy'],\n",
       " ['advocate'],\n",
       " ['advocated'],\n",
       " ['advocates'],\n",
       " ['advocating'],\n",
       " ['aerial'],\n",
       " ['aerospace'],\n",
       " ['aesthetic'],\n",
       " ['aesthetics'],\n",
       " ['affair'],\n",
       " ['affairs'],\n",
       " ['affect'],\n",
       " ['affected'],\n",
       " ['affecting'],\n",
       " ['affection'],\n",
       " ['affects'],\n",
       " ['affiliate'],\n",
       " ['affiliated'],\n",
       " ['affiliates'],\n",
       " ['affiliation'],\n",
       " ['affinity'],\n",
       " ['affirmative'],\n",
       " ['affirmed'],\n",
       " ['afflicted'],\n",
       " ['affluent'],\n",
       " ['afford'],\n",
       " ['affordable'],\n",
       " ['afforded'],\n",
       " ['afghan'],\n",
       " ['afghanistan'],\n",
       " ['aforementioned'],\n",
       " ['afraid'],\n",
       " ['africa'],\n",
       " ['african'],\n",
       " ['africans'],\n",
       " ['afro'],\n",
       " ['afterlife'],\n",
       " ['aftermath'],\n",
       " ['afternoon'],\n",
       " ['afterward'],\n",
       " ['age'],\n",
       " ['aged'],\n",
       " ['agencies'],\n",
       " ['agency'],\n",
       " ['agenda'],\n",
       " ['agent'],\n",
       " ['agents'],\n",
       " ['ages'],\n",
       " ['aggravated'],\n",
       " ['aggregate'],\n",
       " ['aggregator'],\n",
       " ['aggression'],\n",
       " ['aggressive'],\n",
       " ['aggressively'],\n",
       " ['aging'],\n",
       " ['agitation'],\n",
       " ['agnostic'],\n",
       " ['ago'],\n",
       " ['agrarian'],\n",
       " ['agree'],\n",
       " ['agreed'],\n",
       " ['agreeing'],\n",
       " ['agreement'],\n",
       " ['agreements'],\n",
       " ['agrees'],\n",
       " ['agricultural'],\n",
       " ['agriculture'],\n",
       " ['ahead'],\n",
       " ['ahmad'],\n",
       " ['ahmed'],\n",
       " ['aid'],\n",
       " ['aide'],\n",
       " ['aided'],\n",
       " ['aides'],\n",
       " ['aiding'],\n",
       " ['aids'],\n",
       " ['ailments'],\n",
       " ['aim'],\n",
       " ['aimed'],\n",
       " ['aiming'],\n",
       " ['aims'],\n",
       " ['ain'],\n",
       " ['air'],\n",
       " ['airborne'],\n",
       " ['aircraft'],\n",
       " ['aired'],\n",
       " ['airing'],\n",
       " ['airline'],\n",
       " ['airlines'],\n",
       " ['airplane'],\n",
       " ['airplanes'],\n",
       " ['airplay'],\n",
       " ['airport'],\n",
       " ['airports'],\n",
       " ['airs'],\n",
       " ['airways'],\n",
       " ['ajax'],\n",
       " ['aka'],\n",
       " ['akin'],\n",
       " ['alabama'],\n",
       " ['alan'],\n",
       " ['alarm'],\n",
       " ['alaska'],\n",
       " ['albania'],\n",
       " ['albeit'],\n",
       " ['albert'],\n",
       " ['alberto'],\n",
       " ['album'],\n",
       " ['albums'],\n",
       " ['alcohol'],\n",
       " ['alcoholic'],\n",
       " ['alcoholism'],\n",
       " ['alec'],\n",
       " ['alert'],\n",
       " ['alex'],\n",
       " ['alexander'],\n",
       " ['alexandra'],\n",
       " ['alexandre'],\n",
       " ['alexandria'],\n",
       " ['alexis'],\n",
       " ['alfred'],\n",
       " ['algae'],\n",
       " ['algeria'],\n",
       " ['algorithm'],\n",
       " ['algorithms'],\n",
       " ['ali'],\n",
       " ['alias'],\n",
       " ['alice'],\n",
       " ['alicia'],\n",
       " ['alien'],\n",
       " ['alienated'],\n",
       " ['alienation'],\n",
       " ['aliens'],\n",
       " ['align'],\n",
       " ['aligned'],\n",
       " ['alignment'],\n",
       " ['alike'],\n",
       " ['alive'],\n",
       " ['allan'],\n",
       " ['allegation'],\n",
       " ['allegations'],\n",
       " ['alleged'],\n",
       " ['allegedly'],\n",
       " ['allegiance'],\n",
       " ['alleging'],\n",
       " ['allegory'],\n",
       " ['allen'],\n",
       " ['allergic'],\n",
       " ['alleviate'],\n",
       " ['alley'],\n",
       " ['alliance'],\n",
       " ['alliances'],\n",
       " ['allied'],\n",
       " ['allies'],\n",
       " ['allmusic'],\n",
       " ['allocated'],\n",
       " ['allocation'],\n",
       " ['allow'],\n",
       " ['allowance'],\n",
       " ['allowed'],\n",
       " ['allowing'],\n",
       " ['allows'],\n",
       " ['alloy'],\n",
       " ['allusions'],\n",
       " ['ally'],\n",
       " ['alma'],\n",
       " ['alongside'],\n",
       " ['alpha'],\n",
       " ['alphabet'],\n",
       " ['alpine'],\n",
       " ['alps'],\n",
       " ['alt'],\n",
       " ['altar'],\n",
       " ['alter'],\n",
       " ['alteration'],\n",
       " ['alterations'],\n",
       " ['altercation'],\n",
       " ['altered'],\n",
       " ['altering'],\n",
       " ['alternate'],\n",
       " ['alternately'],\n",
       " ['alternating'],\n",
       " ['alternative'],\n",
       " ['alternatively'],\n",
       " ['alternatives'],\n",
       " ['altitude'],\n",
       " ['altitudes'],\n",
       " ['alto'],\n",
       " ['altogether'],\n",
       " ['aluminium'],\n",
       " ['aluminum'],\n",
       " ['alumni'],\n",
       " ['amanda'],\n",
       " ['amassed'],\n",
       " ['amateur'],\n",
       " ['amazing'],\n",
       " ['amazon'],\n",
       " ['ambassador'],\n",
       " ['ambassadors'],\n",
       " ['amber'],\n",
       " ['ambient'],\n",
       " ['ambiguity'],\n",
       " ['ambiguous'],\n",
       " ['ambition'],\n",
       " ['ambitions'],\n",
       " ['ambitious'],\n",
       " ['ambulance'],\n",
       " ['ambush'],\n",
       " ['ambushed'],\n",
       " ['amended'],\n",
       " ['amendment'],\n",
       " ['amendments'],\n",
       " ['america'],\n",
       " ['american'],\n",
       " ['americans'],\n",
       " ['americas'],\n",
       " ['amid'],\n",
       " ['amidst'],\n",
       " ['amino'],\n",
       " ['ammonia'],\n",
       " ['ammunition'],\n",
       " ['amnesty'],\n",
       " ['amounted'],\n",
       " ['amounting'],\n",
       " ['amounts'],\n",
       " ['amphibians'],\n",
       " ['ample'],\n",
       " ['amplification'],\n",
       " ['amsterdam'],\n",
       " ['amusement'],\n",
       " ['amy'],\n",
       " ['ana'],\n",
       " ['anal'],\n",
       " ['analog'],\n",
       " ['analogous'],\n",
       " ['analogue'],\n",
       " ['analogy'],\n",
       " ['analyses'],\n",
       " ['analysis'],\n",
       " ['analyst'],\n",
       " ['analysts'],\n",
       " ['analytical'],\n",
       " ['analyze'],\n",
       " ['analyzed'],\n",
       " ['analyzing'],\n",
       " ['anarchy'],\n",
       " ['anatolia'],\n",
       " ['anatomical'],\n",
       " ['anatomy'],\n",
       " ['ancestor'],\n",
       " ['ancestors'],\n",
       " ['ancestral'],\n",
       " ['ancestry'],\n",
       " ['anchor'],\n",
       " ['anchored'],\n",
       " ['ancient'],\n",
       " ['anderson'],\n",
       " ['andr'],\n",
       " ['andrea'],\n",
       " ['andrew'],\n",
       " ['andrews'],\n",
       " ['android'],\n",
       " ['andy'],\n",
       " ['anemia'],\n",
       " ['angel'],\n",
       " ['angela'],\n",
       " ['angeles'],\n",
       " ['angelo'],\n",
       " ['angels'],\n",
       " ['anger'],\n",
       " ['angered'],\n",
       " ['angle'],\n",
       " ['angles'],\n",
       " ['anglican'],\n",
       " ['anglo'],\n",
       " ['angola'],\n",
       " ['angrily'],\n",
       " ['angry'],\n",
       " ['angular'],\n",
       " ['animal'],\n",
       " ['animals'],\n",
       " ['animated'],\n",
       " ['animation'],\n",
       " ['anime'],\n",
       " ['animosity'],\n",
       " ['ankle'],\n",
       " ['ann'],\n",
       " ['anna'],\n",
       " ['anne'],\n",
       " ['annex'],\n",
       " ['annexation'],\n",
       " ['annexed'],\n",
       " ['annie'],\n",
       " ['anniversary'],\n",
       " ['announce'],\n",
       " ['announced'],\n",
       " ['announcement'],\n",
       " ['announcements'],\n",
       " ['announcing'],\n",
       " ['annual'],\n",
       " ['annually'],\n",
       " ['anonymous'],\n",
       " ['anonymously'],\n",
       " ['answer'],\n",
       " ['answered'],\n",
       " ['answering'],\n",
       " ['answers'],\n",
       " ['ant'],\n",
       " ['antagonist'],\n",
       " ['antagonists'],\n",
       " ['antarctic'],\n",
       " ['antarctica'],\n",
       " ['anterior'],\n",
       " ['anthem'],\n",
       " ['anthology'],\n",
       " ['anthony'],\n",
       " ['anthropogenic'],\n",
       " ['anthropologist'],\n",
       " ['anthropology'],\n",
       " ['anti'],\n",
       " ['antibiotics'],\n",
       " ['antibodies'],\n",
       " ['anticipated'],\n",
       " ['anticipation'],\n",
       " ['antics'],\n",
       " ['antiquity'],\n",
       " ['antoine'],\n",
       " ['anton'],\n",
       " ['antonio'],\n",
       " ['anus'],\n",
       " ['anxiety'],\n",
       " ['anxious'],\n",
       " ['anybody'],\n",
       " ['anymore'],\n",
       " ['apache'],\n",
       " ['apart'],\n",
       " ['apartheid'],\n",
       " ['apartment'],\n",
       " ['apartments'],\n",
       " ['apex'],\n",
       " ['api'],\n",
       " ['apocalypse'],\n",
       " ['apocalyptic'],\n",
       " ['apollo'],\n",
       " ['apologize'],\n",
       " ['apologized'],\n",
       " ['apology'],\n",
       " ['app'],\n",
       " ['appalled'],\n",
       " ['apparatus'],\n",
       " ['apparel'],\n",
       " ['apparent'],\n",
       " ['apparently'],\n",
       " ['appeal'],\n",
       " ['appealed'],\n",
       " ['appealing'],\n",
       " ['appeals'],\n",
       " ['appear'],\n",
       " ['appearance'],\n",
       " ['appearances'],\n",
       " ['appeared'],\n",
       " ['appearing'],\n",
       " ['appears'],\n",
       " ['appetite'],\n",
       " ['applauded'],\n",
       " ['applause'],\n",
       " ['apple'],\n",
       " ['apples'],\n",
       " ['applicable'],\n",
       " ['applicants'],\n",
       " ['application'],\n",
       " ['applications'],\n",
       " ['applied'],\n",
       " ['applies'],\n",
       " ['apply'],\n",
       " ['applying'],\n",
       " ['appoint'],\n",
       " ['appointed'],\n",
       " ['appointing'],\n",
       " ['appointment'],\n",
       " ['appointments'],\n",
       " ['appoints'],\n",
       " ['appreciate'],\n",
       " ['appreciated'],\n",
       " ['appreciation'],\n",
       " ['apprentice'],\n",
       " ['approach'],\n",
       " ['approached'],\n",
       " ['approaches'],\n",
       " ['approaching'],\n",
       " ['appropriate'],\n",
       " ['appropriately'],\n",
       " ['approval'],\n",
       " ['approve'],\n",
       " ['approved'],\n",
       " ['approving'],\n",
       " ['approximate'],\n",
       " ['approximately'],\n",
       " ['approximation'],\n",
       " ['apps'],\n",
       " ['april'],\n",
       " ['aquatic'],\n",
       " ['arab'],\n",
       " ['arabia'],\n",
       " ['arabian'],\n",
       " ['arabic'],\n",
       " ['arable'],\n",
       " ['arabs'],\n",
       " ['arbitrarily'],\n",
       " ['arbitrary'],\n",
       " ['arbitration'],\n",
       " ['arc'],\n",
       " ['arcade'],\n",
       " ['arch'],\n",
       " ['archaeological'],\n",
       " ['archaeologists'],\n",
       " ['archaeology'],\n",
       " ['archaic'],\n",
       " ['archbishop'],\n",
       " ['archer'],\n",
       " ['archipelago'],\n",
       " ['architect'],\n",
       " ['architects'],\n",
       " ['architectural'],\n",
       " ['architecture'],\n",
       " ['archive'],\n",
       " ['archives'],\n",
       " ['arctic'],\n",
       " ['area'],\n",
       " ['areas'],\n",
       " ['aren'],\n",
       " ['arena'],\n",
       " ['arenas'],\n",
       " ['argentina'],\n",
       " ['argentine'],\n",
       " ['arguably'],\n",
       " ['argue'],\n",
       " ['argued'],\n",
       " ['argues'],\n",
       " ['arguing'],\n",
       " ['argument'],\n",
       " ['arguments'],\n",
       " ['arid'],\n",
       " ['arise'],\n",
       " ['arisen'],\n",
       " ['arises'],\n",
       " ['arising'],\n",
       " ['aristocracy'],\n",
       " ['aristocratic'],\n",
       " ['aristocrats'],\n",
       " ['aristotle'],\n",
       " ['arithmetic'],\n",
       " ['arizona'],\n",
       " ['arkansas'],\n",
       " ['arm'],\n",
       " ['armed'],\n",
       " ['armenia'],\n",
       " ['armenian'],\n",
       " ['armies'],\n",
       " ['armistice'],\n",
       " ['armor'],\n",
       " ['armored'],\n",
       " ['arms'],\n",
       " ['armstrong'],\n",
       " ['army'],\n",
       " ['arnold'],\n",
       " ['arose'],\n",
       " ['arousal'],\n",
       " ['aroused'],\n",
       " ['arrange'],\n",
       " ['arranged'],\n",
       " ['arrangement'],\n",
       " ['arrangements'],\n",
       " ['arranging'],\n",
       " ['array'],\n",
       " ['arrest'],\n",
       " ['arrested'],\n",
       " ['arresting'],\n",
       " ['arrests'],\n",
       " ['arrival'],\n",
       " ['arrivals'],\n",
       " ['arrive'],\n",
       " ['arrived'],\n",
       " ['arrives'],\n",
       " ['arriving'],\n",
       " ['arrow'],\n",
       " ['arrows'],\n",
       " ['arsenal'],\n",
       " ['art'],\n",
       " ['arteries'],\n",
       " ['artery'],\n",
       " ['arthur'],\n",
       " ['article'],\n",
       " ['articles'],\n",
       " ['articulated'],\n",
       " ['artifacts'],\n",
       " ['artificial'],\n",
       " ['artificially'],\n",
       " ['artillery'],\n",
       " ['artisans'],\n",
       " ['artist'],\n",
       " ['artistic'],\n",
       " ['artistry'],\n",
       " ['artists'],\n",
       " ['arts'],\n",
       " ['artwork'],\n",
       " ['aryan'],\n",
       " ['ascended'],\n",
       " ['ascertain'],\n",
       " ['ascribed'],\n",
       " ['ash'],\n",
       " ['ashes'],\n",
       " ['ashley'],\n",
       " ['ashton'],\n",
       " ['asia'],\n",
       " ['asian'],\n",
       " ['asians'],\n",
       " ['asiatic'],\n",
       " ['aside'],\n",
       " ['ask'],\n",
       " ['asked'],\n",
       " ['asking'],\n",
       " ['asks'],\n",
       " ['asleep'],\n",
       " ['aspect'],\n",
       " ['aspects'],\n",
       " ['aspirations'],\n",
       " ['aspiring'],\n",
       " ['ass'],\n",
       " ['assassin'],\n",
       " ['assassinate'],\n",
       " ['assassinated'],\n",
       " ['assassination'],\n",
       " ['assassinations'],\n",
       " ['assassins'],\n",
       " ['assault'],\n",
       " ['assaulted'],\n",
       " ['assaults'],\n",
       " ['assemble'],\n",
       " ['assembled'],\n",
       " ['assemblies'],\n",
       " ['assembly'],\n",
       " ['assert'],\n",
       " ['asserted'],\n",
       " ['asserting'],\n",
       " ['assertion'],\n",
       " ['assertions'],\n",
       " ['asserts'],\n",
       " ['assess'],\n",
       " ['assessed'],\n",
       " ['assessing'],\n",
       " ['assessment'],\n",
       " ['assessments'],\n",
       " ['asset'],\n",
       " ['assets'],\n",
       " ['assign'],\n",
       " ['assigned'],\n",
       " ['assignment'],\n",
       " ['assigns'],\n",
       " ['assimilated'],\n",
       " ['assimilation'],\n",
       " ['assist'],\n",
       " ['assistance'],\n",
       " ['assistant'],\n",
       " ['assistants'],\n",
       " ['assisted'],\n",
       " ['assisting'],\n",
       " ['assists'],\n",
       " ['associate'],\n",
       " ['associated'],\n",
       " ['associates'],\n",
       " ['association'],\n",
       " ['associations'],\n",
       " ['assortment'],\n",
       " ['assume'],\n",
       " ['assumed'],\n",
       " ['assumes'],\n",
       " ['assuming'],\n",
       " ['assumption'],\n",
       " ['assumptions'],\n",
       " ['assurance'],\n",
       " ['assure'],\n",
       " ['assured'],\n",
       " ['asteroid'],\n",
       " ['asthma'],\n",
       " ['astonishing'],\n",
       " ['astronaut'],\n",
       " ['astronauts'],\n",
       " ['astronomer'],\n",
       " ['astronomers'],\n",
       " ['astronomical'],\n",
       " ['astronomy'],\n",
       " ['asylum'],\n",
       " ['ate'],\n",
       " ['atheist'],\n",
       " ['atheists'],\n",
       " ['athens'],\n",
       " ['athlete'],\n",
       " ['athletes'],\n",
       " ['athletic'],\n",
       " ['athletics'],\n",
       " ['atlanta'],\n",
       " ['atlantic'],\n",
       " ['atlas'],\n",
       " ['atm'],\n",
       " ['atmosphere'],\n",
       " ['atmospheric'],\n",
       " ['atom'],\n",
       " ['atomic'],\n",
       " ['atoms'],\n",
       " ['atop'],\n",
       " ['atp'],\n",
       " ['atrocities'],\n",
       " ['attach'],\n",
       " ['attached'],\n",
       " ['attachment'],\n",
       " ['attack'],\n",
       " ['attacked'],\n",
       " ['attackers'],\n",
       " ['attacking'],\n",
       " ['attacks'],\n",
       " ['attain'],\n",
       " ['attained'],\n",
       " ['attaining'],\n",
       " ['attempt'],\n",
       " ['attempted'],\n",
       " ['attempting'],\n",
       " ['attempts'],\n",
       " ['attend'],\n",
       " ['attendance'],\n",
       " ['attendant'],\n",
       " ['attended'],\n",
       " ['attending'],\n",
       " ['attends'],\n",
       " ['attention'],\n",
       " ['attested'],\n",
       " ['attire'],\n",
       " ['attitude'],\n",
       " ['attitudes'],\n",
       " ['attorney'],\n",
       " ['attorneys'],\n",
       " ['attract'],\n",
       " ['attracted'],\n",
       " ['attracting'],\n",
       " ['attraction'],\n",
       " ['attractions'],\n",
       " ['attractive'],\n",
       " ['attracts'],\n",
       " ['attributable'],\n",
       " ['attribute'],\n",
       " ['attributed'],\n",
       " ['attributes'],\n",
       " ['attributing'],\n",
       " ['atypical'],\n",
       " ['auction'],\n",
       " ['auctioned'],\n",
       " ['audience'],\n",
       " ['audiences'],\n",
       " ['audio'],\n",
       " ['audition'],\n",
       " ['auditioned'],\n",
       " ['auditioning'],\n",
       " ['auditions'],\n",
       " ['auditorium'],\n",
       " ['augmented'],\n",
       " ['august'],\n",
       " ['augustine'],\n",
       " ['augustus'],\n",
       " ['aunt'],\n",
       " ['auspices'],\n",
       " ['austin'],\n",
       " ['australia'],\n",
       " ['australian'],\n",
       " ['australians'],\n",
       " ['austria'],\n",
       " ['austrian'],\n",
       " ['authentic'],\n",
       " ['authentication'],\n",
       " ['authenticity'],\n",
       " ['author'],\n",
       " ['authored'],\n",
       " ['authorised'],\n",
       " ['authoritarian'],\n",
       " ['authorities'],\n",
       " ['authority'],\n",
       " ['authorization'],\n",
       " ['authorized'],\n",
       " ['authors'],\n",
       " ['authorship'],\n",
       " ['autism'],\n",
       " ['auto'],\n",
       " ['autobiographical'],\n",
       " ['autobiography'],\n",
       " ['automated'],\n",
       " ['automatic'],\n",
       " ['automatically'],\n",
       " ['automobile'],\n",
       " ['automobiles'],\n",
       " ['automotive'],\n",
       " ['autonomous'],\n",
       " ['autonomy'],\n",
       " ['autopsy'],\n",
       " ['autumn'],\n",
       " ['auxiliary'],\n",
       " ['availability'],\n",
       " ['available'],\n",
       " ['avant'],\n",
       " ['avatar'],\n",
       " ['avenue'],\n",
       " ['avenues'],\n",
       " ['average'],\n",
       " ['averaged'],\n",
       " ['averages'],\n",
       " ['averaging'],\n",
       " ['aviation'],\n",
       " ['avid'],\n",
       " ['avoid'],\n",
       " ['avoidance'],\n",
       " ['avoided'],\n",
       " ['avoiding'],\n",
       " ['avoids'],\n",
       " ['awaiting'],\n",
       " ['awakening'],\n",
       " ['award'],\n",
       " ['awarded'],\n",
       " ['awards'],\n",
       " ['aware'],\n",
       " ['awareness'],\n",
       " ['away'],\n",
       " ['awful'],\n",
       " ['awkward'],\n",
       " ['axe'],\n",
       " ['axis'],\n",
       " ['azerbaijan'],\n",
       " ['babies'],\n",
       " ['baby'],\n",
       " ['babylonian'],\n",
       " ['bachelor'],\n",
       " ['backbone'],\n",
       " ['backdrop'],\n",
       " ...]"
      ]
     },
     "execution_count": 12,
     "metadata": {},
     "output_type": "execute_result"
    }
   ],
   "source": [
    "words = pd.read_csv('datasets/Wikipedia articles/wikipedia-vocabulary-utf8.txt', header=None)\n",
    "words.values.tolist()"
   ]
  },
  {
   "cell_type": "code",
   "execution_count": 13,
   "metadata": {},
   "outputs": [
    {
     "name": "stdout",
     "output_type": "stream",
     "text": [
      "(6, 13125)\n",
      "(film,)       0.628013\n",
      "(award,)      0.253187\n",
      "(starred,)    0.245338\n",
      "(role,)       0.211497\n",
      "(actress,)    0.186438\n",
      "Name: 3, dtype: float64\n"
     ]
    }
   ],
   "source": [
    "# Import pandas\n",
    "import pandas as pd\n",
    "\n",
    "# Create a DataFrame: components_df\n",
    "components_df = pd.DataFrame(model.components_, columns=words)\n",
    "\n",
    "# Print the shape of the DataFrame\n",
    "print(components_df.shape)\n",
    "\n",
    "# Select row 3: component\n",
    "component = components_df.iloc[3]\n",
    "\n",
    "# Print result of nlargest\n",
    "print(component.nlargest())\n"
   ]
  },
  {
   "cell_type": "raw",
   "metadata": {},
   "source": [
    "Great work! Take a moment to recognise the topics that the articles about Anne Hathaway and Denzel Washington have in common!"
   ]
  },
  {
   "cell_type": "markdown",
   "metadata": {},
   "source": [
    "## Explore the LED digits dataset\n"
   ]
  },
  {
   "cell_type": "markdown",
   "metadata": {},
   "source": [
    "<p>In the following exercises, you&apos;ll use NMF to decompose grayscale images into their commonly occurring patterns.  Firstly, explore the image dataset and see how it is encoded as an array.  You are given 100 images as a 2D array <code>samples</code>, where each row represents a single 13x8 image. The images in your dataset are pictures of a LED digital display.</p>"
   ]
  },
  {
   "cell_type": "markdown",
   "metadata": {},
   "source": [
    "<ul>\n",
    "<li>Import <code>matplotlib.pyplot</code> as <code>plt</code>.</li>\n",
    "<li>Select row <code>0</code> of <code>samples</code> and assign the result to <code>digit</code>. For example, to select column <code>2</code> of an array <code>a</code>, you could use <code>a[:,2]</code>. Remember that since <code>samples</code> is a NumPy array, you can&apos;t use the <code>.loc[]</code> or <code>iloc[]</code> accessors to select specific rows or columns.</li>\n",
    "<li>Print <code>digit</code>. This has been done for you. Notice that it is a 1D array of 0s and 1s.</li>\n",
    "<li>Use the <code>.reshape()</code> method of <code>digit</code> to get a 2D array with shape <code>(13, 8)</code>. Assign the result to <code>bitmap</code>.</li>\n",
    "<li>Print <code>bitmap</code>, and notice that the 1s show the digit 7!</li>\n",
    "<li>Use the <code>plt.imshow()</code> function to display <code>bitmap</code> as an image.</li>\n",
    "</ul>"
   ]
  },
  {
   "cell_type": "code",
   "execution_count": 17,
   "metadata": {},
   "outputs": [
    {
     "data": {
      "text/plain": [
       "(99, 104)"
      ]
     },
     "execution_count": 17,
     "metadata": {},
     "output_type": "execute_result"
    }
   ],
   "source": [
    "samples = pd.read_csv('datasets/lcd-digits.csv')\n",
    "samples=samples.to_numpy()\n",
    "samples.shape"
   ]
  },
  {
   "cell_type": "code",
   "execution_count": 21,
   "metadata": {},
   "outputs": [
    {
     "name": "stdout",
     "output_type": "stream",
     "text": [
      "[0. 0. 0. 0. 0. 0. 0. 0. 0. 0. 1. 1. 1. 1. 0. 0. 0. 1. 0. 0. 0. 0. 1. 0.\n",
      " 0. 1. 0. 0. 0. 0. 1. 0. 0. 1. 0. 0. 0. 0. 1. 0. 0. 1. 0. 0. 0. 0. 1. 0.\n",
      " 0. 0. 1. 1. 1. 1. 0. 0. 0. 0. 0. 0. 0. 0. 0. 0. 0. 0. 0. 0. 0. 0. 0. 0.\n",
      " 0. 0. 0. 0. 0. 0. 0. 0. 0. 0. 0. 0. 0. 0. 0. 0. 0. 0. 0. 0. 0. 0. 0. 0.\n",
      " 0. 0. 0. 0. 0. 0. 0. 0.]\n",
      "[[0. 0. 0. 0. 0. 0. 0. 0.]\n",
      " [0. 0. 1. 1. 1. 1. 0. 0.]\n",
      " [0. 1. 0. 0. 0. 0. 1. 0.]\n",
      " [0. 1. 0. 0. 0. 0. 1. 0.]\n",
      " [0. 1. 0. 0. 0. 0. 1. 0.]\n",
      " [0. 1. 0. 0. 0. 0. 1. 0.]\n",
      " [0. 0. 1. 1. 1. 1. 0. 0.]\n",
      " [0. 0. 0. 0. 0. 0. 0. 0.]\n",
      " [0. 0. 0. 0. 0. 0. 0. 0.]\n",
      " [0. 0. 0. 0. 0. 0. 0. 0.]\n",
      " [0. 0. 0. 0. 0. 0. 0. 0.]\n",
      " [0. 0. 0. 0. 0. 0. 0. 0.]\n",
      " [0. 0. 0. 0. 0. 0. 0. 0.]]\n"
     ]
    },
    {
     "data": {
      "image/png": "[encoded data removed]",
      "text/plain": [
       "<Figure size 432x288 with 2 Axes>"
      ]
     },
     "metadata": {
      "needs_background": "light"
     },
     "output_type": "display_data"
    }
   ],
   "source": [
    "# Import pyplot\n",
    "from matplotlib import pyplot as plt\n",
    "\n",
    "# Select the 0th row: digit\n",
    "digit = samples[0,:]\n",
    "\n",
    "# Print digit\n",
    "print(digit)\n",
    "\n",
    "# Reshape digit to a 13x8 array: bitmap\n",
    "bitmap = digit.reshape((13, 8))\n",
    "\n",
    "# Print bitmap\n",
    "print(bitmap)\n",
    "\n",
    "# Use plt.imshow to display bitmap\n",
    "plt.imshow(bitmap, cmap='gray', interpolation='nearest')\n",
    "#plt.figure()\n",
    "plt.colorbar()\n",
    "plt.show()\n"
   ]
  },
  {
   "cell_type": "raw",
   "metadata": {},
   "source": [
    "Excellent job! You'll explore this dataset further in the next exercise and see for yourself how NMF can learn the parts of images."
   ]
  },
  {
   "cell_type": "markdown",
   "metadata": {},
   "source": [
    "## NMF learns the parts of images"
   ]
  },
  {
   "cell_type": "markdown",
   "metadata": {},
   "source": [
    "<p>Now use what you&apos;ve learned about NMF to decompose the digits dataset. You are again given the digit images as a 2D array <code>samples</code>. This time, you are also provided with a function <code>show_as_image()</code> that displays the image encoded by any 1D array:</p>\n",
    "\n",
    "<p>After you are done, take a moment to look through the plots and notice how NMF has expressed the digit as a sum of the components!</p>"
   ]
  },
  {
   "cell_type": "code",
   "execution_count": 24,
   "metadata": {},
   "outputs": [],
   "source": [
    "def show_as_image(sample):\n",
    "    bitmap = sample.reshape((13, 8))\n",
    "    plt.figure()\n",
    "    plt.imshow(bitmap, cmap='gray', interpolation='nearest')\n",
    "    plt.colorbar()\n",
    "    plt.show()\n"
   ]
  },
  {
   "cell_type": "markdown",
   "metadata": {},
   "source": [
    "<ul>\n",
    "<li>Import <code>NMF</code> from <code>sklearn.decomposition</code>.</li>\n",
    "<li>Create an <code>NMF</code> instance called <code>model</code> with <code>7</code> components. (7 is the number of cells in an LED display).</li>\n",
    "<li>Apply the <code>.fit_transform()</code> method of <code>model</code> to <code>samples</code>. Assign the result to <code>features</code>.</li>\n",
    "<li>To each component of the model (accessed via <code>model.components_</code>), apply the <code>show_as_image()</code> function to that component inside the loop.</li>\n",
    "<li>Assign the row <code>0</code> of <code>features</code> to <code>digit_features</code>.</li>\n",
    "<li>Print <code>digit_features</code>.</li>\n",
    "</ul>"
   ]
  },
  {
   "cell_type": "code",
   "execution_count": 25,
   "metadata": {},
   "outputs": [
    {
     "data": {
      "image/png": "[encoded data removed]",
      "text/plain": [
       "<Figure size 432x288 with 2 Axes>"
      ]
     },
     "metadata": {
      "needs_background": "light"
     },
     "output_type": "display_data"
    },
    {
     "data": {
      "image/png": "[encoded data removed]",
      "text/plain": [
       "<Figure size 432x288 with 2 Axes>"
      ]
     },
     "metadata": {
      "needs_background": "light"
     },
     "output_type": "display_data"
    },
    {
     "data": {
      "image/png": "[encoded data removed]",
      "text/plain": [
       "<Figure size 432x288 with 2 Axes>"
      ]
     },
     "metadata": {
      "needs_background": "light"
     },
     "output_type": "display_data"
    },
    {
     "data": {
      "image/png": "[encoded data removed]",
      "text/plain": [
       "<Figure size 432x288 with 2 Axes>"
      ]
     },
     "metadata": {
      "needs_background": "light"
     },
     "output_type": "display_data"
    },
    {
     "data": {
      "image/png": "[encoded data removed]",
      "text/plain": [
       "<Figure size 432x288 with 2 Axes>"
      ]
     },
     "metadata": {
      "needs_background": "light"
     },
     "output_type": "display_data"
    },
    {
     "data": {
      "image/png": "[encoded data removed]",
      "text/plain": [
       "<Figure size 432x288 with 2 Axes>"
      ]
     },
     "metadata": {
      "needs_background": "light"
     },
     "output_type": "display_data"
    },
    {
     "data": {
      "image/png": "[encoded data removed]",
      "text/plain": [
       "<Figure size 432x288 with 2 Axes>"
      ]
     },
     "metadata": {
      "needs_background": "light"
     },
     "output_type": "display_data"
    },
    {
     "name": "stdout",
     "output_type": "stream",
     "text": [
      "[0.56389272 0.         0.59151401 0.         0.53290007 0.48133215\n",
      " 0.        ]\n"
     ]
    }
   ],
   "source": [
    "# Import NMF\n",
    "from sklearn.decomposition import NMF\n",
    "\n",
    "# Create an NMF model: model\n",
    "model = NMF(n_components=7)\n",
    "\n",
    "# Apply fit_transform to samples: features\n",
    "features = model.fit_transform(samples)\n",
    "\n",
    "# Call show_as_image on each component\n",
    "for component in model.components_:\n",
    "    show_as_image(component)\n",
    "\n",
    "# Select the 0th row of features: digit_features\n",
    "digit_features = features[0,:]\n",
    "\n",
    "# Print digit_features\n",
    "print(digit_features)"
   ]
  },
  {
   "cell_type": "raw",
   "metadata": {},
   "source": [
    "Great work! Take a moment to look through the plots and notice how NMF has expressed the digit as a sum of the components!"
   ]
  },
  {
   "cell_type": "markdown",
   "metadata": {},
   "source": [
    "## PCA doesn't learn parts\n"
   ]
  },
  {
   "cell_type": "markdown",
   "metadata": {},
   "source": [
    "<p>Unlike NMF, PCA <em>doesn&apos;t</em> learn the parts of things.  Its components do not correspond to topics (in the case of documents) or to parts of images, when trained on images.  Verify this for yourself by inspecting the components of a PCA model fit to the dataset of LED digit images from the previous exercise.  The images are available as a 2D array <code>samples</code>.  Also available is a modified version of the <code>show_as_image()</code> function which colors a pixel red if the value is negative.</p>\n",
    "<p>After submitting the answer, notice that the components of PCA do not represent meaningful parts of images of LED digits!</p>"
   ]
  },
  {
   "cell_type": "markdown",
   "metadata": {},
   "source": [
    "<ul>\n",
    "<li>Import <code>PCA</code> from <code>sklearn.decomposition</code>.</li>\n",
    "<li>Create a <code>PCA</code> instance called <code>model</code> with <code>7</code> components. </li>\n",
    "<li>Apply the <code>.fit_transform()</code> method of <code>model</code> to <code>samples</code>. Assign the result to <code>features</code>.</li>\n",
    "<li>To each component of the model (accessed via <code>model.components_</code>), apply the <code>show_as_image()</code> function to that component inside the loop.</li>\n",
    "</ul>"
   ]
  },
  {
   "cell_type": "code",
   "execution_count": 26,
   "metadata": {},
   "outputs": [
    {
     "data": {
      "image/png": "[encoded data removed]",
      "text/plain": [
       "<Figure size 432x288 with 2 Axes>"
      ]
     },
     "metadata": {
      "needs_background": "light"
     },
     "output_type": "display_data"
    },
    {
     "data": {
      "image/png": "[encoded data removed]",
      "text/plain": [
       "<Figure size 432x288 with 2 Axes>"
      ]
     },
     "metadata": {
      "needs_background": "light"
     },
     "output_type": "display_data"
    },
    {
     "data": {
      "image/png": "[encoded data removed]",
      "text/plain": [
       "<Figure size 432x288 with 2 Axes>"
      ]
     },
     "metadata": {
      "needs_background": "light"
     },
     "output_type": "display_data"
    },
    {
     "data": {
      "image/png": "[encoded data removed]",
      "text/plain": [
       "<Figure size 432x288 with 2 Axes>"
      ]
     },
     "metadata": {
      "needs_background": "light"
     },
     "output_type": "display_data"
    },
    {
     "data": {
      "image/png": "[encoded data removed]",
      "text/plain": [
       "<Figure size 432x288 with 2 Axes>"
      ]
     },
     "metadata": {
      "needs_background": "light"
     },
     "output_type": "display_data"
    },
    {
     "data": {
      "image/png": "[encoded data removed]",
      "text/plain": [
       "<Figure size 432x288 with 2 Axes>"
      ]
     },
     "metadata": {
      "needs_background": "light"
     },
     "output_type": "display_data"
    },
    {
     "data": {
      "image/png": "[encoded data removed]",
      "text/plain": [
       "<Figure size 432x288 with 2 Axes>"
      ]
     },
     "metadata": {
      "needs_background": "light"
     },
     "output_type": "display_data"
    }
   ],
   "source": [
    "# Import PCA\n",
    "from sklearn.decomposition import PCA\n",
    "\n",
    "# Create a PCA instance: model\n",
    "model = PCA(n_components=7)\n",
    "\n",
    "# Apply fit_transform to samples: features\n",
    "features = model.fit_transform(samples)\n",
    "\n",
    "# Call show_as_image on each component\n",
    "for component in model.components_:\n",
    "    show_as_image(component)\n",
    "    "
   ]
  },
  {
   "cell_type": "raw",
   "metadata": {},
   "source": [
    "Great work! Notice that the components of PCA do not represent meaningful parts of images of LED digits!"
   ]
  },
  {
   "cell_type": "markdown",
   "metadata": {},
   "source": [
    "## Which articles are similar to 'Cristiano Ronaldo'?"
   ]
  },
  {
   "cell_type": "markdown",
   "metadata": {},
   "source": [
    "<p>In the video, you learned how to use NMF features and the cosine similarity to find similar articles.\n",
    "Apply this to your NMF model for popular Wikipedia articles, by finding the articles most similar to the article about the footballer Cristiano Ronaldo.  The NMF features you obtained earlier are available as <code>nmf_features</code>, while <code>titles</code> is a list of the article titles.</p>"
   ]
  },
  {
   "cell_type": "markdown",
   "metadata": {},
   "source": [
    "<ul>\n",
    "<li>Import <code>normalize</code> from <code>sklearn.preprocessing</code>.</li>\n",
    "<li>Apply the <code>normalize()</code> function to <code>nmf_features</code>. Store the result as <code>norm_features</code>.</li>\n",
    "<li>Create a DataFrame <code>df</code> from <code>norm_features</code>, using <code>titles</code> as an index.</li>\n",
    "<li>Use the <code>.loc[]</code> accessor of <code>df</code> to select the row of <code>&apos;Cristiano Ronaldo&apos;</code>. Assign the result to <code>article</code>. </li>\n",
    "<li>Apply the <code>.dot()</code> method of <code>df</code> to <code>article</code> to calculate the cosine similarity of every row with <code>article</code>.</li>\n",
    "<li>Print the result of the <code>.nlargest()</code> method of <code>similarities</code> to display the most similiar articles. This has been done for you, so hit &apos;Submit Answer&apos; to see the result!</li>\n",
    "</ul>"
   ]
  },
  {
   "cell_type": "code",
   "execution_count": 27,
   "metadata": {},
   "outputs": [
    {
     "name": "stdout",
     "output_type": "stream",
     "text": [
      "Cristiano Ronaldo                1.000000\n",
      "Franck Ribéry                    0.999972\n",
      "Radamel Falcao                   0.999942\n",
      "Zlatan Ibrahimović               0.999942\n",
      "France national football team    0.999923\n",
      "dtype: float64\n"
     ]
    }
   ],
   "source": [
    "# Perform the necessary imports\n",
    "import pandas as pd\n",
    "from sklearn.preprocessing import normalize\n",
    "\n",
    "# Normalize the NMF features: norm_features\n",
    "norm_features = normalize(nmf_features)\n",
    "\n",
    "# Create a DataFrame: df\n",
    "df = pd.DataFrame(norm_features, index=titles)\n",
    "\n",
    "# Select the row corresponding to 'Cristiano Ronaldo': article\n",
    "article = df.loc['Cristiano Ronaldo']\n",
    "\n",
    "# Compute the dot products: similarities\n",
    "similarities = df.dot(article)\n",
    "\n",
    "# Display those with the largest cosine similarity\n",
    "print(similarities.nlargest())"
   ]
  },
  {
   "cell_type": "raw",
   "metadata": {},
   "source": [
    "Great work - although you may need to know a little about football (or soccer, depending on where you're from!) to be able to evaluate for yourself the quality of the computed similarities!"
   ]
  },
  {
   "cell_type": "markdown",
   "metadata": {},
   "source": [
    "## Recommend musical artists part I"
   ]
  },
  {
   "cell_type": "markdown",
   "metadata": {},
   "source": [
    "<p>In this exercise and the next, you&apos;ll use what you&apos;ve learned about NMF to recommend popular music artists! You are given a sparse array <code>artists</code> whose rows correspond to artists and whose column correspond to users.  The entries give the number of times each artist was listened to by each user.</p>\n",
    "<p>In this exercise, build a pipeline and transform the array into normalized NMF features.  The first step in the pipeline, <code>MaxAbsScaler</code>, transforms the data so that all users have the same influence on the model, regardless of how many different artists they&apos;ve listened to.  In the next exercise, you&apos;ll use the resulting normalized NMF features for recommendation!</p>"
   ]
  },
  {
   "cell_type": "markdown",
   "metadata": {},
   "source": [
    "<ul>\n",
    "<li>Import:<ul>\n",
    "<li><code>NMF</code> from <code>sklearn.decomposition</code>.</li>\n",
    "<li><code>Normalizer</code> and <code>MaxAbsScaler</code> from <code>sklearn.preprocessing</code>.</li>\n",
    "<li><code>make_pipeline</code> from <code>sklearn.pipeline</code>.</li></ul></li>\n",
    "<li>Create an instance of <code>MaxAbsScaler</code> called <code>scaler</code>.</li>\n",
    "<li>Create an <code>NMF</code> instance with <code>20</code> components called <code>nmf</code>.</li>\n",
    "<li>Create an instance of <code>Normalizer</code> called <code>normalizer</code>.</li>\n",
    "<li>Create a pipeline called <code>pipeline</code> that chains together <code>scaler</code>, <code>nmf</code>, and <code>normalizer</code>.</li>\n",
    "<li>Apply the <code>.fit_transform()</code> method of <code>pipeline</code> to <code>artists</code>. Assign the result to <code>norm_features</code>.</li>\n",
    "</ul>"
   ]
  },
  {
   "cell_type": "code",
   "execution_count": 62,
   "metadata": {},
   "outputs": [
    {
     "name": "stdout",
     "output_type": "stream",
     "text": [
      "(111, 500)\n"
     ]
    }
   ],
   "source": [
    "# import data \n",
    "import numpy as np\n",
    "df=pd.read_csv('datasets/Musical artists/artists_vector.csv', index_col=0)\n",
    "\n",
    "\n",
    "from scipy.sparse import csr_matrix\n",
    "artists = csr_matrix(df)\n",
    "print(artists.shape)\n"
   ]
  },
  {
   "cell_type": "code",
   "execution_count": 75,
   "metadata": {},
   "outputs": [],
   "source": [
    "# Perform the necessary imports\n",
    "from sklearn.decomposition import NMF\n",
    "from sklearn.preprocessing import Normalizer, MaxAbsScaler\n",
    "from sklearn.pipeline import make_pipeline\n",
    "\n",
    "# Create a MaxAbsScaler: scaler\n",
    "scaler = MaxAbsScaler()\n",
    "\n",
    "# Create an NMF model: nmf\n",
    "nmf = NMF(n_components=20)\n",
    "\n",
    "# Create a Normalizer: normalizer\n",
    "normalizer = Normalizer()\n",
    "\n",
    "# Create a pipeline: pipeline\n",
    "pipeline = make_pipeline(scaler, nmf, normalizer)\n",
    "\n",
    "# Apply fit_transform to artists: norm_features\n",
    "norm_features = pipeline.fit_transform(artists)\n"
   ]
  },
  {
   "cell_type": "raw",
   "metadata": {},
   "source": [
    "Excellent work - now that you've computed the normalized NMF features, you'll use them in the next exercise to recommend musical artists!"
   ]
  },
  {
   "cell_type": "markdown",
   "metadata": {},
   "source": [
    "## Recommend musical artists part II"
   ]
  },
  {
   "cell_type": "markdown",
   "metadata": {},
   "source": [
    "<p>Suppose you were a big fan of Bruce Springsteen - which other musicial artists might you like?  Use your NMF features from the previous exercise and the cosine similarity to find similar musical artists.  A solution to the previous exercise has been run, so <code>norm_features</code> is an array containing the normalized NMF features as rows. The names of the musical artists are available as the list <code>artist_names</code>.</p>"
   ]
  },
  {
   "cell_type": "markdown",
   "metadata": {},
   "source": [
    "<ul>\n",
    "<li>Import <code>pandas</code> as <code>pd</code>.</li>\n",
    "<li>Create a DataFrame <code>df</code> from <code>norm_features</code>, using <code>artist_names</code> as an index.</li>\n",
    "<li>Use the <code>.loc[]</code> accessor of <code>df</code> to select the row of <code>&apos;Bruce Springsteen&apos;</code>. Assign the result to <code>artist</code>. </li>\n",
    "<li>Apply the <code>.dot()</code> method of <code>df</code> to <code>artist</code> to calculate the dot product of every row with <code>artist</code>. Save the result as <code>similarities</code>.</li>\n",
    "<li>Print the result of the <code>.nlargest()</code> method of <code>similarities</code> to display the artists most similar to <code>&apos;Bruce Springsteen&apos;</code>.</li>\n",
    "</ul>"
   ]
  },
  {
   "cell_type": "code",
   "execution_count": 84,
   "metadata": {},
   "outputs": [],
   "source": [
    "df=pd.read_csv('datasets/Musical artists/artists.csv', header=None)\n",
    "artist_names=df.values.tolist()"
   ]
  },
  {
   "cell_type": "code",
   "execution_count": 85,
   "metadata": {},
   "outputs": [
    {
     "ename": "ValueError",
     "evalue": "Shape of passed values is (111, 20), indices imply (1, 20)",
     "output_type": "error",
     "traceback": [
      "\u001b[1;31m---------------------------------------------------------------------------\u001b[0m",
      "\u001b[1;31mValueError\u001b[0m                                Traceback (most recent call last)",
      "\u001b[1;32m~\\Anaconda3\\lib\\site-packages\\pandas\\core\\internals\\managers.py\u001b[0m in \u001b[0;36mcreate_block_manager_from_blocks\u001b[1;34m(blocks, axes)\u001b[0m\n\u001b[0;32m   1680\u001b[0m \u001b[1;33m\u001b[0m\u001b[0m\n\u001b[1;32m-> 1681\u001b[1;33m         \u001b[0mmgr\u001b[0m \u001b[1;33m=\u001b[0m \u001b[0mBlockManager\u001b[0m\u001b[1;33m(\u001b[0m\u001b[0mblocks\u001b[0m\u001b[1;33m,\u001b[0m \u001b[0maxes\u001b[0m\u001b[1;33m)\u001b[0m\u001b[1;33m\u001b[0m\u001b[1;33m\u001b[0m\u001b[0m\n\u001b[0m\u001b[0;32m   1682\u001b[0m         \u001b[0mmgr\u001b[0m\u001b[1;33m.\u001b[0m\u001b[0m_consolidate_inplace\u001b[0m\u001b[1;33m(\u001b[0m\u001b[1;33m)\u001b[0m\u001b[1;33m\u001b[0m\u001b[1;33m\u001b[0m\u001b[0m\n",
      "\u001b[1;32m~\\Anaconda3\\lib\\site-packages\\pandas\\core\\internals\\managers.py\u001b[0m in \u001b[0;36m__init__\u001b[1;34m(self, blocks, axes, do_integrity_check)\u001b[0m\n\u001b[0;32m    142\u001b[0m         \u001b[1;32mif\u001b[0m \u001b[0mdo_integrity_check\u001b[0m\u001b[1;33m:\u001b[0m\u001b[1;33m\u001b[0m\u001b[1;33m\u001b[0m\u001b[0m\n\u001b[1;32m--> 143\u001b[1;33m             \u001b[0mself\u001b[0m\u001b[1;33m.\u001b[0m\u001b[0m_verify_integrity\u001b[0m\u001b[1;33m(\u001b[0m\u001b[1;33m)\u001b[0m\u001b[1;33m\u001b[0m\u001b[1;33m\u001b[0m\u001b[0m\n\u001b[0m\u001b[0;32m    144\u001b[0m \u001b[1;33m\u001b[0m\u001b[0m\n",
      "\u001b[1;32m~\\Anaconda3\\lib\\site-packages\\pandas\\core\\internals\\managers.py\u001b[0m in \u001b[0;36m_verify_integrity\u001b[1;34m(self)\u001b[0m\n\u001b[0;32m    344\u001b[0m             \u001b[1;32mif\u001b[0m \u001b[0mblock\u001b[0m\u001b[1;33m.\u001b[0m\u001b[0m_verify_integrity\u001b[0m \u001b[1;32mand\u001b[0m \u001b[0mblock\u001b[0m\u001b[1;33m.\u001b[0m\u001b[0mshape\u001b[0m\u001b[1;33m[\u001b[0m\u001b[1;36m1\u001b[0m\u001b[1;33m:\u001b[0m\u001b[1;33m]\u001b[0m \u001b[1;33m!=\u001b[0m \u001b[0mmgr_shape\u001b[0m\u001b[1;33m[\u001b[0m\u001b[1;36m1\u001b[0m\u001b[1;33m:\u001b[0m\u001b[1;33m]\u001b[0m\u001b[1;33m:\u001b[0m\u001b[1;33m\u001b[0m\u001b[1;33m\u001b[0m\u001b[0m\n\u001b[1;32m--> 345\u001b[1;33m                 \u001b[0mconstruction_error\u001b[0m\u001b[1;33m(\u001b[0m\u001b[0mtot_items\u001b[0m\u001b[1;33m,\u001b[0m \u001b[0mblock\u001b[0m\u001b[1;33m.\u001b[0m\u001b[0mshape\u001b[0m\u001b[1;33m[\u001b[0m\u001b[1;36m1\u001b[0m\u001b[1;33m:\u001b[0m\u001b[1;33m]\u001b[0m\u001b[1;33m,\u001b[0m \u001b[0mself\u001b[0m\u001b[1;33m.\u001b[0m\u001b[0maxes\u001b[0m\u001b[1;33m)\u001b[0m\u001b[1;33m\u001b[0m\u001b[1;33m\u001b[0m\u001b[0m\n\u001b[0m\u001b[0;32m    346\u001b[0m         \u001b[1;32mif\u001b[0m \u001b[0mlen\u001b[0m\u001b[1;33m(\u001b[0m\u001b[0mself\u001b[0m\u001b[1;33m.\u001b[0m\u001b[0mitems\u001b[0m\u001b[1;33m)\u001b[0m \u001b[1;33m!=\u001b[0m \u001b[0mtot_items\u001b[0m\u001b[1;33m:\u001b[0m\u001b[1;33m\u001b[0m\u001b[1;33m\u001b[0m\u001b[0m\n",
      "\u001b[1;32m~\\Anaconda3\\lib\\site-packages\\pandas\\core\\internals\\managers.py\u001b[0m in \u001b[0;36mconstruction_error\u001b[1;34m(tot_items, block_shape, axes, e)\u001b[0m\n\u001b[0;32m   1718\u001b[0m     raise ValueError(\n\u001b[1;32m-> 1719\u001b[1;33m         \u001b[1;34m\"Shape of passed values is {0}, indices imply {1}\"\u001b[0m\u001b[1;33m.\u001b[0m\u001b[0mformat\u001b[0m\u001b[1;33m(\u001b[0m\u001b[0mpassed\u001b[0m\u001b[1;33m,\u001b[0m \u001b[0mimplied\u001b[0m\u001b[1;33m)\u001b[0m\u001b[1;33m\u001b[0m\u001b[1;33m\u001b[0m\u001b[0m\n\u001b[0m\u001b[0;32m   1720\u001b[0m     )\n",
      "\u001b[1;31mValueError\u001b[0m: Shape of passed values is (111, 20), indices imply (1, 20)",
      "\nDuring handling of the above exception, another exception occurred:\n",
      "\u001b[1;31mValueError\u001b[0m                                Traceback (most recent call last)",
      "\u001b[1;32m<ipython-input-85-d7aab76b6c4b>\u001b[0m in \u001b[0;36m<module>\u001b[1;34m\u001b[0m\n\u001b[0;32m      3\u001b[0m \u001b[1;33m\u001b[0m\u001b[0m\n\u001b[0;32m      4\u001b[0m \u001b[1;31m# Create a DataFrame: df\u001b[0m\u001b[1;33m\u001b[0m\u001b[1;33m\u001b[0m\u001b[1;33m\u001b[0m\u001b[0m\n\u001b[1;32m----> 5\u001b[1;33m \u001b[0mdf\u001b[0m \u001b[1;33m=\u001b[0m \u001b[0mpd\u001b[0m\u001b[1;33m.\u001b[0m\u001b[0mDataFrame\u001b[0m\u001b[1;33m(\u001b[0m\u001b[0mnorm_features\u001b[0m\u001b[1;33m,\u001b[0m \u001b[0mindex\u001b[0m\u001b[1;33m=\u001b[0m\u001b[0martist_names\u001b[0m\u001b[1;33m)\u001b[0m\u001b[1;33m\u001b[0m\u001b[1;33m\u001b[0m\u001b[0m\n\u001b[0m\u001b[0;32m      6\u001b[0m \u001b[1;33m\u001b[0m\u001b[0m\n\u001b[0;32m      7\u001b[0m \u001b[1;33m\u001b[0m\u001b[0m\n",
      "\u001b[1;32m~\\Anaconda3\\lib\\site-packages\\pandas\\core\\frame.py\u001b[0m in \u001b[0;36m__init__\u001b[1;34m(self, data, index, columns, dtype, copy)\u001b[0m\n\u001b[0;32m    438\u001b[0m                 \u001b[0mmgr\u001b[0m \u001b[1;33m=\u001b[0m \u001b[0minit_dict\u001b[0m\u001b[1;33m(\u001b[0m\u001b[1;33m{\u001b[0m\u001b[0mdata\u001b[0m\u001b[1;33m.\u001b[0m\u001b[0mname\u001b[0m\u001b[1;33m:\u001b[0m \u001b[0mdata\u001b[0m\u001b[1;33m}\u001b[0m\u001b[1;33m,\u001b[0m \u001b[0mindex\u001b[0m\u001b[1;33m,\u001b[0m \u001b[0mcolumns\u001b[0m\u001b[1;33m,\u001b[0m \u001b[0mdtype\u001b[0m\u001b[1;33m=\u001b[0m\u001b[0mdtype\u001b[0m\u001b[1;33m)\u001b[0m\u001b[1;33m\u001b[0m\u001b[1;33m\u001b[0m\u001b[0m\n\u001b[0;32m    439\u001b[0m             \u001b[1;32melse\u001b[0m\u001b[1;33m:\u001b[0m\u001b[1;33m\u001b[0m\u001b[1;33m\u001b[0m\u001b[0m\n\u001b[1;32m--> 440\u001b[1;33m                 \u001b[0mmgr\u001b[0m \u001b[1;33m=\u001b[0m \u001b[0minit_ndarray\u001b[0m\u001b[1;33m(\u001b[0m\u001b[0mdata\u001b[0m\u001b[1;33m,\u001b[0m \u001b[0mindex\u001b[0m\u001b[1;33m,\u001b[0m \u001b[0mcolumns\u001b[0m\u001b[1;33m,\u001b[0m \u001b[0mdtype\u001b[0m\u001b[1;33m=\u001b[0m\u001b[0mdtype\u001b[0m\u001b[1;33m,\u001b[0m \u001b[0mcopy\u001b[0m\u001b[1;33m=\u001b[0m\u001b[0mcopy\u001b[0m\u001b[1;33m)\u001b[0m\u001b[1;33m\u001b[0m\u001b[1;33m\u001b[0m\u001b[0m\n\u001b[0m\u001b[0;32m    441\u001b[0m \u001b[1;33m\u001b[0m\u001b[0m\n\u001b[0;32m    442\u001b[0m         \u001b[1;31m# For data is list-like, or Iterable (will consume into list)\u001b[0m\u001b[1;33m\u001b[0m\u001b[1;33m\u001b[0m\u001b[1;33m\u001b[0m\u001b[0m\n",
      "\u001b[1;32m~\\Anaconda3\\lib\\site-packages\\pandas\\core\\internals\\construction.py\u001b[0m in \u001b[0;36minit_ndarray\u001b[1;34m(values, index, columns, dtype, copy)\u001b[0m\n\u001b[0;32m    211\u001b[0m         \u001b[0mblock_values\u001b[0m \u001b[1;33m=\u001b[0m \u001b[1;33m[\u001b[0m\u001b[0mvalues\u001b[0m\u001b[1;33m]\u001b[0m\u001b[1;33m\u001b[0m\u001b[1;33m\u001b[0m\u001b[0m\n\u001b[0;32m    212\u001b[0m \u001b[1;33m\u001b[0m\u001b[0m\n\u001b[1;32m--> 213\u001b[1;33m     \u001b[1;32mreturn\u001b[0m \u001b[0mcreate_block_manager_from_blocks\u001b[0m\u001b[1;33m(\u001b[0m\u001b[0mblock_values\u001b[0m\u001b[1;33m,\u001b[0m \u001b[1;33m[\u001b[0m\u001b[0mcolumns\u001b[0m\u001b[1;33m,\u001b[0m \u001b[0mindex\u001b[0m\u001b[1;33m]\u001b[0m\u001b[1;33m)\u001b[0m\u001b[1;33m\u001b[0m\u001b[1;33m\u001b[0m\u001b[0m\n\u001b[0m\u001b[0;32m    214\u001b[0m \u001b[1;33m\u001b[0m\u001b[0m\n\u001b[0;32m    215\u001b[0m \u001b[1;33m\u001b[0m\u001b[0m\n",
      "\u001b[1;32m~\\Anaconda3\\lib\\site-packages\\pandas\\core\\internals\\managers.py\u001b[0m in \u001b[0;36mcreate_block_manager_from_blocks\u001b[1;34m(blocks, axes)\u001b[0m\n\u001b[0;32m   1686\u001b[0m         \u001b[0mblocks\u001b[0m \u001b[1;33m=\u001b[0m \u001b[1;33m[\u001b[0m\u001b[0mgetattr\u001b[0m\u001b[1;33m(\u001b[0m\u001b[0mb\u001b[0m\u001b[1;33m,\u001b[0m \u001b[1;34m\"values\"\u001b[0m\u001b[1;33m,\u001b[0m \u001b[0mb\u001b[0m\u001b[1;33m)\u001b[0m \u001b[1;32mfor\u001b[0m \u001b[0mb\u001b[0m \u001b[1;32min\u001b[0m \u001b[0mblocks\u001b[0m\u001b[1;33m]\u001b[0m\u001b[1;33m\u001b[0m\u001b[1;33m\u001b[0m\u001b[0m\n\u001b[0;32m   1687\u001b[0m         \u001b[0mtot_items\u001b[0m \u001b[1;33m=\u001b[0m \u001b[0msum\u001b[0m\u001b[1;33m(\u001b[0m\u001b[0mb\u001b[0m\u001b[1;33m.\u001b[0m\u001b[0mshape\u001b[0m\u001b[1;33m[\u001b[0m\u001b[1;36m0\u001b[0m\u001b[1;33m]\u001b[0m \u001b[1;32mfor\u001b[0m \u001b[0mb\u001b[0m \u001b[1;32min\u001b[0m \u001b[0mblocks\u001b[0m\u001b[1;33m)\u001b[0m\u001b[1;33m\u001b[0m\u001b[1;33m\u001b[0m\u001b[0m\n\u001b[1;32m-> 1688\u001b[1;33m         \u001b[0mconstruction_error\u001b[0m\u001b[1;33m(\u001b[0m\u001b[0mtot_items\u001b[0m\u001b[1;33m,\u001b[0m \u001b[0mblocks\u001b[0m\u001b[1;33m[\u001b[0m\u001b[1;36m0\u001b[0m\u001b[1;33m]\u001b[0m\u001b[1;33m.\u001b[0m\u001b[0mshape\u001b[0m\u001b[1;33m[\u001b[0m\u001b[1;36m1\u001b[0m\u001b[1;33m:\u001b[0m\u001b[1;33m]\u001b[0m\u001b[1;33m,\u001b[0m \u001b[0maxes\u001b[0m\u001b[1;33m,\u001b[0m \u001b[0me\u001b[0m\u001b[1;33m)\u001b[0m\u001b[1;33m\u001b[0m\u001b[1;33m\u001b[0m\u001b[0m\n\u001b[0m\u001b[0;32m   1689\u001b[0m \u001b[1;33m\u001b[0m\u001b[0m\n\u001b[0;32m   1690\u001b[0m \u001b[1;33m\u001b[0m\u001b[0m\n",
      "\u001b[1;32m~\\Anaconda3\\lib\\site-packages\\pandas\\core\\internals\\managers.py\u001b[0m in \u001b[0;36mconstruction_error\u001b[1;34m(tot_items, block_shape, axes, e)\u001b[0m\n\u001b[0;32m   1717\u001b[0m         \u001b[1;32mraise\u001b[0m \u001b[0mValueError\u001b[0m\u001b[1;33m(\u001b[0m\u001b[1;34m\"Empty data passed with indices specified.\"\u001b[0m\u001b[1;33m)\u001b[0m\u001b[1;33m\u001b[0m\u001b[1;33m\u001b[0m\u001b[0m\n\u001b[0;32m   1718\u001b[0m     raise ValueError(\n\u001b[1;32m-> 1719\u001b[1;33m         \u001b[1;34m\"Shape of passed values is {0}, indices imply {1}\"\u001b[0m\u001b[1;33m.\u001b[0m\u001b[0mformat\u001b[0m\u001b[1;33m(\u001b[0m\u001b[0mpassed\u001b[0m\u001b[1;33m,\u001b[0m \u001b[0mimplied\u001b[0m\u001b[1;33m)\u001b[0m\u001b[1;33m\u001b[0m\u001b[1;33m\u001b[0m\u001b[0m\n\u001b[0m\u001b[0;32m   1720\u001b[0m     )\n\u001b[0;32m   1721\u001b[0m \u001b[1;33m\u001b[0m\u001b[0m\n",
      "\u001b[1;31mValueError\u001b[0m: Shape of passed values is (111, 20), indices imply (1, 20)"
     ]
    }
   ],
   "source": [
    "# Import pandas\n",
    "import pandas as pd\n",
    "\n",
    "# Create a DataFrame: df\n",
    "df = pd.DataFrame(norm_features, index=artist_names)\n",
    "\n",
    "\n",
    "# Select row of 'Bruce Springsteen': artist\n",
    "artist = df.loc['Bruce Springsteen']\n",
    "\n",
    "# Compute cosine similarities: similarities\n",
    "similarities = df.dot(artist)\n",
    "\n",
    "# Display those with highest cosine similarity\n",
    "print(similarities.nlargest())"
   ]
  }
 ],
 "metadata": {
  "kernelspec": {
   "display_name": "Python 3",
   "language": "python",
   "name": "python3"
  },
  "language_info": {
   "codemirror_mode": {
    "name": "ipython",
    "version": 3
   },
   "file_extension": ".py",
   "mimetype": "text/x-python",
   "name": "python",
   "nbconvert_exporter": "python",
   "pygments_lexer": "ipython3",
   "version": "3.7.4"
  }
 },
 "nbformat": 4,
 "nbformat_minor": 2
}
