{
 "cells": [
  {
   "cell_type": "markdown",
   "metadata": {},
   "source": [
    "This chapter introduces a different clustering algorithm - k-means clustering - and its implementation in SciPy. K-means clustering overcomes the biggest drawback of hierarchical clustering that was discussed in the last chapter. As dendrograms are specific to hierarchical clustering, this chapter discusses one method to find the number of clusters before running k-means clustering. The chapter concludes with a discussion on the limitations of k-means clustering and discusses considerations while using this algorithm."
   ]
  },
  {
   "cell_type": "markdown",
   "metadata": {},
   "source": [
    "# 1- Basics of k-means clustering\n"
   ]
  },
  {
   "cell_type": "markdown",
   "metadata": {},
   "source": [
    "video"
   ]
  },
  {
   "cell_type": "markdown",
   "metadata": {},
   "source": [
    "# 2- K-means clustering: first exercise\n"
   ]
  },
  {
   "cell_type": "markdown",
   "metadata": {},
   "source": [
    "<p>This exercise will familiarize you with the usage of k-means clustering on a dataset. Let us use the Comic Con dataset and check how k-means clustering works on it.</p>\n",
    "<p>Recall the two steps of k-means clustering:</p>\n",
    "<ul>\n",
    "<li>Define cluster centers through <code>kmeans()</code> function. It has two required arguments: observations and number of clusters.</li>\n",
    "<li>Assign cluster labels through the <code>vq()</code> function. It has two required arguments: observations and cluster centers.</li>\n",
    "</ul>\n",
    "<p>The data is stored in a Pandas data frame, <code>comic_con</code>. <code>x_scaled</code> and <code>y_scaled</code> are the column names of the standardized X and Y coordinates of people at a given point in time.</p>"
   ]
  },
  {
   "cell_type": "code",
   "execution_count": 5,
   "metadata": {},
   "outputs": [
    {
     "data": {
      "text/html": [
       "<div>\n",
       "<style scoped>\n",
       "    .dataframe tbody tr th:only-of-type {\n",
       "        vertical-align: middle;\n",
       "    }\n",
       "\n",
       "    .dataframe tbody tr th {\n",
       "        vertical-align: top;\n",
       "    }\n",
       "\n",
       "    .dataframe thead th {\n",
       "        text-align: right;\n",
       "    }\n",
       "</style>\n",
       "<table border=\"1\" class=\"dataframe\">\n",
       "  <thead>\n",
       "    <tr style=\"text-align: right;\">\n",
       "      <th></th>\n",
       "      <th>x_coordinate</th>\n",
       "      <th>y_coordinate</th>\n",
       "      <th>x_scaled</th>\n",
       "      <th>y_scaled</th>\n",
       "    </tr>\n",
       "  </thead>\n",
       "  <tbody>\n",
       "    <tr>\n",
       "      <td>0</td>\n",
       "      <td>17</td>\n",
       "      <td>4</td>\n",
       "      <td>0.509349</td>\n",
       "      <td>0.090010</td>\n",
       "    </tr>\n",
       "    <tr>\n",
       "      <td>1</td>\n",
       "      <td>20</td>\n",
       "      <td>6</td>\n",
       "      <td>0.599234</td>\n",
       "      <td>0.135015</td>\n",
       "    </tr>\n",
       "    <tr>\n",
       "      <td>2</td>\n",
       "      <td>35</td>\n",
       "      <td>0</td>\n",
       "      <td>1.048660</td>\n",
       "      <td>0.000000</td>\n",
       "    </tr>\n",
       "    <tr>\n",
       "      <td>3</td>\n",
       "      <td>14</td>\n",
       "      <td>0</td>\n",
       "      <td>0.419464</td>\n",
       "      <td>0.000000</td>\n",
       "    </tr>\n",
       "    <tr>\n",
       "      <td>4</td>\n",
       "      <td>37</td>\n",
       "      <td>4</td>\n",
       "      <td>1.108583</td>\n",
       "      <td>0.090010</td>\n",
       "    </tr>\n",
       "  </tbody>\n",
       "</table>\n",
       "</div>"
      ],
      "text/plain": [
       "   x_coordinate  y_coordinate  x_scaled  y_scaled\n",
       "0            17             4  0.509349  0.090010\n",
       "1            20             6  0.599234  0.135015\n",
       "2            35             0  1.048660  0.000000\n",
       "3            14             0  0.419464  0.000000\n",
       "4            37             4  1.108583  0.090010"
      ]
     },
     "execution_count": 5,
     "metadata": {},
     "output_type": "execute_result"
    }
   ],
   "source": [
    "#Preprocessing by me\n",
    "\n",
    "import pandas as pd \n",
    "import seaborn as sns\n",
    "import matplotlib.pyplot as plt\n",
    "\n",
    "# Import the whiten function\n",
    "from scipy.cluster.vq import whiten\n",
    "\n",
    "x= [17, 20, 35, 14, 37, 33, 14, 30, 35, 17, 11, 21, 13, 10, 81, 84, 87, 83, 90,\n",
    " 97, 94, 88, 89, 93, 92, 82, 81, 92, 91, 22, 23, 25, 25, 27, 17, 17]\n",
    "\n",
    "y= [4,  6, 0, 0, 4, 3, 1, 6, 5, 4, 6, 10, 8, 10, 97, 94, 99, 95, 95, 97, 99, 99,\n",
    " 94, 99, 90, 98, 100, 93, 98, 15, 10, 0, 10, 7, 17, 15]\n",
    "\n",
    "\n",
    "#Convert to pandas DataFrame\n",
    "comic_con = pd.DataFrame({'x_coordinate': x,\n",
    "'y_coordinate': y})\n",
    "\n",
    "#scalling by whiten\n",
    "comic_con['x_scaled'] = whiten(comic_con['x_coordinate'])\n",
    "comic_con['y_scaled'] = whiten(comic_con['y_coordinate'])\n",
    "\n",
    "comic_con.head()"
   ]
  },
  {
   "cell_type": "markdown",
   "metadata": {},
   "source": [
    "<ul>\n",
    "<li>Import <code>kmeans</code> and <code>vq</code> functions in SciPy.</li>\n",
    "<li>Generate cluster centers using the <code>kmeans()</code> function with two clusters.</li>\n",
    "<li>Create cluster labels using these cluster centers.</li>\n",
    "</ul>"
   ]
  },
  {
   "cell_type": "code",
   "execution_count": 6,
   "metadata": {},
   "outputs": [
    {
     "data": {
      "image/png": "[encoded data removed]",
      "text/plain": [
       "<Figure size 432x288 with 1 Axes>"
      ]
     },
     "metadata": {
      "needs_background": "light"
     },
     "output_type": "display_data"
    }
   ],
   "source": [
    "# Import the kmeans and vq functions\n",
    "from scipy.cluster.vq import kmeans, vq\n",
    "\n",
    "# Generate cluster centers\n",
    "cluster_centers, distortion = kmeans(comic_con[['x_scaled','y_scaled']], 2)\n",
    "\n",
    "# Assign cluster labels\n",
    "comic_con['cluster_labels'], distortion_list = vq(comic_con[['x_scaled','y_scaled']], cluster_centers)\n",
    "\n",
    "# Plot clusters\n",
    "sns.scatterplot(x='x_scaled', y='y_scaled', \n",
    "                hue='cluster_labels', data = comic_con)\n",
    "plt.show()"
   ]
  },
  {
   "cell_type": "raw",
   "metadata": {},
   "source": [
    "You are correct! Notice that the clusters formed are exactly the same as hierarchical clustering that you did in the previous chapter."
   ]
  },
  {
   "cell_type": "markdown",
   "metadata": {},
   "source": [
    "# 3- Runtime of k-means clustering\n"
   ]
  },
  {
   "cell_type": "markdown",
   "metadata": {},
   "source": [
    "<p>Recall that it took a significantly long time to run hierarchical clustering. How long does it take to run the <code>kmeans()</code> function on the FIFA dataset?</p>\n",
    "<p>The data is stored in a Pandas data frame, <code>fifa</code>. <code>scaled_sliding_tackle</code> and <code>scaled_aggression</code> are the relevant scaled columns. <code>timeit</code> and <code>kmeans</code> have been imported.</p>\n",
    "<p>Cluster centers are defined through the <code>kmeans()</code> function. It has two required arguments: observations and number of clusters. You can use <code>%timeit</code> before a piece of code to check how long it takes to run. You can time the <code>kmeans()</code> function for three clusters on the <code>fifa</code> dataset.</p>"
   ]
  },
  {
   "cell_type": "code",
   "execution_count": 7,
   "metadata": {},
   "outputs": [],
   "source": [
    "fifa2=pd.read_csv('datasets/fifa_18_dataset.csv')\n",
    "\n",
    "#scalling by whiten\n",
    "fifa2['scaled_sliding_tackle'] = whiten(fifa2['sliding_tackle'])\n",
    "fifa2['scaled_aggression'] = whiten(fifa2['aggression'])\n"
   ]
  },
  {
   "cell_type": "code",
   "execution_count": 9,
   "metadata": {},
   "outputs": [
    {
     "name": "stdout",
     "output_type": "stream",
     "text": [
      "398 ms ± 50.2 ms per loop (mean ± std. dev. of 7 runs, 1 loop each)\n"
     ]
    }
   ],
   "source": [
    "%timeit cluster_centers, distortion = kmeans(fifa2[['scaled_sliding_tackle','scaled_aggression']], 3)\n"
   ]
  },
  {
   "cell_type": "raw",
   "metadata": {},
   "source": [
    "You are correct. It took only about 19 seconds to run hierarchical clustering on this data, but only 400 milliseconds to run k-means clustering."
   ]
  },
  {
   "cell_type": "markdown",
   "metadata": {},
   "source": [
    "# 4- How many clusters?\n"
   ]
  },
  {
   "cell_type": "markdown",
   "metadata": {},
   "source": [
    "video"
   ]
  },
  {
   "cell_type": "markdown",
   "metadata": {},
   "source": [
    "# 5- Elbow method on distinct clusters\n"
   ]
  },
  {
   "cell_type": "markdown",
   "metadata": {},
   "source": [
    "<p>Let us use the comic con data set to see how the elbow plot looks on a data set with distinct, well-defined clusters. You may want to display the data points before proceeding with the exercise.</p>\n",
    "<p>The data is stored in a Pandas data frame, <code>comic_con</code>. <code>x_scaled</code> and <code>y_scaled</code> are the column names of the standardized X and Y coordinates of people at a given point in time.</p>"
   ]
  },
  {
   "cell_type": "markdown",
   "metadata": {},
   "source": [
    "<ul>\n",
    "<li>Create a list of distortions for each cluster in <code>num_clusters</code>.</li>\n",
    "<li>Create a data frame <code>elbow_plot</code> with <code>num_clusters</code> and <code>distortions</code>.</li>\n",
    "<li>With the <code>.lineplot()</code> method, plot <code>elbow_plot</code> with <code>num_clusters</code> in the x axis and <code>distortions</code> in the y axis.</li>\n",
    "</ul>"
   ]
  },
  {
   "cell_type": "code",
   "execution_count": 10,
   "metadata": {},
   "outputs": [
    {
     "data": {
      "image/png": "[encoded data removed]",
      "text/plain": [
       "<Figure size 432x288 with 1 Axes>"
      ]
     },
     "metadata": {
      "needs_background": "light"
     },
     "output_type": "display_data"
    }
   ],
   "source": [
    "distortions = []\n",
    "num_clusters = range(1, 7)\n",
    "\n",
    "# Create a list of distortions from the kmeans function\n",
    "for i in num_clusters:\n",
    "    cluster_centers, distortion = kmeans(comic_con[['x_scaled','y_scaled']], i)\n",
    "    distortions.append(distortion)\n",
    "\n",
    "# Create a data frame with two lists - num_clusters, distortions\n",
    "elbow_plot = pd.DataFrame({'num_clusters': num_clusters, 'distortions': distortions})\n",
    "\n",
    "# Creat a line plot of num_clusters and distortions\n",
    "sns.lineplot(x='num_clusters', y='distortions', data = elbow_plot)\n",
    "plt.xticks(num_clusters)\n",
    "plt.show()"
   ]
  },
  {
   "cell_type": "raw",
   "metadata": {},
   "source": [
    "From the elbow plot, how many clusters are there in the data? 2 clusters"
   ]
  },
  {
   "cell_type": "markdown",
   "metadata": {},
   "source": [
    "# 6- Elbow method on uniform data\n"
   ]
  },
  {
   "cell_type": "markdown",
   "metadata": {},
   "source": [
    "<p>In the earlier exercise, you constructed an elbow plot on data with well-defined clusters. Let us now see how the elbow plot looks on a data set with uniformly distributed points. You may want to display the data points on the console before proceeding with the exercise.</p>\n",
    "<p>The data is stored in a Pandas data frame, <code>uniform_data</code>. <code>x_scaled</code> and <code>y_scaled</code> are the column names of the standardized X and Y coordinates of points.</p>"
   ]
  },
  {
   "cell_type": "code",
   "execution_count": 12,
   "metadata": {},
   "outputs": [
    {
     "data": {
      "text/html": [
       "<div>\n",
       "<style scoped>\n",
       "    .dataframe tbody tr th:only-of-type {\n",
       "        vertical-align: middle;\n",
       "    }\n",
       "\n",
       "    .dataframe tbody tr th {\n",
       "        vertical-align: top;\n",
       "    }\n",
       "\n",
       "    .dataframe thead th {\n",
       "        text-align: right;\n",
       "    }\n",
       "</style>\n",
       "<table border=\"1\" class=\"dataframe\">\n",
       "  <thead>\n",
       "    <tr style=\"text-align: right;\">\n",
       "      <th></th>\n",
       "      <th>x_coordinate</th>\n",
       "      <th>y_coordinate</th>\n",
       "      <th>x_scaled</th>\n",
       "      <th>y_scaled</th>\n",
       "    </tr>\n",
       "  </thead>\n",
       "  <tbody>\n",
       "    <tr>\n",
       "      <td>0</td>\n",
       "      <td>39</td>\n",
       "      <td>3</td>\n",
       "      <td>2.376199</td>\n",
       "      <td>1.152237</td>\n",
       "    </tr>\n",
       "    <tr>\n",
       "      <td>1</td>\n",
       "      <td>42</td>\n",
       "      <td>7</td>\n",
       "      <td>2.558984</td>\n",
       "      <td>2.688554</td>\n",
       "    </tr>\n",
       "    <tr>\n",
       "      <td>2</td>\n",
       "      <td>58</td>\n",
       "      <td>3</td>\n",
       "      <td>3.533835</td>\n",
       "      <td>1.152237</td>\n",
       "    </tr>\n",
       "    <tr>\n",
       "      <td>3</td>\n",
       "      <td>43</td>\n",
       "      <td>3</td>\n",
       "      <td>2.619912</td>\n",
       "      <td>1.152237</td>\n",
       "    </tr>\n",
       "    <tr>\n",
       "      <td>4</td>\n",
       "      <td>13</td>\n",
       "      <td>6</td>\n",
       "      <td>0.792066</td>\n",
       "      <td>2.304475</td>\n",
       "    </tr>\n",
       "  </tbody>\n",
       "</table>\n",
       "</div>"
      ],
      "text/plain": [
       "   x_coordinate  y_coordinate  x_scaled  y_scaled\n",
       "0            39             3  2.376199  1.152237\n",
       "1            42             7  2.558984  2.688554\n",
       "2            58             3  3.533835  1.152237\n",
       "3            43             3  2.619912  1.152237\n",
       "4            13             6  0.792066  2.304475"
      ]
     },
     "execution_count": 12,
     "metadata": {},
     "output_type": "execute_result"
    }
   ],
   "source": [
    "x_coordinate = [39, 42, 58, 43, 13, 32, 60, 13, 26, 27, 29, 51, 14, 50, 62, 59, 50,\n",
    "       62, 65, 17, 25, 45, 55, 48, 42, 58, 68, 58, 37, 55]\n",
    "\n",
    "y_coordinate = [3, 7, 3, 3, 6, 5, 3, 4, 0, 9, 6, 3, 0, 7, 4, 1, 3, 0, 2, 5, 9, 5,\n",
    "       8, 6, 3, 1, 4, 2, 8, 7]\n",
    "\n",
    "\n",
    "#Convert to pandas DataFrame\n",
    "uniform_data = pd.DataFrame({'x_coordinate': x_coordinate,\n",
    "'y_coordinate': y_coordinate})\n",
    "\n",
    "#scalling by whiten\n",
    "uniform_data['x_scaled'] = whiten(uniform_data['x_coordinate'])\n",
    "uniform_data['y_scaled'] = whiten(uniform_data['y_coordinate'])\n",
    "\n",
    "uniform_data.head()"
   ]
  },
  {
   "cell_type": "markdown",
   "metadata": {},
   "source": [
    "<ul>\n",
    "<li>Create a list of distortions for each cluster in <code>num_clusters</code>.</li>\n",
    "<li>Create a data frame <code>elbow_plot</code> with <code>num_clusters</code> and <code>distortions</code>.</li>\n",
    "<li>With the <code>.lineplot()</code> method, plot <code>elbow_plot</code> with <code>num_clusters</code> in the x axis and <code>distortions</code> in the y axis.</li>\n",
    "</ul>"
   ]
  },
  {
   "cell_type": "code",
   "execution_count": 14,
   "metadata": {},
   "outputs": [
    {
     "data": {
      "image/png": "[encoded data removed]",
      "text/plain": [
       "<Figure size 432x288 with 1 Axes>"
      ]
     },
     "metadata": {
      "needs_background": "light"
     },
     "output_type": "display_data"
    }
   ],
   "source": [
    "distortions = []\n",
    "num_clusters = range(2, 7)\n",
    "\n",
    "# Create a list of distortions from the kmeans function\n",
    "for i in num_clusters:\n",
    "    cluster_centers, distortion = kmeans(uniform_data[['x_scaled', 'y_scaled']],i)\n",
    "    distortions.append(distortion)\n",
    "\n",
    "# Create a data frame with two lists - number of clusters and distortions\n",
    "elbow_plot = pd.DataFrame({'num_clusters': num_clusters, 'distortions': distortions})\n",
    "\n",
    "# Creat a line plot of num_clusters and distortions\n",
    "sns.lineplot(x='num_clusters', y='distortions', data = elbow_plot)\n",
    "plt.xticks(num_clusters)\n",
    "plt.show()"
   ]
  },
  {
   "cell_type": "raw",
   "metadata": {},
   "source": [
    "From the elbow plot, how many clusters are there in the data? Can not be determined"
   ]
  },
  {
   "cell_type": "markdown",
   "metadata": {},
   "source": [
    "# 7- Limitations of k-means clustering\n"
   ]
  },
  {
   "cell_type": "markdown",
   "metadata": {},
   "source": [
    "video"
   ]
  },
  {
   "cell_type": "markdown",
   "metadata": {},
   "source": [
    "# 8- Impact of seeds on distinct clusters\n"
   ]
  },
  {
   "cell_type": "markdown",
   "metadata": {},
   "source": [
    "<p>You noticed the impact of seeds on a dataset that did not have well-defined groups of clusters. In this exercise, you will explore whether seeds impact the clusters in the Comic Con data, where the clusters are well-defined.</p>\n",
    "<p>The data is stored in a Pandas data frame, <code>comic_con</code>. <code>x_scaled</code> and <code>y_scaled</code> are the column names of the standardized X and Y coordinates of people at a given point in time.</p>"
   ]
  },
  {
   "cell_type": "code",
   "execution_count": 15,
   "metadata": {},
   "outputs": [],
   "source": [
    "x= [17, 20, 35, 14, 37, 33, 14, 30, 35, 17, 11, 21, 13, 10, 81, 84, 87, 83, 90,\n",
    " 97, 94, 88, 89, 93, 92, 82, 81, 92, 91, 22, 23, 25, 25, 27, 17, 17]\n",
    "\n",
    "y= [4,  6, 0, 0, 4, 3, 1, 6, 5, 4, 6, 10, 8, 10, 97, 94, 99, 95, 95, 97, 99, 99,\n",
    " 94, 99, 90, 98, 100, 93, 98, 15, 10, 0, 10, 7, 17, 15]\n",
    "\n",
    "\n",
    "#Convert to pandas DataFrame\n",
    "comic_con = pd.DataFrame({'x_coordinate': x,\n",
    "'y_coordinate': y})\n",
    "\n",
    "#scalling by whiten\n",
    "comic_con['x_scaled'] = whiten(comic_con['x_coordinate'])\n",
    "comic_con['y_scaled'] = whiten(comic_con['y_coordinate'])"
   ]
  },
  {
   "cell_type": "code",
   "execution_count": 16,
   "metadata": {},
   "outputs": [
    {
     "data": {
      "image/png": "[encoded data removed]",
      "text/plain": [
       "<Figure size 432x288 with 1 Axes>"
      ]
     },
     "metadata": {
      "needs_background": "light"
     },
     "output_type": "display_data"
    }
   ],
   "source": [
    "# Import random class\n",
    "from numpy import random\n",
    "\n",
    "# Initialize seed\n",
    "random.seed(0)\n",
    "\n",
    "# Run kmeans clustering\n",
    "cluster_centers, distortion = kmeans(comic_con[['x_scaled', 'y_scaled']], 2)\n",
    "comic_con['cluster_labels'], distortion_list = vq(comic_con[['x_scaled', 'y_scaled']], cluster_centers)\n",
    "\n",
    "# Plot the scatterplot\n",
    "sns.scatterplot(x='x_scaled', y='y_scaled', \n",
    "                hue='cluster_labels', data = comic_con)\n",
    "plt.show()"
   ]
  },
  {
   "cell_type": "code",
   "execution_count": 17,
   "metadata": {},
   "outputs": [
    {
     "data": {
      "image/png": "[encoded data removed]",
      "text/plain": [
       "<Figure size 432x288 with 1 Axes>"
      ]
     },
     "metadata": {
      "needs_background": "light"
     },
     "output_type": "display_data"
    }
   ],
   "source": [
    "# Import random class\n",
    "from numpy import random\n",
    "\n",
    "# Initialize seed\n",
    "random.seed([1, 2, 1000])\n",
    "\n",
    "# Run kmeans clustering\n",
    "cluster_centers, distortion = kmeans(comic_con[['x_scaled', 'y_scaled']], 2)\n",
    "comic_con['cluster_labels'], distortion_list = vq(comic_con[['x_scaled', 'y_scaled']], cluster_centers)\n",
    "\n",
    "# Plot the scatterplot\n",
    "sns.scatterplot(x='x_scaled', y='y_scaled', \n",
    "                hue='cluster_labels', data = comic_con)\n",
    "plt.show()"
   ]
  },
  {
   "cell_type": "raw",
   "metadata": {},
   "source": [
    "You are correct! Notice that the plots have not changed after changing the seed as the clusters are well-defined."
   ]
  },
  {
   "cell_type": "markdown",
   "metadata": {},
   "source": [
    "# 9- Uniform clustering patterns\n"
   ]
  },
  {
   "cell_type": "markdown",
   "metadata": {},
   "source": [
    "<p>Now that you are familiar with the impact of seeds, let us look at the bias in k-means clustering towards the formation of uniform clusters.</p>\n",
    "<p>Let us use a mouse-like dataset for our next exercise. A mouse-like dataset is a group of points that resemble the head of a mouse: it has three clusters of points arranged in circles, one each for the face and two ears of a mouse.</p>\n",
    "<p>Here is how a typical mouse-like dataset looks like (<a href=\"https://www.researchgate.net/figure/Clustering-results-for-the-Mouse-data-set-where-the-black-boxes-represent-the-centroids_fig3_256378655\">Source</a>).</p>\n",
    "<p><img src=\"https://assets.datacamp.com/production/repositories/3842/datasets/fa03a65258018a0c945528a987cdd250010de1ee/Clustering-results-for-the-Mouse-data-set-where-the-black-boxes-represent-the-centroids.ppm\" alt></p>\n",
    "<p>The data is stored in a Pandas data frame, <code>mouse</code>. <code>x_scaled</code> and <code>y_scaled</code> are the column names of the standardized X and Y coordinates of the data points.</p>"
   ]
  },
  {
   "cell_type": "code",
   "execution_count": 20,
   "metadata": {},
   "outputs": [
    {
     "data": {
      "text/html": [
       "<div>\n",
       "<style scoped>\n",
       "    .dataframe tbody tr th:only-of-type {\n",
       "        vertical-align: middle;\n",
       "    }\n",
       "\n",
       "    .dataframe tbody tr th {\n",
       "        vertical-align: top;\n",
       "    }\n",
       "\n",
       "    .dataframe thead th {\n",
       "        text-align: right;\n",
       "    }\n",
       "</style>\n",
       "<table border=\"1\" class=\"dataframe\">\n",
       "  <thead>\n",
       "    <tr style=\"text-align: right;\">\n",
       "      <th></th>\n",
       "      <th>x_coordinate</th>\n",
       "      <th>y_coordinate</th>\n",
       "      <th>x_scaled</th>\n",
       "      <th>y_scaled</th>\n",
       "    </tr>\n",
       "  </thead>\n",
       "  <tbody>\n",
       "    <tr>\n",
       "      <td>0</td>\n",
       "      <td>33.875528</td>\n",
       "      <td>44.893421</td>\n",
       "      <td>2.209458</td>\n",
       "      <td>2.977524</td>\n",
       "    </tr>\n",
       "    <tr>\n",
       "      <td>1</td>\n",
       "      <td>38.208748</td>\n",
       "      <td>41.116327</td>\n",
       "      <td>2.492083</td>\n",
       "      <td>2.727011</td>\n",
       "    </tr>\n",
       "    <tr>\n",
       "      <td>2</td>\n",
       "      <td>35.740588</td>\n",
       "      <td>57.418006</td>\n",
       "      <td>2.331103</td>\n",
       "      <td>3.808208</td>\n",
       "    </tr>\n",
       "    <tr>\n",
       "      <td>3</td>\n",
       "      <td>32.546963</td>\n",
       "      <td>57.218082</td>\n",
       "      <td>2.122806</td>\n",
       "      <td>3.794948</td>\n",
       "    </tr>\n",
       "    <tr>\n",
       "      <td>4</td>\n",
       "      <td>62.063146</td>\n",
       "      <td>47.196944</td>\n",
       "      <td>4.047935</td>\n",
       "      <td>3.130303</td>\n",
       "    </tr>\n",
       "    <tr>\n",
       "      <td>...</td>\n",
       "      <td>...</td>\n",
       "      <td>...</td>\n",
       "      <td>...</td>\n",
       "      <td>...</td>\n",
       "    </tr>\n",
       "    <tr>\n",
       "      <td>155</td>\n",
       "      <td>70.494322</td>\n",
       "      <td>71.198644</td>\n",
       "      <td>4.597840</td>\n",
       "      <td>4.722198</td>\n",
       "    </tr>\n",
       "    <tr>\n",
       "      <td>156</td>\n",
       "      <td>72.627434</td>\n",
       "      <td>76.434187</td>\n",
       "      <td>4.736968</td>\n",
       "      <td>5.069442</td>\n",
       "    </tr>\n",
       "    <tr>\n",
       "      <td>157</td>\n",
       "      <td>67.669702</td>\n",
       "      <td>70.628910</td>\n",
       "      <td>4.413610</td>\n",
       "      <td>4.684411</td>\n",
       "    </tr>\n",
       "    <tr>\n",
       "      <td>158</td>\n",
       "      <td>63.445592</td>\n",
       "      <td>78.574439</td>\n",
       "      <td>4.138102</td>\n",
       "      <td>5.211393</td>\n",
       "    </tr>\n",
       "    <tr>\n",
       "      <td>159</td>\n",
       "      <td>75.457836</td>\n",
       "      <td>68.448935</td>\n",
       "      <td>4.921575</td>\n",
       "      <td>4.539826</td>\n",
       "    </tr>\n",
       "  </tbody>\n",
       "</table>\n",
       "<p>160 rows × 4 columns</p>\n",
       "</div>"
      ],
      "text/plain": [
       "     x_coordinate  y_coordinate  x_scaled  y_scaled\n",
       "0       33.875528     44.893421  2.209458  2.977524\n",
       "1       38.208748     41.116327  2.492083  2.727011\n",
       "2       35.740588     57.418006  2.331103  3.808208\n",
       "3       32.546963     57.218082  2.122806  3.794948\n",
       "4       62.063146     47.196944  4.047935  3.130303\n",
       "..            ...           ...       ...       ...\n",
       "155     70.494322     71.198644  4.597840  4.722198\n",
       "156     72.627434     76.434187  4.736968  5.069442\n",
       "157     67.669702     70.628910  4.413610  4.684411\n",
       "158     63.445592     78.574439  4.138102  5.211393\n",
       "159     75.457836     68.448935  4.921575  4.539826\n",
       "\n",
       "[160 rows x 4 columns]"
      ]
     },
     "execution_count": 20,
     "metadata": {},
     "output_type": "execute_result"
    }
   ],
   "source": [
    "# Build the dataset bu me\n",
    "\n",
    "x_coordinate = [33.87552801, 38.20874789, 35.74058788, 32.54696343, 62.06314583,\n",
    "       53.76968389, 32.49035022, 55.32520176, 68.10254176, 53.28312355,\n",
    "       67.71803005, 32.84550285, 61.78083409, 62.07246733, 37.2423105 ,\n",
    "       48.39279681, 35.48978845, 65.60854566, 38.02888394, 65.49367503,\n",
    "       41.60372439, 48.41398475, 41.8196699 , 51.7691827 , 45.17995059,\n",
    "       38.02218597, 56.37185206, 52.05250382, 44.24373638, 40.3328119 ,\n",
    "       53.5965755 , 45.87265296, 54.0000117 , 52.6886879 , 53.25422918,\n",
    "       63.54212627, 65.38884629, 49.73312042, 48.58080531, 48.03000662,\n",
    "       44.6671251 , 65.30935896, 40.58584807, 43.93533778, 32.87374964,\n",
    "       43.17638646, 61.44735547, 47.90212636, 47.57275054, 50.65221647,\n",
    "       45.44652101, 48.17757171, 50.11893028, 37.33082581, 53.28605845,\n",
    "       32.60601743, 46.59545712, 54.91413224, 61.18758173, 62.256238  ,\n",
    "       47.80710345, 65.44265167, 36.17446485, 60.90339818, 44.23811688,\n",
    "       40.34232189, 57.19910238, 36.08806305, 35.56663867, 42.41968177,\n",
    "       59.65269146, 32.62462929, 55.80216992, 65.4991867 , 45.54670964,\n",
    "       61.00536902, 58.19939104, 63.11931771, 55.31708313, 45.60947216,\n",
    "       45.63141645, 46.74818575, 68.28352429, 61.96714675, 48.96104619,\n",
    "       45.37856388, 50.84116864, 52.56595621, 39.13493121, 48.99176373,\n",
    "       58.05200858, 41.37122591, 64.35140055, 35.02226785, 48.60847435,\n",
    "       42.64864932, 57.58495149, 49.08107021, 51.42659241, 62.31551719,\n",
    "       26.84075282, 26.9519412 , 32.56213982, 27.10884541, 20.77972888,\n",
    "       34.64864231, 27.3347144 , 38.63528806, 27.36278088, 22.25173068,\n",
    "       23.56181791, 28.68340206, 33.84077613, 28.22316026, 38.08583938,\n",
    "       29.88562784, 28.40850494, 31.72078699, 25.2107398 , 28.67688927,\n",
    "       32.24862075, 26.38752714, 28.69901004, 26.07549743, 34.28710983,\n",
    "       24.02682404, 30.83187787, 32.37571559, 22.76230802, 35.25122351,\n",
    "       70.18239123, 79.58988482, 65.72716493, 68.483399  , 76.41358468,\n",
    "       79.26874523, 64.84182259, 71.11774102, 78.34020408, 63.61846311,\n",
    "       67.53968321, 69.15087805, 67.7921338 , 76.87140431, 62.00437158,\n",
    "       67.49125961, 71.90747913, 65.27576084, 77.58529515, 79.66066418,\n",
    "       77.3246352 , 68.5790018 , 65.97649575, 71.55575552, 69.83671683,\n",
    "       70.49432188, 72.62743438, 67.66970193, 63.44559189, 75.45783601]\n",
    "\n",
    "\n",
    "y_coordinate = [44.89342095, 41.11632695, 57.41800588, 57.21808249, 47.19694448,\n",
    "       35.95195917, 42.02185361, 52.54832221, 52.31212456, 31.63628689,\n",
    "       47.60524807, 54.23496141, 60.8249876 , 65.23558661, 48.23757709,\n",
    "       67.52456486, 54.10211414, 51.8513512 , 39.82817721, 44.28386899,\n",
    "       60.21348801, 45.35513786, 35.81066079, 56.95992181, 61.05673695,\n",
    "       44.3455702 , 49.53371078, 57.76601798, 41.7427565 , 52.07742897,\n",
    "       55.58701182, 43.81629667, 61.46690781, 44.37759236, 44.72275113,\n",
    "       47.98225455, 47.73690086, 46.04982378, 56.78708413, 56.60380297,\n",
    "       61.71604212, 56.52781557, 45.81317068, 49.10776882, 41.14505632,\n",
    "       64.84595737, 62.46952021, 58.29912471, 48.53320807, 48.79467674,\n",
    "       40.65821118, 30.46658829, 65.18053982, 41.7300068 , 69.24321762,\n",
    "       56.00106984, 39.63738121, 38.40458709, 39.63915235, 38.73957078,\n",
    "       36.00996935, 45.62729042, 57.17020665, 51.32130045, 40.89880525,\n",
    "       41.15484687, 58.21497749, 43.45728537, 42.72274718, 39.27124659,\n",
    "       42.66172394, 57.40714755, 34.25546896, 61.29461186, 30.51392786,\n",
    "       65.03769516, 63.37885691, 62.92620573, 35.88019397, 52.89656063,\n",
    "       37.25902081, 31.67028002, 47.16555533, 50.88239704, 41.7797539 ,\n",
    "       49.38557057, 52.58865855, 40.89034886, 65.91171887, 46.57669291,\n",
    "       63.55568215, 45.4501224 , 43.70526533, 46.58949707, 38.91660456,\n",
    "       55.46764508, 67.89462117, 36.02362381, 59.98536063, 54.70049854,\n",
    "       82.72356822, 77.94443633, 75.40050307, 68.91634077, 72.8427495 ,\n",
    "       74.71747016, 70.61496975, 76.12679438, 80.60280865, 70.19696262,\n",
    "       68.23133123, 83.83579387, 83.97371743, 70.71122299, 72.22425104,\n",
    "       79.61715462, 74.81720151, 81.28549433, 79.83947613, 82.5450522 ,\n",
    "       72.41216494, 74.6039565 , 68.84261456, 73.2893676 , 80.51600557,\n",
    "       82.63965729, 66.38754732, 73.35737436, 72.53759838, 73.71960775,\n",
    "       78.16166533, 75.99349931, 67.23738628, 82.50606009, 77.72556254,\n",
    "       73.68057343, 83.33967753, 84.67897398, 71.78110972, 68.16591019,\n",
    "       83.87925655, 74.22367682, 78.15268345, 74.21207007, 75.13106436,\n",
    "       77.71960453, 71.08256275, 74.66344797, 80.3555998 , 73.34017066,\n",
    "       70.12614603, 77.46797551, 77.65232497, 76.70948616, 73.94355101,\n",
    "       71.19864361, 76.43418687, 70.62890953, 78.5744389 , 68.44893502]\n",
    "\n",
    "\n",
    "#Convert to pandas DataFrame\n",
    "mouse = pd.DataFrame({'x_coordinate': x_coordinate,\n",
    "'y_coordinate': y_coordinate})\n",
    "\n",
    "#scalling by whiten\n",
    "mouse['x_scaled'] = whiten(mouse['x_coordinate'])\n",
    "mouse['y_scaled'] = whiten(mouse['y_coordinate'])\n",
    "\n",
    "mouse"
   ]
  },
  {
   "cell_type": "markdown",
   "metadata": {},
   "source": [
    "------------------------"
   ]
  },
  {
   "cell_type": "markdown",
   "metadata": {},
   "source": [
    "<ul>\n",
    "<li>Import <code>kmeans</code> and <code>vq</code> functions in SciPy.</li>\n",
    "<li>Generate cluster centers using the <code>kmeans()</code> function with three clusters.</li>\n",
    "<li>Create cluster labels with <code>vq()</code> with the cluster centers generated above.</li>\n",
    "</ul>"
   ]
  },
  {
   "cell_type": "code",
   "execution_count": 21,
   "metadata": {},
   "outputs": [
    {
     "data": {
      "image/png": "[encoded data removed]",
      "text/plain": [
       "<Figure size 432x288 with 1 Axes>"
      ]
     },
     "metadata": {
      "needs_background": "light"
     },
     "output_type": "display_data"
    }
   ],
   "source": [
    "# Import the kmeans and vq functions\n",
    "from scipy.cluster.vq import kmeans, vq\n",
    "\n",
    "\n",
    "# Generate cluster centers\n",
    "cluster_centers, distortion = kmeans(mouse[['x_scaled','y_scaled']], 3)\n",
    "\n",
    "# Assign cluster labels\n",
    "mouse['cluster_labels'], distortion_list = vq(mouse[['x_scaled','y_scaled']], cluster_centers)\n",
    "\n",
    "# Plot clusters\n",
    "sns.scatterplot(x='x_scaled', y='y_scaled', \n",
    "                hue='cluster_labels', data = mouse)\n",
    "plt.show()"
   ]
  },
  {
   "cell_type": "raw",
   "metadata": {},
   "source": [
    "You are correct! Notice that kmeans is unable to capture the three visible clusters clearly, and the two clusters towards the top have taken in some points along the boundary. This happens due to the underlying assumption in kmeans algorithm to minimize distortions which leads to clusters that are similar in terms of area."
   ]
  },
  {
   "cell_type": "markdown",
   "metadata": {},
   "source": [
    "# 10- FIFA 18: defenders revisited\n"
   ]
  },
  {
   "cell_type": "code",
   "execution_count": 26,
   "metadata": {},
   "outputs": [],
   "source": [
    "# Get the data from DataCamp\n",
    "\n",
    "scaled_def = [1.54134839, 1.2143957 , 1.40122581, 1.96171614, 2.80245162,\n",
    "       1.77488603, 2.70903657, 1.49464087, 3.40964948, 1.16768818,\n",
    "       4.11026238, 2.10183872, 2.28866883, 1.86830108, 3.36294195,\n",
    "       2.66232904, 1.07427312, 4.20367744, 2.14854625, 1.12098065,\n",
    "       2.42879141, 1.40122581, 2.89586668, 1.7281785 , 4.06355486,\n",
    "       4.11026238, 4.11026238, 4.15696991, 1.12098065, 2.98928173,\n",
    "       4.15696991, 1.49464087, 1.49464087, 3.78330969, 3.68989464,\n",
    "       3.17611184, 2.19525377, 3.87672475, 1.96171614, 3.87672475,\n",
    "       3.17611184, 2.80245162, 1.77488603, 2.61562152, 4.01684733,\n",
    "       2.70903657, 1.96171614, 1.86830108, 2.52220646, 3.83001722,\n",
    "       1.58805592, 3.78330969, 2.14854625, 3.83001722, 1.63476345,\n",
    "       1.82159356, 4.06355486, 3.92343227, 1.86830108, 3.78330969,\n",
    "       4.01684733, 1.68147097, 4.06355486, 4.11026238, 1.0275656 ,\n",
    "       2.84915915, 1.16768818, 4.01684733, 1.96171614, 1.35451829,\n",
    "       3.92343227, 1.12098065, 3.92343227, 1.16768818, 3.03598926,\n",
    "       1.77488603, 2.47549894, 2.52220646, 2.47549894, 2.28866883,\n",
    "       2.10183872, 4.01684733, 3.78330969, 2.98928173, 4.01684733,\n",
    "       2.19525377, 3.12940431, 3.54977206, 3.9701398 , 3.87672475,\n",
    "       2.2419613 , 3.83001722, 3.92343227, 4.11026238, 3.92343227,\n",
    "       1.82159356, 2.10183872, 4.01684733, 2.98928173, 1.68147097,\n",
    "       3.87672475, 1.58805592, 1.2143957 , 3.9701398 , 2.2419613 ,\n",
    "       4.01684733, 3.87672475, 3.64318711, 3.73660217, 3.64318711,\n",
    "       1.7281785 , 2.2419613 , 3.64318711, 1.96171614, 1.49464087,\n",
    "       2.28866883, 3.73660217, 2.00842366, 2.61562152, 1.49464087,\n",
    "       3.9701398 , 1.7281785 , 3.9701398 , 3.92343227, 3.59647959,\n",
    "       1.44793334, 2.14854625, 2.19525377, 1.54134839, 2.89586668,\n",
    "       3.92343227, 2.38208388, 2.89586668, 3.2695269 , 3.87672475,\n",
    "       2.94257421, 3.64318711, 3.87672475, 2.10183872, 1.35451829,\n",
    "       1.40122581, 3.92343227, 3.73660217, 3.83001722, 1.30781076,\n",
    "       3.87672475, 2.14854625, 3.83001722, 1.30781076, 2.89586668,\n",
    "       3.9701398 , 2.61562152, 3.92343227, 3.87672475, 1.35451829,\n",
    "       1.77488603, 3.87672475, 2.70903657, 2.84915915, 1.58805592,\n",
    "       3.12940431, 2.00842366, 3.73660217, 2.00842366, 3.73660217,\n",
    "       3.92343227, 3.9701398 , 1.63476345, 3.64318711, 1.26110323,\n",
    "       1.82159356, 3.03598926, 3.03598926, 3.87672475, 2.89586668,\n",
    "       2.56891399, 2.38208388, 1.7281785 , 3.68989464, 1.63476345,\n",
    "       3.78330969, 3.92343227, 3.64318711, 2.84915915, 3.50306453,\n",
    "       2.94257421, 4.01684733, 3.50306453, 2.05513119, 2.84915915,\n",
    "       3.83001722, 1.77488603, 1.12098065, 3.78330969, 2.66232904,\n",
    "       0.84073549, 3.2695269 , 2.70903657, 2.33537635, 1.63476345,\n",
    "       3.78330969, 3.54977206, 1.44793334, 3.36294195, 1.35451829,\n",
    "       3.83001722, 1.58805592, 1.30781076, 3.31623442, 1.91500861,\n",
    "       1.35451829, 2.00842366, 3.59647959, 3.87672475, 1.12098065,\n",
    "       2.00842366, 2.84915915, 2.42879141, 3.03598926, 3.83001722,\n",
    "       1.68147097, 3.87672475, 3.83001722, 3.40964948, 3.54977206,\n",
    "       3.12940431, 1.54134839, 2.14854625, 1.07427312, 1.2143957 ,\n",
    "       3.78330969, 3.78330969, 2.10183872, 1.16768818, 3.9701398 ,\n",
    "       3.36294195, 2.47549894, 2.84915915, 1.7281785 , 1.7281785 ,\n",
    "       2.28866883, 3.78330969, 3.87672475, 2.14854625, 2.84915915,\n",
    "       1.49464087, 3.73660217, 3.87672475, 3.83001722, 2.19525377]\n",
    "\n",
    "\n",
    "scaled_phy = [ 8.9221865 ,  6.8031672 ,  6.69163987,  9.03371383, 10.14898714,\n",
    "        9.14524116,  9.59135048,  7.36080386,  7.80691319,  8.25302251,\n",
    "        9.25676849,  8.36454984,  9.59135048,  8.69913183,  7.24927653,\n",
    "        8.47607717,  8.02996785,  9.47982315, 10.03745981,  7.47233119,\n",
    "        9.70287782,  7.58385852,  7.02622187,  7.91844052,  9.03371383,\n",
    "        9.36829582,  8.81065917,  8.47607717,  6.46858521,  9.14524116,\n",
    "        8.81065917,  9.14524116,  7.02622187,  9.36829582,  7.58385852,\n",
    "        9.81440515,  7.02622187,  9.36829582,  9.03371383,  8.81065917,\n",
    "        7.91844052,  7.36080386,  6.8031672 ,  9.70287782,  8.47607717,\n",
    "        6.46858521,  9.25676849,  7.58385852,  6.91469454,  8.25302251,\n",
    "        9.36829582,  9.36829582,  7.91844052,  9.03371383,  7.1377492 ,\n",
    "        7.1377492 ,  8.9221865 ,  9.03371383,  9.81440515,  9.25676849,\n",
    "        8.9221865 ,  6.13400322,  9.36829582,  8.5876045 ,  8.25302251,\n",
    "        7.1377492 ,  6.46858521,  8.9221865 ,  9.25676849,  7.02622187,\n",
    "        8.81065917,  8.25302251,  9.59135048,  5.57636656,  8.47607717,\n",
    "        8.5876045 ,  8.9221865 ,  7.80691319,  9.47982315,  9.47982315,\n",
    "        9.03371383,  9.36829582,  8.02996785,  7.91844052,  8.69913183,\n",
    "        7.58385852,  7.69538585,  8.25302251,  9.03371383,  9.36829582,\n",
    "        9.47982315,  8.81065917,  9.25676849,  8.14149518,  9.36829582,\n",
    "        6.8031672 ,  6.8031672 ,  8.69913183,  8.69913183,  8.36454984,\n",
    "        8.81065917,  7.1377492 ,  7.80691319,  9.59135048,  9.14524116,\n",
    "        9.25676849,  8.81065917,  8.5876045 ,  9.70287782,  9.14524116,\n",
    "        6.91469454,  8.81065917,  8.5876045 ,  8.36454984,  8.02996785,\n",
    "        7.1377492 ,  9.36829582,  9.47982315,  9.14524116,  6.13400322,\n",
    "        9.14524116,  8.25302251,  8.69913183,  8.69913183,  7.36080386,\n",
    "        6.46858521,  8.9221865 ,  8.25302251,  6.24553055,  7.80691319,\n",
    "        9.03371383,  9.14524116,  7.80691319,  7.91844052,  9.03371383,\n",
    "        8.69913183,  8.47607717,  9.25676849,  7.36080386,  9.36829582,\n",
    "        7.36080386,  8.47607717,  9.25676849,  8.81065917,  6.13400322,\n",
    "        9.47982315,  8.5876045 ,  9.70287782,  8.47607717,  8.81065917,\n",
    "        8.47607717,  8.69913183,  8.69913183,  9.03371383,  7.02622187,\n",
    "        8.47607717,  9.03371383,  7.1377492 ,  7.69538585,  5.46483923,\n",
    "        8.14149518,  9.25676849,  9.03371383,  5.24178457,  9.81440515,\n",
    "        8.69913183,  8.36454984,  7.24927653,  8.02996785,  6.35705788,\n",
    "        6.13400322,  9.70287782,  8.25302251,  8.5876045 ,  7.47233119,\n",
    "        8.81065917,  8.9221865 ,  7.69538585,  9.03371383,  7.24927653,\n",
    "        8.9221865 ,  8.9221865 ,  9.47982315,  8.9221865 ,  9.36829582,\n",
    "        7.24927653,  8.9221865 ,  8.36454984,  9.25676849,  7.02622187,\n",
    "        8.5876045 ,  6.35705788,  7.1377492 ,  9.14524116,  9.14524116,\n",
    "        6.69163987,  9.25676849,  8.9221865 ,  8.69913183,  7.80691319,\n",
    "        9.25676849,  9.25676849,  8.36454984,  8.25302251,  7.80691319,\n",
    "        8.69913183,  7.24927653,  7.24927653,  9.03371383,  8.25302251,\n",
    "        7.47233119,  7.47233119,  8.36454984,  9.03371383,  7.80691319,\n",
    "        8.47607717,  7.91844052,  9.14524116,  7.69538585,  8.81065917,\n",
    "        7.02622187,  8.25302251,  8.81065917,  8.9221865 ,  8.47607717,\n",
    "        8.81065917,  7.58385852,  6.8031672 ,  5.68789389,  6.8031672 ,\n",
    "        9.47982315,  9.25676849,  6.91469454,  7.36080386,  8.5876045 ,\n",
    "        8.69913183,  7.58385852,  7.69538585,  8.5876045 ,  8.69913183,\n",
    "        9.03371383,  9.03371383,  9.03371383,  7.24927653,  7.24927653,\n",
    "        7.1377492 ,  8.47607717,  9.25676849, 10.14898714,  7.02622187]\n",
    "\n",
    "\n",
    "\n",
    "#Convert to pandas DataFrame\n",
    "fifa_sub = pd.DataFrame({'scaled_def': scaled_def,\n",
    "'scaled_phy': scaled_phy})\n",
    "\n"
   ]
  },
  {
   "cell_type": "code",
   "execution_count": 27,
   "metadata": {},
   "outputs": [
    {
     "data": {
      "text/html": [
       "<div>\n",
       "<style scoped>\n",
       "    .dataframe tbody tr th:only-of-type {\n",
       "        vertical-align: middle;\n",
       "    }\n",
       "\n",
       "    .dataframe tbody tr th {\n",
       "        vertical-align: top;\n",
       "    }\n",
       "\n",
       "    .dataframe thead th {\n",
       "        text-align: right;\n",
       "    }\n",
       "</style>\n",
       "<table border=\"1\" class=\"dataframe\">\n",
       "  <thead>\n",
       "    <tr style=\"text-align: right;\">\n",
       "      <th></th>\n",
       "      <th>scaled_def</th>\n",
       "      <th>scaled_phy</th>\n",
       "    </tr>\n",
       "  </thead>\n",
       "  <tbody>\n",
       "    <tr>\n",
       "      <td>0</td>\n",
       "      <td>1.541348</td>\n",
       "      <td>8.922187</td>\n",
       "    </tr>\n",
       "    <tr>\n",
       "      <td>1</td>\n",
       "      <td>1.214396</td>\n",
       "      <td>6.803167</td>\n",
       "    </tr>\n",
       "    <tr>\n",
       "      <td>2</td>\n",
       "      <td>1.401226</td>\n",
       "      <td>6.691640</td>\n",
       "    </tr>\n",
       "    <tr>\n",
       "      <td>3</td>\n",
       "      <td>1.961716</td>\n",
       "      <td>9.033714</td>\n",
       "    </tr>\n",
       "    <tr>\n",
       "      <td>4</td>\n",
       "      <td>2.802452</td>\n",
       "      <td>10.148987</td>\n",
       "    </tr>\n",
       "    <tr>\n",
       "      <td>...</td>\n",
       "      <td>...</td>\n",
       "      <td>...</td>\n",
       "    </tr>\n",
       "    <tr>\n",
       "      <td>245</td>\n",
       "      <td>1.494641</td>\n",
       "      <td>7.137749</td>\n",
       "    </tr>\n",
       "    <tr>\n",
       "      <td>246</td>\n",
       "      <td>3.736602</td>\n",
       "      <td>8.476077</td>\n",
       "    </tr>\n",
       "    <tr>\n",
       "      <td>247</td>\n",
       "      <td>3.876725</td>\n",
       "      <td>9.256768</td>\n",
       "    </tr>\n",
       "    <tr>\n",
       "      <td>248</td>\n",
       "      <td>3.830017</td>\n",
       "      <td>10.148987</td>\n",
       "    </tr>\n",
       "    <tr>\n",
       "      <td>249</td>\n",
       "      <td>2.195254</td>\n",
       "      <td>7.026222</td>\n",
       "    </tr>\n",
       "  </tbody>\n",
       "</table>\n",
       "<p>250 rows × 2 columns</p>\n",
       "</div>"
      ],
      "text/plain": [
       "     scaled_def  scaled_phy\n",
       "0      1.541348    8.922187\n",
       "1      1.214396    6.803167\n",
       "2      1.401226    6.691640\n",
       "3      1.961716    9.033714\n",
       "4      2.802452   10.148987\n",
       "..          ...         ...\n",
       "245    1.494641    7.137749\n",
       "246    3.736602    8.476077\n",
       "247    3.876725    9.256768\n",
       "248    3.830017   10.148987\n",
       "249    2.195254    7.026222\n",
       "\n",
       "[250 rows x 2 columns]"
      ]
     },
     "execution_count": 27,
     "metadata": {},
     "output_type": "execute_result"
    }
   ],
   "source": [
    "fifa_sub"
   ]
  },
  {
   "cell_type": "markdown",
   "metadata": {},
   "source": [
    "<p>In the FIFA 18 dataset, various attributes of players are present. Two such attributes are:</p>\n",
    "<ul>\n",
    "<li><em>defending</em>: a number which signifies the defending attributes of a player</li>\n",
    "<li><em>physical</em>: a number which signifies the physical attributes of a player</li>\n",
    "</ul>\n",
    "<p>These are typically defense-minded players. In this exercise, you will perform clustering based on these attributes in the data.</p>\n",
    "<p>The following modules have been pre-loaded: <code>kmeans</code>, <code>vq</code> from <code>scipy.cluster.vq</code>, <code>matplotlib.pyplot</code> as <code>plt</code>, <code>seaborn</code> as <code>sns</code>. The data for this exercise is stored in a Pandas dataframe, <code>fifa</code>. The scaled variables are <code>scaled_def</code> and <code>scaled_phy</code>.</p>"
   ]
  },
  {
   "cell_type": "markdown",
   "metadata": {},
   "source": [
    "###### I Get the Two columns only and put them in fifa_sum"
   ]
  },
  {
   "cell_type": "markdown",
   "metadata": {},
   "source": [
    "- Initialize the random seed to the list [1000,2000].\n",
    "- Fit the scaled data in columns scaled_def and scaled_phy into a k-means clustering algorithm with 3 clusters and assign cluster labels.\n",
    "- Display cluster centers of each cluster with respect to the scaled columns by calculating the mean value for each cluster.\n",
    "- Create a seaborn scatter plot with scaled_def on the x-axis and scaled_phy on the y-axis, with each cluster represented by a different color."
   ]
  },
  {
   "cell_type": "code",
   "execution_count": 32,
   "metadata": {},
   "outputs": [
    {
     "name": "stdout",
     "output_type": "stream",
     "text": [
      "                scaled_def  scaled_phy\n",
      "cluster_labels                        \n",
      "0                 3.743692    8.867419\n",
      "1                 1.865936    7.082691\n",
      "2                 2.096297    8.944870\n"
     ]
    },
    {
     "data": {
      "image/png": "[encoded data removed]",
      "text/plain": [
       "<Figure size 432x288 with 1 Axes>"
      ]
     },
     "metadata": {
      "needs_background": "light"
     },
     "output_type": "display_data"
    }
   ],
   "source": [
    "# Set up a random seed in numpy\n",
    "random.seed([1000,2000])\n",
    "\n",
    "# Fit the data into a k-means algorithm\n",
    "cluster_centers,_ = kmeans(fifa_sub[['scaled_def', 'scaled_phy']], 3)\n",
    "\n",
    "# Assign cluster labels\n",
    "fifa_sub['cluster_labels'], _ = vq(fifa_sub[['scaled_def', 'scaled_phy']], cluster_centers)\n",
    "\n",
    "# Display cluster centers \n",
    "print(fifa_sub[['scaled_def', 'scaled_phy', 'cluster_labels']].groupby('cluster_labels').mean())\n",
    "\n",
    "# Create a scatter plot through seaborn\n",
    "sns.scatterplot(x='scaled_def', y='scaled_phy', hue='cluster_labels', data=fifa_sub)\n",
    "plt.show()"
   ]
  },
  {
   "cell_type": "code",
   "execution_count": 33,
   "metadata": {},
   "outputs": [
    {
     "name": "stdout",
     "output_type": "stream",
     "text": [
      "                scaled_def  scaled_phy\n",
      "cluster_labels                        \n",
      "0                 2.096297    8.944870\n",
      "1                 3.743692    8.867419\n",
      "2                 1.865936    7.082691\n"
     ]
    },
    {
     "data": {
      "image/png": "[encoded data removed]",
      "text/plain": [
       "<Figure size 432x288 with 1 Axes>"
      ]
     },
     "metadata": {
      "needs_background": "light"
     },
     "output_type": "display_data"
    }
   ],
   "source": [
    "# Set up a random seed in numpy\n",
    "#random.seed([1000,2000])\n",
    "\n",
    "# Fit the data into a k-means algorithm\n",
    "cluster_centers,_ = kmeans(fifa_sub[['scaled_def', 'scaled_phy']], 3)\n",
    "\n",
    "# Assign cluster labels\n",
    "fifa_sub['cluster_labels'], _ = vq(fifa_sub[['scaled_def', 'scaled_phy']], cluster_centers)\n",
    "\n",
    "# Display cluster centers \n",
    "print(fifa_sub[['scaled_def', 'scaled_phy', 'cluster_labels']].groupby('cluster_labels').mean())\n",
    "\n",
    "# Create a scatter plot through seaborn\n",
    "sns.scatterplot(x='scaled_def', y='scaled_phy', hue='cluster_labels', data=fifa_sub)\n",
    "plt.show()"
   ]
  },
  {
   "cell_type": "code",
   "execution_count": null,
   "metadata": {},
   "outputs": [],
   "source": []
  }
 ],
 "metadata": {
  "kernelspec": {
   "display_name": "Python 3",
   "language": "python",
   "name": "python3"
  },
  "language_info": {
   "codemirror_mode": {
    "name": "ipython",
    "version": 3
   },
   "file_extension": ".py",
   "mimetype": "text/x-python",
   "name": "python",
   "nbconvert_exporter": "python",
   "pygments_lexer": "ipython3",
   "version": "3.7.4"
  }
 },
 "nbformat": 4,
 "nbformat_minor": 2
}
