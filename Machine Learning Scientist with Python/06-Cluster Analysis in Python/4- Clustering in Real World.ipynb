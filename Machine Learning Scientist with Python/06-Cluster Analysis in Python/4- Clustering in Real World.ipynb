{
 "cells": [
  {
   "cell_type": "markdown",
   "metadata": {},
   "source": [
    "Now that you are familiar with two of the most popular clustering techniques, this chapter helps you apply this knowledge to real-world problems. The chapter first discusses the process of finding dominant colors in an image, before moving on to the problem discussed in the introduction - clustering of news articles. The chapter concludes with a discussion on clustering with multiple variables, which makes it difficult to visualize all the data."
   ]
  },
  {
   "cell_type": "markdown",
   "metadata": {},
   "source": [
    "# 1- Dominant colors in images\n"
   ]
  },
  {
   "cell_type": "markdown",
   "metadata": {},
   "source": [
    "video"
   ]
  },
  {
   "cell_type": "markdown",
   "metadata": {},
   "source": [
    "# 2- Extract RGB values from image\n"
   ]
  },
  {
   "cell_type": "markdown",
   "metadata": {},
   "source": [
    "<p>There are broadly three steps to find the dominant colors in an image:</p>\n",
    "<ul>\n",
    "<li>Extract RGB values into three lists.</li>\n",
    "<li>Perform k-means clustering on scaled RGB values.</li>\n",
    "<li>Display the colors of cluster centers.</li>\n",
    "</ul>\n",
    "<p>To extract RGB values, we use the <code>imread()</code> function of the <code>image</code> class of <code>matplotlib</code>. Empty lists, <code>r</code>, <code>g</code> and <code>b</code> have been initialized.</p>\n",
    "<p>For the purpose of finding dominant colors, we will be using the following image.</p>\n",
    "<p><img src=\"https://assets.datacamp.com/production/repositories/3842/datasets/57d0d6d409bfd543e86c7f7398239fa0722e9b48/batman.jpg\" alt></p>"
   ]
  },
  {
   "cell_type": "markdown",
   "metadata": {},
   "source": [
    "<ul>\n",
    "<li>Import <code>image</code> class of <code>matplotlib</code>.</li>\n",
    "<li>Read the image using the <code>imread()</code> function and print the dimensions of the resultant matrix.</li>\n",
    "<li>Store the values for the three colors from all pixels in lists <code>r</code>, <code>g</code> and <code>b</code>.</li>\n",
    "</ul>"
   ]
  },
  {
   "cell_type": "code",
   "execution_count": 1,
   "metadata": {},
   "outputs": [
    {
     "name": "stdout",
     "output_type": "stream",
     "text": [
      "(169, 269, 3)\n"
     ]
    }
   ],
   "source": [
    "# Import image class of matplotlib\n",
    "import matplotlib.image as img\n",
    "\n",
    "r = []\n",
    "g = []\n",
    "b = []\n",
    "\n",
    "# Read batman image and print dimensions\n",
    "batman_image = img.imread('datasets/batman.jpg')\n",
    "print(batman_image.shape)\n",
    "\n",
    "# Store RGB values of all pixels in lists r, g and b\n",
    "for row in batman_image:\n",
    "    for temp_r, temp_g, temp_b in row:\n",
    "        r.append(temp_r)\n",
    "        g.append(temp_g)\n",
    "        b.append(temp_b)"
   ]
  },
  {
   "cell_type": "raw",
   "metadata": {},
   "source": [
    "That is correct! You have successfully extracted the RGB values of the image into three lists, one for each color channel."
   ]
  },
  {
   "cell_type": "markdown",
   "metadata": {},
   "source": [
    "# 3- How many dominant colors?\n"
   ]
  },
  {
   "cell_type": "markdown",
   "metadata": {},
   "source": [
    "<p>We have loaded the following image using the <code>imread()</code> function of the <code>image</code> class of <code>matplotlib</code>.</p>\n",
    "<p><img src=\"https://assets.datacamp.com/production/repositories/3842/datasets/57d0d6d409bfd543e86c7f7398239fa0722e9b48/batman.jpg\" alt></p>\n",
    "<p>The RGB values are stored in a data frame, <code>batman_df</code>. The RGB values have been standardized used the <code>whiten()</code> function, stored in columns, <code>scaled_red</code>, <code>scaled_blue</code> and <code>scaled_green</code>.</p>\n",
    "<p>Construct an elbow plot with the data frame. How many dominant colors are present?</p>"
   ]
  },
  {
   "cell_type": "code",
   "execution_count": 18,
   "metadata": {},
   "outputs": [],
   "source": [
    "# to do standardizlation\n",
    "\n",
    "import pandas as pd\n",
    "import seaborn as sns\n",
    "import matplotlib.pyplot as plt\n",
    "\n",
    "# Import the whiten function\n",
    "from scipy.cluster.vq import whiten\n",
    "\n",
    "# Import the kmeans and vq functions\n",
    "from scipy.cluster.vq import kmeans, vq\n",
    "\n",
    "batman_df=pd.DataFrame({'red':r, 'blue':b, 'green':g})\n",
    "\n",
    "#scalling by whiten\n",
    "batman_df['scaled_red'] = whiten(r)\n",
    "batman_df['scaled_blue'] = whiten(b)\n",
    "batman_df['scaled_green'] = whiten(g)"
   ]
  },
  {
   "cell_type": "code",
   "execution_count": 19,
   "metadata": {},
   "outputs": [
    {
     "data": {
      "text/html": [
       "<div>\n",
       "<style scoped>\n",
       "    .dataframe tbody tr th:only-of-type {\n",
       "        vertical-align: middle;\n",
       "    }\n",
       "\n",
       "    .dataframe tbody tr th {\n",
       "        vertical-align: top;\n",
       "    }\n",
       "\n",
       "    .dataframe thead th {\n",
       "        text-align: right;\n",
       "    }\n",
       "</style>\n",
       "<table border=\"1\" class=\"dataframe\">\n",
       "  <thead>\n",
       "    <tr style=\"text-align: right;\">\n",
       "      <th></th>\n",
       "      <th>red</th>\n",
       "      <th>blue</th>\n",
       "      <th>green</th>\n",
       "      <th>scaled_red</th>\n",
       "      <th>scaled_blue</th>\n",
       "      <th>scaled_green</th>\n",
       "    </tr>\n",
       "  </thead>\n",
       "  <tbody>\n",
       "    <tr>\n",
       "      <td>0</td>\n",
       "      <td>36</td>\n",
       "      <td>25</td>\n",
       "      <td>28</td>\n",
       "      <td>0.450157</td>\n",
       "      <td>0.279912</td>\n",
       "      <td>0.370103</td>\n",
       "    </tr>\n",
       "    <tr>\n",
       "      <td>1</td>\n",
       "      <td>39</td>\n",
       "      <td>19</td>\n",
       "      <td>21</td>\n",
       "      <td>0.487671</td>\n",
       "      <td>0.212733</td>\n",
       "      <td>0.277577</td>\n",
       "    </tr>\n",
       "    <tr>\n",
       "      <td>2</td>\n",
       "      <td>52</td>\n",
       "      <td>21</td>\n",
       "      <td>20</td>\n",
       "      <td>0.650227</td>\n",
       "      <td>0.235126</td>\n",
       "      <td>0.264359</td>\n",
       "    </tr>\n",
       "    <tr>\n",
       "      <td>3</td>\n",
       "      <td>61</td>\n",
       "      <td>28</td>\n",
       "      <td>27</td>\n",
       "      <td>0.762767</td>\n",
       "      <td>0.313502</td>\n",
       "      <td>0.356885</td>\n",
       "    </tr>\n",
       "    <tr>\n",
       "      <td>4</td>\n",
       "      <td>37</td>\n",
       "      <td>18</td>\n",
       "      <td>15</td>\n",
       "      <td>0.462662</td>\n",
       "      <td>0.201537</td>\n",
       "      <td>0.198269</td>\n",
       "    </tr>\n",
       "    <tr>\n",
       "      <td>...</td>\n",
       "      <td>...</td>\n",
       "      <td>...</td>\n",
       "      <td>...</td>\n",
       "      <td>...</td>\n",
       "      <td>...</td>\n",
       "      <td>...</td>\n",
       "    </tr>\n",
       "    <tr>\n",
       "      <td>45456</td>\n",
       "      <td>33</td>\n",
       "      <td>27</td>\n",
       "      <td>24</td>\n",
       "      <td>0.412644</td>\n",
       "      <td>0.302305</td>\n",
       "      <td>0.317231</td>\n",
       "    </tr>\n",
       "    <tr>\n",
       "      <td>45457</td>\n",
       "      <td>31</td>\n",
       "      <td>25</td>\n",
       "      <td>22</td>\n",
       "      <td>0.387636</td>\n",
       "      <td>0.279912</td>\n",
       "      <td>0.290795</td>\n",
       "    </tr>\n",
       "    <tr>\n",
       "      <td>45458</td>\n",
       "      <td>34</td>\n",
       "      <td>28</td>\n",
       "      <td>25</td>\n",
       "      <td>0.425149</td>\n",
       "      <td>0.313502</td>\n",
       "      <td>0.330449</td>\n",
       "    </tr>\n",
       "    <tr>\n",
       "      <td>45459</td>\n",
       "      <td>18</td>\n",
       "      <td>15</td>\n",
       "      <td>14</td>\n",
       "      <td>0.225079</td>\n",
       "      <td>0.167947</td>\n",
       "      <td>0.185051</td>\n",
       "    </tr>\n",
       "    <tr>\n",
       "      <td>45460</td>\n",
       "      <td>51</td>\n",
       "      <td>50</td>\n",
       "      <td>49</td>\n",
       "      <td>0.637723</td>\n",
       "      <td>0.559824</td>\n",
       "      <td>0.647679</td>\n",
       "    </tr>\n",
       "  </tbody>\n",
       "</table>\n",
       "<p>45461 rows × 6 columns</p>\n",
       "</div>"
      ],
      "text/plain": [
       "       red  blue  green  scaled_red  scaled_blue  scaled_green\n",
       "0       36    25     28    0.450157     0.279912      0.370103\n",
       "1       39    19     21    0.487671     0.212733      0.277577\n",
       "2       52    21     20    0.650227     0.235126      0.264359\n",
       "3       61    28     27    0.762767     0.313502      0.356885\n",
       "4       37    18     15    0.462662     0.201537      0.198269\n",
       "...    ...   ...    ...         ...          ...           ...\n",
       "45456   33    27     24    0.412644     0.302305      0.317231\n",
       "45457   31    25     22    0.387636     0.279912      0.290795\n",
       "45458   34    28     25    0.425149     0.313502      0.330449\n",
       "45459   18    15     14    0.225079     0.167947      0.185051\n",
       "45460   51    50     49    0.637723     0.559824      0.647679\n",
       "\n",
       "[45461 rows x 6 columns]"
      ]
     },
     "execution_count": 19,
     "metadata": {},
     "output_type": "execute_result"
    }
   ],
   "source": [
    "batman_df"
   ]
  },
  {
   "cell_type": "markdown",
   "metadata": {},
   "source": [
    "<ul>\n",
    "<li>Create a list of distortions based on each value in <code>num_clusters</code> by running the <code>kmeans()</code> function.</li>\n",
    "<li>Create a data frame <code>elbow_plot</code> with the lists: <code>num_clusters</code> and <code>distortions</code>.</li>\n",
    "<li>Plot the data with <code>seaborn</code>&apos;s <code>.lineplot()</code> method with <code>num_clusters</code> on the x-axis and <code>distortions</code> on the y-axis.</li>\n",
    "</ul>"
   ]
  },
  {
   "cell_type": "code",
   "execution_count": 20,
   "metadata": {},
   "outputs": [
    {
     "data": {
      "image/png": "[encoded data removed]",
      "text/plain": [
       "<Figure size 432x288 with 1 Axes>"
      ]
     },
     "metadata": {
      "needs_background": "light"
     },
     "output_type": "display_data"
    }
   ],
   "source": [
    "distortions = []\n",
    "num_clusters = range(1, 7)\n",
    "\n",
    "# Create a list of distortions from the kmeans function\n",
    "for i in num_clusters:\n",
    "    cluster_centers, distortion = kmeans(batman_df[['scaled_red', 'scaled_blue', 'scaled_green']], i)\n",
    "    distortions.append(distortion)\n",
    "\n",
    "# Create a data frame with two lists, num_clusters and distortions\n",
    "elbow_plot = pd.DataFrame({'num_clusters': num_clusters, 'distortions': distortions})\n",
    "\n",
    "# Create a line plot of num_clusters and distortions\n",
    "sns.lineplot(x='num_clusters', y='distortions', data = elbow_plot)\n",
    "plt.xticks(num_clusters)\n",
    "plt.show()"
   ]
  },
  {
   "cell_type": "raw",
   "metadata": {},
   "source": [
    "You are right! Notice that there are three distinct colors present in the image, which is supported by the elbow plot."
   ]
  },
  {
   "cell_type": "markdown",
   "metadata": {},
   "source": [
    "# 4- Display dominant colors\n"
   ]
  },
  {
   "cell_type": "markdown",
   "metadata": {},
   "source": [
    "<p>We have loaded the following image using the <code>imread()</code> function of the <code>image</code> class of <code>matplotlib</code>.</p>\n",
    "<p><img src=\"https://assets.datacamp.com/production/repositories/3842/datasets/57d0d6d409bfd543e86c7f7398239fa0722e9b48/batman.jpg\" alt></p>\n",
    "<p>To display the dominant colors, convert the colors of the cluster centers to their raw values and then converted them to the range of 0-1, using the following formula: <p>\n",
    "<code>converted_pixel = standardized_pixel * pixel_std / 255</code></p></p>\n",
    "<p>The RGB values are stored in a data frame, <code>batman_df</code>. The scaled RGB values are stored in columns, <code>scaled_red</code>, <code>scaled_blue</code> and <code>scaled_green</code>. The cluster centers are stored in the variable <code>cluster_centers</code>, which were generated using the <code>kmeans()</code> function with three clusters.</p>"
   ]
  },
  {
   "cell_type": "markdown",
   "metadata": {},
   "source": [
    "<ul>\n",
    "<li>Get standard deviations of each color from the data frame and store it in <code>r_std</code>, <code>g_std</code>, <code>b_std</code>.</li>\n",
    "<li>For each cluster center, convert the standardized RGB values to scaled values in the range of 0-1.</li>\n",
    "<li>Display the colors of the cluster centers.</li>\n",
    "</ul>"
   ]
  },
  {
   "cell_type": "code",
   "execution_count": 35,
   "metadata": {},
   "outputs": [],
   "source": [
    "colors = []\n",
    "cluster_centers, _ = kmeans(batman_df[['scaled_red','scaled_green',\n",
    "                                       'scaled_blue'\n",
    "]], 3)"
   ]
  },
  {
   "cell_type": "code",
   "execution_count": 36,
   "metadata": {},
   "outputs": [
    {
     "data": {
      "image/png": "[encoded data removed]",
      "text/plain": [
       "<Figure size 432x288 with 1 Axes>"
      ]
     },
     "metadata": {
      "needs_background": "light"
     },
     "output_type": "display_data"
    }
   ],
   "source": [
    "# Get standard deviations of each color\n",
    "r_std, g_std, b_std = batman_df[['red', 'green', 'blue']].std()\n",
    "\n",
    "for cluster_center in cluster_centers:\n",
    "    scaled_r, scaled_g, scaled_b = cluster_center\n",
    "    # Convert each standardized value to scaled value\n",
    "    colors.append((\n",
    "        scaled_r * r_std / 255,\n",
    "        scaled_g * g_std / 255,\n",
    "        scaled_b * b_std / 255\n",
    "    ))\n",
    "\n",
    "# Display colors of cluster centers\n",
    "plt.imshow([colors])\n",
    "plt.show()"
   ]
  },
  {
   "cell_type": "raw",
   "metadata": {},
   "source": [
    "That is correct! Notice the three colors resemble the three that are indicative from visual inspection of the image."
   ]
  },
  {
   "cell_type": "code",
   "execution_count": 37,
   "metadata": {},
   "outputs": [
    {
     "data": {
      "image/png": "[encoded data removed]",
      "text/plain": [
       "<Figure size 432x288 with 1 Axes>"
      ]
     },
     "metadata": {
      "needs_background": "light"
     },
     "output_type": "display_data"
    }
   ],
   "source": [
    "# Assign cluster labels\n",
    "batman_df['cluster_labels'], distortion_list = vq(batman_df[['scaled_red','scaled_green',\n",
    "                                       'scaled_blue']], cluster_centers)\n",
    "\n",
    "# Plot clusters\n",
    "sns.scatterplot(x='scaled_red', y='scaled_green', \n",
    "                hue='cluster_labels', data = batman_df)\n",
    "plt.show()"
   ]
  },
  {
   "cell_type": "markdown",
   "metadata": {},
   "source": [
    "# 5- Document clustering\n"
   ]
  },
  {
   "cell_type": "markdown",
   "metadata": {},
   "source": [
    "video"
   ]
  },
  {
   "cell_type": "markdown",
   "metadata": {},
   "source": [
    "# 6- TF-IDF of movie plots"
   ]
  },
  {
   "cell_type": "markdown",
   "metadata": {},
   "source": [
    "<p>Let us use the plots of randomly selected movies to perform document clustering on. Before performing clustering on documents, they need to be cleaned of any unwanted noise (such as special characters and stop words) and converted into a sparse matrix through TF-IDF of the documents.</p>\n",
    "<p>Use the <code>TfidfVectorizer</code> class to perform the TF-IDF of movie plots stored in the list <code>plots</code>. The <code>remove_noise()</code> function is available to use as a <code>tokenizer</code> in the <code>TfidfVectorizer</code> class. The <code>.fit_transform()</code> method fits the data into the <code>TfidfVectorizer</code> objects and then generates the TF-IDF sparse matrix.</p>\n",
    "<p><strong>Note: It takes a few seconds to run the <code>.fit_transform()</code> method.</strong></p>"
   ]
  },
  {
   "cell_type": "code",
   "execution_count": 43,
   "metadata": {},
   "outputs": [],
   "source": [
    "# importing and preprocessing\n",
    "\n",
    "movie=pd.read_csv('datasets/movies_plot.csv')\n",
    "plots=movie['Plot']\n"
   ]
  },
  {
   "cell_type": "code",
   "execution_count": 45,
   "metadata": {},
   "outputs": [],
   "source": [
    "from nltk.tokenize import word_tokenize\n",
    "import re\n",
    "\n",
    "def remove_noise(text, stop_words = []):\n",
    "    tokens = word_tokenize(text)\n",
    "    cleaned_tokens = []\n",
    "    for token in tokens:\n",
    "        token = re.sub('[^A-Za-z0-9]+', '', token)\n",
    "        if len(token) > 1 and token.lower() not in stop_words:\n",
    "            # Get lowercase\n",
    "            cleaned_tokens.append(token.lower())\n",
    "    return cleaned_tokens"
   ]
  },
  {
   "cell_type": "markdown",
   "metadata": {},
   "source": [
    "<ul>\n",
    "<li>Import <code>TfidfVectorizer</code> class from <code>sklearn</code>.</li>\n",
    "<li>Initialize the <code>TfidfVectorizer</code> class with minimum and maximum frequencies of 0.1 and 0.75, and 50 maximum features.</li>\n",
    "<li>Use the <code>fit_transform()</code> method on the initialized <code>TfidfVectorizer</code> class with the list plots.</li>\n",
    "</ul>"
   ]
  },
  {
   "cell_type": "code",
   "execution_count": 47,
   "metadata": {},
   "outputs": [
    {
     "name": "stderr",
     "output_type": "stream",
     "text": [
      "[nltk_data] Downloading package punkt to\n",
      "[nltk_data]     C:\\Users\\MohammedTaysser\\AppData\\Roaming\\nltk_data...\n",
      "[nltk_data]   Unzipping tokenizers\\punkt.zip.\n"
     ]
    },
    {
     "data": {
      "text/plain": [
       "True"
      ]
     },
     "execution_count": 47,
     "metadata": {},
     "output_type": "execute_result"
    }
   ],
   "source": [
    "import nltk\n",
    "nltk.download('punkt')"
   ]
  },
  {
   "cell_type": "code",
   "execution_count": 48,
   "metadata": {},
   "outputs": [],
   "source": [
    "# Import TfidfVectorizer class from sklearn\n",
    "from sklearn.feature_extraction.text import TfidfVectorizer\n",
    "\n",
    "# Initialize TfidfVectorizer\n",
    "tfidf_vectorizer = TfidfVectorizer(max_df=0.75, max_features=50, min_df=0.1, tokenizer=remove_noise)\n",
    "\n",
    "# Use the .fit_transform() method on the list plots\n",
    "tfidf_matrix = tfidf_vectorizer.fit_transform(plots)"
   ]
  },
  {
   "cell_type": "raw",
   "metadata": {},
   "source": [
    "That is correct! You have successfully created the sparse matrix. Let us now perform clustering on the matrix."
   ]
  },
  {
   "cell_type": "markdown",
   "metadata": {},
   "source": [
    "# 7- Top terms in movie clusters\n",
    "\n"
   ]
  },
  {
   "cell_type": "markdown",
   "metadata": {},
   "source": [
    "<p>Now that you have created a sparse matrix, generate cluster centers and print the top three terms in each cluster. Use the <code>.todense()</code> method to convert the sparse matrix, <code>tfidf_matrix</code> to a normal matrix for the <code>kmeans()</code> function to process. Then, use the <code>.get_feature_names()</code> method to get a list of terms in the <code>tfidf_vectorizer</code> object. The <code>zip()</code> function in Python joins two lists.</p>\n",
    "<p>The <code>tfidf_vectorizer</code> object and sparse matrix, <code>tfidf_matrix</code>, from the previous have been retained in this exercise. <code>kmeans</code> has been imported from SciPy.</p>\n",
    "<p>With a higher number of data points, the clusters formed would be defined more clearly. However, this requires some computational power, making it difficult to accomplish in an exercise here.</p>"
   ]
  },
  {
   "cell_type": "markdown",
   "metadata": {},
   "source": [
    "<ul>\n",
    "<li>Generate cluster centers through the <code>kmeans()</code> function.</li>\n",
    "<li>Generate a list of terms from the <code>tfidf_vectorizer</code> object.</li>\n",
    "<li>Print top 3 terms of each cluster.</li>\n",
    "</ul>"
   ]
  },
  {
   "cell_type": "code",
   "execution_count": 49,
   "metadata": {},
   "outputs": [
    {
     "name": "stdout",
     "output_type": "stream",
     "text": [
      "['her', 'she', 'him']\n",
      "['him', 'who', 'they']\n"
     ]
    }
   ],
   "source": [
    "num_clusters = 2\n",
    "\n",
    "# Generate cluster centers through the kmeans function\n",
    "cluster_centers, distortion = kmeans(tfidf_matrix.todense(), num_clusters) \n",
    "\n",
    "# Generate terms from the tfidf_vectorizer object\n",
    "terms = tfidf_vectorizer.get_feature_names()\n",
    "\n",
    "for i in range(num_clusters):\n",
    "    # Sort the terms and print top 3 terms\n",
    "    center_terms = dict(zip(terms, list(cluster_centers[i])))\n",
    "    sorted_terms = sorted(center_terms, key=center_terms.get, reverse=True)\n",
    "    print(sorted_terms[:3])"
   ]
  },
  {
   "cell_type": "raw",
   "metadata": {},
   "source": [
    "You are correct! Notice positive, warm words in the first cluster and words referring to action in the second cluster."
   ]
  },
  {
   "cell_type": "markdown",
   "metadata": {},
   "source": [
    "# 8- Clustering with multiple features\n"
   ]
  },
  {
   "cell_type": "markdown",
   "metadata": {},
   "source": [
    "video"
   ]
  },
  {
   "cell_type": "markdown",
   "metadata": {},
   "source": [
    "# 9- Clustering with many features"
   ]
  },
  {
   "cell_type": "raw",
   "metadata": {},
   "source": [
    "What should you do if you have too many features for clustering?\n",
    "\n",
    "Reduce features using a technique like Factor Analysis\n",
    "press\n"
   ]
  },
  {
   "cell_type": "markdown",
   "metadata": {},
   "source": [
    "# 10- Basic checks on clusters\n"
   ]
  },
  {
   "cell_type": "markdown",
   "metadata": {},
   "source": [
    "<p>In the FIFA 18 dataset, we have concentrated on defenders in previous exercises. Let us try to focus on attacking attributes of a player. Pace (<code>pac</code>), Dribbling (<code>dri</code>) and Shooting (<code>sho</code>) are features that are present in attack minded players. In this exercise, k-means clustering has already been applied on the data using the scaled values of these three attributes. Try some basic checks on the clusters so formed.</p>\n",
    "<p>The data is stored in a Pandas data frame, <code>fifa</code>. The scaled column names are present in a list <code>scaled_features</code>. The cluster labels are stored in the <code>cluster_labels</code> column. Recall the <code>.count()</code> and <code>.mean()</code> methods in Pandas help you find the number of observations and mean of observations in a data frame.</p>"
   ]
  },
  {
   "cell_type": "markdown",
   "metadata": {},
   "source": [
    "<ul>\n",
    "<li>Print the size of the clusters.</li>\n",
    "<li>Print the mean values of the wages of the players in each cluster. <code>eur_wage</code> is the column name that stores the wages of a player in Euros.</li>\n",
    "</ul>"
   ]
  },
  {
   "cell_type": "code",
   "execution_count": null,
   "metadata": {},
   "outputs": [],
   "source": [
    "# Do not run this cell\n",
    "\n",
    "\n",
    "# Print the size of the clusters\n",
    "print(fifa.groupby('cluster_labels')['ID'].count())\n",
    "\n",
    "# Print the mean value of wages in each cluster\n",
    "print(fifa.groupby('cluster_labels')['eur_wage'].mean())"
   ]
  },
  {
   "cell_type": "raw",
   "metadata": {},
   "source": [
    "<script.py> output:\n",
    "    cluster_labels\n",
    "    0     83\n",
    "    1    107\n",
    "    2     60\n",
    "    Name: ID, dtype: int64\n",
    "    cluster_labels\n",
    "    0   132108.43\n",
    "    1   130308.41\n",
    "    2   117583.33\n",
    "    Name: eur_wage, dtype: float64"
   ]
  },
  {
   "cell_type": "markdown",
   "metadata": {},
   "source": [
    "# 11- FIFA 18: what makes a complete player?"
   ]
  },
  {
   "cell_type": "markdown",
   "metadata": {},
   "source": [
    "<p>The overall level of a player in FIFA 18 is defined by six characteristics: pace (<code>pac</code>), shooting (<code>sho</code>), passing (<code>pas</code>), dribbling (<code>dri</code>), defending (<code>def</code>), physical (<code>phy</code>).</p>\n",
    "<p>Here is a sample card:</p>\n",
    "<p><img src=\"https://media.contentapi.ea.com/content/dam/ea/easports/fifa/features/2017/top100-ratings/10-1/fut18-top100-hazard-lg.jpg\" alt=\"Eden Hazard Player Card\"></p>\n",
    "<p>In this exercise, you will use all six characteristics to create clusters. The data for this exercise is stored in a Pandas dataframe, <code>fifa</code>. <code>features</code> is the list of these column names and <code>scaled_features</code> is the list of columns which contains their scaled values. The following have been pre-loaded: <code>kmeans</code>, <code>vq</code> from <code>scipy.cluster.vq</code>, <code>matplotlib.pyplot</code> as <code>plt</code>, <code>seaborn</code> as <code>sns</code>.</p>"
   ]
  },
  {
   "cell_type": "code",
   "execution_count": 66,
   "metadata": {},
   "outputs": [],
   "source": [
    "# importing and processing, by me\n",
    "\n",
    "fifa=pd.read_csv('datasets/fifa_18_sample_data.csv')\n",
    "\n",
    "\n",
    "features = ['pac', 'sho', 'pas', 'dri', 'def', 'phy']\n",
    "scaled_features = ['scaled_pac',  'scaled_sho', 'scaled_pas',\n",
    "                   'scaled_dri', 'scaled_def', 'scaled_phy']\n",
    "\n",
    "\n",
    "#scalling by whiten\n",
    "for col in features:\n",
    "    fifa['scaled_' + col] = whiten(fifa[col])"
   ]
  },
  {
   "cell_type": "code",
   "execution_count": 67,
   "metadata": {},
   "outputs": [
    {
     "data": {
      "text/html": [
       "<div>\n",
       "<style scoped>\n",
       "    .dataframe tbody tr th:only-of-type {\n",
       "        vertical-align: middle;\n",
       "    }\n",
       "\n",
       "    .dataframe tbody tr th {\n",
       "        vertical-align: top;\n",
       "    }\n",
       "\n",
       "    .dataframe thead th {\n",
       "        text-align: right;\n",
       "    }\n",
       "</style>\n",
       "<table border=\"1\" class=\"dataframe\">\n",
       "  <thead>\n",
       "    <tr style=\"text-align: right;\">\n",
       "      <th></th>\n",
       "      <th>scaled_pac</th>\n",
       "      <th>scaled_sho</th>\n",
       "      <th>scaled_pas</th>\n",
       "      <th>scaled_dri</th>\n",
       "      <th>scaled_def</th>\n",
       "      <th>scaled_phy</th>\n",
       "      <th>pac</th>\n",
       "      <th>sho</th>\n",
       "      <th>pas</th>\n",
       "      <th>dri</th>\n",
       "      <th>def</th>\n",
       "      <th>phy</th>\n",
       "    </tr>\n",
       "  </thead>\n",
       "  <tbody>\n",
       "    <tr>\n",
       "      <td>0</td>\n",
       "      <td>7.743447</td>\n",
       "      <td>6.789714</td>\n",
       "      <td>9.291969</td>\n",
       "      <td>9.534738</td>\n",
       "      <td>1.649258</td>\n",
       "      <td>9.374085</td>\n",
       "      <td>90</td>\n",
       "      <td>93</td>\n",
       "      <td>82</td>\n",
       "      <td>90</td>\n",
       "      <td>33</td>\n",
       "      <td>80</td>\n",
       "    </tr>\n",
       "    <tr>\n",
       "      <td>1</td>\n",
       "      <td>7.657409</td>\n",
       "      <td>6.570691</td>\n",
       "      <td>9.745236</td>\n",
       "      <td>10.170387</td>\n",
       "      <td>1.299416</td>\n",
       "      <td>7.147740</td>\n",
       "      <td>89</td>\n",
       "      <td>90</td>\n",
       "      <td>86</td>\n",
       "      <td>96</td>\n",
       "      <td>26</td>\n",
       "      <td>61</td>\n",
       "    </tr>\n",
       "    <tr>\n",
       "      <td>2</td>\n",
       "      <td>7.915524</td>\n",
       "      <td>6.132645</td>\n",
       "      <td>8.952019</td>\n",
       "      <td>10.064446</td>\n",
       "      <td>1.499326</td>\n",
       "      <td>7.030564</td>\n",
       "      <td>92</td>\n",
       "      <td>84</td>\n",
       "      <td>79</td>\n",
       "      <td>95</td>\n",
       "      <td>30</td>\n",
       "      <td>60</td>\n",
       "    </tr>\n",
       "    <tr>\n",
       "      <td>3</td>\n",
       "      <td>7.055141</td>\n",
       "      <td>6.570691</td>\n",
       "      <td>8.952019</td>\n",
       "      <td>9.216914</td>\n",
       "      <td>2.099056</td>\n",
       "      <td>9.491261</td>\n",
       "      <td>82</td>\n",
       "      <td>90</td>\n",
       "      <td>79</td>\n",
       "      <td>87</td>\n",
       "      <td>42</td>\n",
       "      <td>81</td>\n",
       "    </tr>\n",
       "    <tr>\n",
       "      <td>4</td>\n",
       "      <td>7.829485</td>\n",
       "      <td>6.570691</td>\n",
       "      <td>10.765086</td>\n",
       "      <td>9.428797</td>\n",
       "      <td>2.998652</td>\n",
       "      <td>10.663022</td>\n",
       "      <td>91</td>\n",
       "      <td>90</td>\n",
       "      <td>95</td>\n",
       "      <td>89</td>\n",
       "      <td>60</td>\n",
       "      <td>91</td>\n",
       "    </tr>\n",
       "    <tr>\n",
       "      <td>...</td>\n",
       "      <td>...</td>\n",
       "      <td>...</td>\n",
       "      <td>...</td>\n",
       "      <td>...</td>\n",
       "      <td>...</td>\n",
       "      <td>...</td>\n",
       "      <td>...</td>\n",
       "      <td>...</td>\n",
       "      <td>...</td>\n",
       "      <td>...</td>\n",
       "      <td>...</td>\n",
       "      <td>...</td>\n",
       "    </tr>\n",
       "    <tr>\n",
       "      <td>995</td>\n",
       "      <td>7.141179</td>\n",
       "      <td>4.453469</td>\n",
       "      <td>7.818852</td>\n",
       "      <td>7.627791</td>\n",
       "      <td>3.748315</td>\n",
       "      <td>8.319501</td>\n",
       "      <td>83</td>\n",
       "      <td>61</td>\n",
       "      <td>69</td>\n",
       "      <td>72</td>\n",
       "      <td>75</td>\n",
       "      <td>71</td>\n",
       "    </tr>\n",
       "    <tr>\n",
       "      <td>996</td>\n",
       "      <td>6.194758</td>\n",
       "      <td>4.526476</td>\n",
       "      <td>8.385435</td>\n",
       "      <td>7.309966</td>\n",
       "      <td>3.748315</td>\n",
       "      <td>9.491261</td>\n",
       "      <td>72</td>\n",
       "      <td>62</td>\n",
       "      <td>74</td>\n",
       "      <td>69</td>\n",
       "      <td>75</td>\n",
       "      <td>81</td>\n",
       "    </tr>\n",
       "    <tr>\n",
       "      <td>997</td>\n",
       "      <td>3.097379</td>\n",
       "      <td>5.110538</td>\n",
       "      <td>9.291969</td>\n",
       "      <td>7.627791</td>\n",
       "      <td>3.148584</td>\n",
       "      <td>8.553853</td>\n",
       "      <td>36</td>\n",
       "      <td>70</td>\n",
       "      <td>82</td>\n",
       "      <td>72</td>\n",
       "      <td>63</td>\n",
       "      <td>73</td>\n",
       "    </tr>\n",
       "    <tr>\n",
       "      <td>998</td>\n",
       "      <td>6.797026</td>\n",
       "      <td>5.475576</td>\n",
       "      <td>8.385435</td>\n",
       "      <td>8.475323</td>\n",
       "      <td>1.749214</td>\n",
       "      <td>9.022557</td>\n",
       "      <td>79</td>\n",
       "      <td>75</td>\n",
       "      <td>74</td>\n",
       "      <td>80</td>\n",
       "      <td>35</td>\n",
       "      <td>77</td>\n",
       "    </tr>\n",
       "    <tr>\n",
       "      <td>999</td>\n",
       "      <td>7.055141</td>\n",
       "      <td>5.037530</td>\n",
       "      <td>8.045485</td>\n",
       "      <td>8.687206</td>\n",
       "      <td>0.849618</td>\n",
       "      <td>5.858803</td>\n",
       "      <td>82</td>\n",
       "      <td>69</td>\n",
       "      <td>71</td>\n",
       "      <td>82</td>\n",
       "      <td>17</td>\n",
       "      <td>50</td>\n",
       "    </tr>\n",
       "  </tbody>\n",
       "</table>\n",
       "<p>1000 rows × 12 columns</p>\n",
       "</div>"
      ],
      "text/plain": [
       "     scaled_pac  scaled_sho  scaled_pas  scaled_dri  scaled_def  scaled_phy  \\\n",
       "0      7.743447    6.789714    9.291969    9.534738    1.649258    9.374085   \n",
       "1      7.657409    6.570691    9.745236   10.170387    1.299416    7.147740   \n",
       "2      7.915524    6.132645    8.952019   10.064446    1.499326    7.030564   \n",
       "3      7.055141    6.570691    8.952019    9.216914    2.099056    9.491261   \n",
       "4      7.829485    6.570691   10.765086    9.428797    2.998652   10.663022   \n",
       "..          ...         ...         ...         ...         ...         ...   \n",
       "995    7.141179    4.453469    7.818852    7.627791    3.748315    8.319501   \n",
       "996    6.194758    4.526476    8.385435    7.309966    3.748315    9.491261   \n",
       "997    3.097379    5.110538    9.291969    7.627791    3.148584    8.553853   \n",
       "998    6.797026    5.475576    8.385435    8.475323    1.749214    9.022557   \n",
       "999    7.055141    5.037530    8.045485    8.687206    0.849618    5.858803   \n",
       "\n",
       "     pac  sho  pas  dri  def  phy  \n",
       "0     90   93   82   90   33   80  \n",
       "1     89   90   86   96   26   61  \n",
       "2     92   84   79   95   30   60  \n",
       "3     82   90   79   87   42   81  \n",
       "4     91   90   95   89   60   91  \n",
       "..   ...  ...  ...  ...  ...  ...  \n",
       "995   83   61   69   72   75   71  \n",
       "996   72   62   74   69   75   81  \n",
       "997   36   70   82   72   63   73  \n",
       "998   79   75   74   80   35   77  \n",
       "999   82   69   71   82   17   50  \n",
       "\n",
       "[1000 rows x 12 columns]"
      ]
     },
     "execution_count": 67,
     "metadata": {},
     "output_type": "execute_result"
    }
   ],
   "source": [
    "fifa[scaled_features + features]"
   ]
  },
  {
   "cell_type": "markdown",
   "metadata": {},
   "source": [
    "- Use the kmeans() algorithm to create 2 clusters using the scaled features.\n",
    "- Assign cluster labels to each row and print cluster centers using the .mean() method of Pandas.\n",
    "- Plot a bar chart of scaled attributes of each cluster center using the .plot() method of Pandas.\n",
    "- Print the names of top 5 players in each cluster, using the name column."
   ]
  },
  {
   "cell_type": "code",
   "execution_count": 68,
   "metadata": {},
   "outputs": [
    {
     "name": "stdout",
     "output_type": "stream",
     "text": [
      "                scaled_pac  scaled_sho  scaled_pas  scaled_dri  scaled_def  \\\n",
      "cluster_labels                                                               \n",
      "0                 6.684385    5.427481    8.455351    8.513096    2.504167   \n",
      "1                 5.444516    3.664623    7.165875    6.759972    3.967897   \n",
      "\n",
      "                scaled_phy  \n",
      "cluster_labels              \n",
      "0                 8.336310  \n",
      "1                 9.210371  \n"
     ]
    },
    {
     "data": {
      "image/png": "[encoded data removed]",
      "text/plain": [
       "<Figure size 432x288 with 1 Axes>"
      ]
     },
     "metadata": {
      "needs_background": "light"
     },
     "output_type": "display_data"
    },
    {
     "name": "stdout",
     "output_type": "stream",
     "text": [
      "0 ['Cristiano Ronaldo' 'L. Messi' 'Neymar' 'L. Suárez' 'M. Neuer']\n",
      "1 ['Sergio Ramos' 'G. Chiellini' 'L. Bonucci' 'J. Boateng' 'D. Godín']\n"
     ]
    }
   ],
   "source": [
    "# Create centroids with kmeans for 2 clusters\n",
    "cluster_centers,_ = kmeans(fifa[scaled_features], 2)\n",
    "\n",
    "# Assign cluster labels and print cluster centers\n",
    "fifa['cluster_labels'], _ = vq(fifa[scaled_features], cluster_centers)\n",
    "print(fifa.groupby('cluster_labels')[scaled_features].mean())\n",
    "\n",
    "# Plot cluster centers to visualize clusters\n",
    "fifa.groupby('cluster_labels')[scaled_features].mean().plot(legend=True, kind='bar')\n",
    "plt.show()\n",
    "\n",
    "# Get the name column of top 5 players in each cluster\n",
    "for cluster in fifa['cluster_labels'].unique():\n",
    "    print(cluster, fifa[fifa['cluster_labels'] == cluster]['name'].values[:5])"
   ]
  },
  {
   "cell_type": "raw",
   "metadata": {},
   "source": [
    "That is correct! Notice the top players in each cluster are representative of the overall characteristics of the cluster - one of the clusters primarily represents attackers, whereas the other represents defenders. Surprisingly, a top goalkeeper Manuel Neuer is seen in the attackers group, but he is known for going out of the box and participating in open play, which are reflected in his FIFA 18 attributes."
   ]
  },
  {
   "cell_type": "code",
   "execution_count": null,
   "metadata": {},
   "outputs": [],
   "source": []
  }
 ],
 "metadata": {
  "kernelspec": {
   "display_name": "Python 3",
   "language": "python",
   "name": "python3"
  },
  "language_info": {
   "codemirror_mode": {
    "name": "ipython",
    "version": 3
   },
   "file_extension": ".py",
   "mimetype": "text/x-python",
   "name": "python",
   "nbconvert_exporter": "python",
   "pygments_lexer": "ipython3",
   "version": "3.7.4"
  }
 },
 "nbformat": 4,
 "nbformat_minor": 2
}
