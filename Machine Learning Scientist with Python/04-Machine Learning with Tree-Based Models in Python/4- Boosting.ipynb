{
 "cells": [
  {
   "cell_type": "markdown",
   "metadata": {},
   "source": [
    "Boosting refers to an ensemble method in which several models are trained sequentially with each model learning from the errors of its predecessors. In this chapter, you'll be introduced to the two boosting methods of AdaBoost and Gradient Boosting."
   ]
  },
  {
   "cell_type": "markdown",
   "metadata": {},
   "source": [
    "# 1- Adaboost\n"
   ]
  },
  {
   "cell_type": "markdown",
   "metadata": {},
   "source": [
    "video"
   ]
  },
  {
   "cell_type": "markdown",
   "metadata": {},
   "source": [
    "# 2- Define the AdaBoost classifier\n"
   ]
  },
  {
   "cell_type": "markdown",
   "metadata": {},
   "source": [
    "<p>In the following exercises you&apos;ll revisit the <a href=\"https://www.kaggle.com/uciml/indian-liver-patient-records\">Indian Liver Patient</a> dataset which was introduced in a previous chapter. Your task is to predict whether a patient suffers from a liver disease using 10 features including Albumin, age and gender. However, this time, you&apos;ll be training an AdaBoost ensemble to perform the classification task. In addition, given that this dataset is imbalanced, you&apos;ll be using the ROC AUC score as a metric instead of accuracy.</p>\n",
    "<p>As a first step, you&apos;ll start by instantiating an AdaBoost classifier.</p>"
   ]
  },
  {
   "cell_type": "markdown",
   "metadata": {},
   "source": [
    "<ul>\n",
    "<li><p>Import <code>AdaBoostClassifier</code> from <code>sklearn.ensemble</code>.</p></li>\n",
    "<li><p>Instantiate a <code>DecisionTreeClassifier</code> with <code>max_depth</code> set to 2.</p></li>\n",
    "<li><p>Instantiate an <code>AdaBoostClassifier</code> consisting of 180 trees and setting the <code>base_estimator</code> to <code>dt</code>.</p></li>\n",
    "</ul>"
   ]
  },
  {
   "cell_type": "code",
   "execution_count": 1,
   "metadata": {},
   "outputs": [],
   "source": [
    "# Import DecisionTreeClassifier\n",
    "from sklearn.tree import DecisionTreeClassifier\n",
    "\n",
    "# Import AdaBoostClassifier\n",
    "from sklearn.ensemble import AdaBoostClassifier\n",
    "\n",
    "# Instantiate dt\n",
    "dt = DecisionTreeClassifier(max_depth=2, random_state=1)\n",
    "\n",
    "# Instantiate ada\n",
    "ada = AdaBoostClassifier(base_estimator=dt, n_estimators=180, random_state=1)"
   ]
  },
  {
   "cell_type": "markdown",
   "metadata": {},
   "source": [
    "# 3- Train the AdaBoost classifier\n"
   ]
  },
  {
   "cell_type": "markdown",
   "metadata": {},
   "source": [
    "<p>Now that you&apos;ve instantiated the AdaBoost classifier <code>ada</code>, it&apos;s time train it. You will also predict the probabilities of obtaining the positive class in the test set. This can be done as follows: </p>\n",
    "<p>Once the classifier <code>ada</code> is trained, call the <code>.predict_proba()</code> method by passing <code>X_test</code> as a parameter and extract these probabilities by slicing all the values in the second column as follows:</p>\n",
    "<pre><code>ada.predict_proba(X_test)[:,1]\n",
    "</code></pre>\n",
    "<p>The Indian Liver dataset is processed for you and split into 80% train and 20% test. Feature matrices <code>X_train</code> and <code>X_test</code>, as well as the arrays of labels <code>y_train</code> and <code>y_test</code> are available in your workspace. In addition, we have also loaded the \n",
    "instantiated model <code>ada</code> from the previous exercise.</p>"
   ]
  },
  {
   "cell_type": "code",
   "execution_count": 2,
   "metadata": {},
   "outputs": [
    {
     "name": "stdout",
     "output_type": "stream",
     "text": [
      "Index(['Age', 'Total_Bilirubin', 'Direct_Bilirubin', 'Alkaline_Phosphotase',\n",
      "       'Alamine_Aminotransferase', 'Aspartate_Aminotransferase',\n",
      "       'Total_Protiens', 'Albumin', 'Albumin_and_Globulin_Ratio', 'Dataset',\n",
      "       'Gender_Female', 'Gender_Male'],\n",
      "      dtype='object')\n",
      "Index(['Age', 'Total_Bilirubin', 'Direct_Bilirubin', 'Alkaline_Phosphotase',\n",
      "       'Alamine_Aminotransferase', 'Aspartate_Aminotransferase',\n",
      "       'Total_Protiens', 'Albumin', 'Albumin_and_Globulin_Ratio', 'Dataset',\n",
      "       'Gender_Female', 'Gender_Male'],\n",
      "      dtype='object')\n"
     ]
    },
    {
     "data": {
      "text/html": [
       "<div>\n",
       "<style scoped>\n",
       "    .dataframe tbody tr th:only-of-type {\n",
       "        vertical-align: middle;\n",
       "    }\n",
       "\n",
       "    .dataframe tbody tr th {\n",
       "        vertical-align: top;\n",
       "    }\n",
       "\n",
       "    .dataframe thead th {\n",
       "        text-align: right;\n",
       "    }\n",
       "</style>\n",
       "<table border=\"1\" class=\"dataframe\">\n",
       "  <thead>\n",
       "    <tr style=\"text-align: right;\">\n",
       "      <th></th>\n",
       "      <th>Age</th>\n",
       "      <th>Total_Bilirubin</th>\n",
       "      <th>Direct_Bilirubin</th>\n",
       "      <th>Alkaline_Phosphotase</th>\n",
       "      <th>Alamine_Aminotransferase</th>\n",
       "      <th>Aspartate_Aminotransferase</th>\n",
       "      <th>Total_Protiens</th>\n",
       "      <th>Albumin</th>\n",
       "      <th>Albumin_and_Globulin_Ratio</th>\n",
       "      <th>Dataset</th>\n",
       "      <th>Gender_Male</th>\n",
       "    </tr>\n",
       "  </thead>\n",
       "  <tbody>\n",
       "    <tr>\n",
       "      <td>0</td>\n",
       "      <td>65</td>\n",
       "      <td>0.7</td>\n",
       "      <td>0.1</td>\n",
       "      <td>187</td>\n",
       "      <td>16</td>\n",
       "      <td>18</td>\n",
       "      <td>6.8</td>\n",
       "      <td>3.3</td>\n",
       "      <td>0.90</td>\n",
       "      <td>1</td>\n",
       "      <td>0</td>\n",
       "    </tr>\n",
       "    <tr>\n",
       "      <td>1</td>\n",
       "      <td>62</td>\n",
       "      <td>10.9</td>\n",
       "      <td>5.5</td>\n",
       "      <td>699</td>\n",
       "      <td>64</td>\n",
       "      <td>100</td>\n",
       "      <td>7.5</td>\n",
       "      <td>3.2</td>\n",
       "      <td>0.74</td>\n",
       "      <td>1</td>\n",
       "      <td>1</td>\n",
       "    </tr>\n",
       "    <tr>\n",
       "      <td>2</td>\n",
       "      <td>62</td>\n",
       "      <td>7.3</td>\n",
       "      <td>4.1</td>\n",
       "      <td>490</td>\n",
       "      <td>60</td>\n",
       "      <td>68</td>\n",
       "      <td>7.0</td>\n",
       "      <td>3.3</td>\n",
       "      <td>0.89</td>\n",
       "      <td>1</td>\n",
       "      <td>1</td>\n",
       "    </tr>\n",
       "    <tr>\n",
       "      <td>3</td>\n",
       "      <td>58</td>\n",
       "      <td>1.0</td>\n",
       "      <td>0.4</td>\n",
       "      <td>182</td>\n",
       "      <td>14</td>\n",
       "      <td>20</td>\n",
       "      <td>6.8</td>\n",
       "      <td>3.4</td>\n",
       "      <td>1.00</td>\n",
       "      <td>1</td>\n",
       "      <td>1</td>\n",
       "    </tr>\n",
       "    <tr>\n",
       "      <td>4</td>\n",
       "      <td>72</td>\n",
       "      <td>3.9</td>\n",
       "      <td>2.0</td>\n",
       "      <td>195</td>\n",
       "      <td>27</td>\n",
       "      <td>59</td>\n",
       "      <td>7.3</td>\n",
       "      <td>2.4</td>\n",
       "      <td>0.40</td>\n",
       "      <td>1</td>\n",
       "      <td>1</td>\n",
       "    </tr>\n",
       "  </tbody>\n",
       "</table>\n",
       "</div>"
      ],
      "text/plain": [
       "   Age  Total_Bilirubin  Direct_Bilirubin  Alkaline_Phosphotase  \\\n",
       "0   65              0.7               0.1                   187   \n",
       "1   62             10.9               5.5                   699   \n",
       "2   62              7.3               4.1                   490   \n",
       "3   58              1.0               0.4                   182   \n",
       "4   72              3.9               2.0                   195   \n",
       "\n",
       "   Alamine_Aminotransferase  Aspartate_Aminotransferase  Total_Protiens  \\\n",
       "0                        16                          18             6.8   \n",
       "1                        64                         100             7.5   \n",
       "2                        60                          68             7.0   \n",
       "3                        14                          20             6.8   \n",
       "4                        27                          59             7.3   \n",
       "\n",
       "   Albumin  Albumin_and_Globulin_Ratio  Dataset  Gender_Male  \n",
       "0      3.3                        0.90        1            0  \n",
       "1      3.2                        0.74        1            1  \n",
       "2      3.3                        0.89        1            1  \n",
       "3      3.4                        1.00        1            1  \n",
       "4      2.4                        0.40        1            1  "
      ]
     },
     "execution_count": 2,
     "metadata": {},
     "output_type": "execute_result"
    }
   ],
   "source": [
    "# First I will import data and do some preprocessing\n",
    "\n",
    "\n",
    "import pandas as pd\n",
    "\n",
    "liver=pd.read_csv('datasets/indian_liver_patient/indian_liver_patient.csv')\n",
    "\n",
    "liver=liver.dropna()\n",
    "\n",
    "#More preprocessing \n",
    "#Creating dummy variables, for Gender colum\n",
    "\n",
    "# Create dummy variables: \n",
    "liver = pd.get_dummies(liver)\n",
    "\n",
    "# Print the columns of liver\n",
    "print(liver.columns)\n",
    "\n",
    "# Create dummy variables with drop_first=True: liver\n",
    "liver_preprocessed = pd.get_dummies(liver, drop_first=True)\n",
    "\n",
    "# Print the new columns of df_region\n",
    "print(liver_preprocessed.columns)\n",
    "\n",
    "liver_preprocessed=liver_preprocessed.drop('Gender_Female', axis=1)\n",
    "liver_preprocessed.head()"
   ]
  },
  {
   "cell_type": "code",
   "execution_count": 3,
   "metadata": {},
   "outputs": [],
   "source": [
    "#note Dataset column is Liver_disease column\n",
    "X=liver_preprocessed.drop('Dataset', axis=1)\n",
    "y=liver_preprocessed['Dataset']"
   ]
  },
  {
   "cell_type": "code",
   "execution_count": 4,
   "metadata": {},
   "outputs": [],
   "source": [
    "#Import train_test_split from sklearn.model_selection\n",
    "from sklearn.model_selection import train_test_split\n",
    "\n",
    "SEED=1\n",
    "\n",
    "# Split the data into 70% train and 30% test\n",
    "X_train, X_test, y_train, y_test = train_test_split(X, y, test_size=0.20,\n",
    "                                                    random_state=SEED)"
   ]
  },
  {
   "cell_type": "markdown",
   "metadata": {},
   "source": [
    "-----------"
   ]
  },
  {
   "cell_type": "markdown",
   "metadata": {},
   "source": [
    "<ul>\n",
    "<li><p>Fit <code>ada</code> to the training set.</p></li>\n",
    "<li><p>Evaluate the probabilities of obtaining the positive class in the test set.</p></li>\n",
    "</ul>"
   ]
  },
  {
   "cell_type": "code",
   "execution_count": 5,
   "metadata": {},
   "outputs": [],
   "source": [
    "# Fit ada to the training set\n",
    "ada.fit(X_train, y_train)\n",
    "\n",
    "# Compute the probabilities of obtaining the positive class\n",
    "y_pred_proba = ada.predict_proba(X_test)[:,1]"
   ]
  },
  {
   "cell_type": "markdown",
   "metadata": {},
   "source": [
    "# 4- Evaluate the AdaBoost classifier\n"
   ]
  },
  {
   "cell_type": "markdown",
   "metadata": {},
   "source": [
    "<p>Now that you&apos;re done training <code>ada</code> and predicting the probabilities of obtaining the positive class in the test set, it&apos;s time to evaluate <code>ada</code>&apos;s ROC AUC score. Recall that the ROC AUC score of a binary classifier can be determined using the <code>roc_auc_score()</code> function from <code>sklearn.metrics</code>.</p>\n",
    "<p>The arrays <code>y_test</code> and <code>y_pred_proba</code> that you computed in the previous exercise are available in your workspace.</p>"
   ]
  },
  {
   "cell_type": "markdown",
   "metadata": {},
   "source": [
    "<ul>\n",
    "<li><p>Import <code>roc_auc_score</code> from <code>sklearn.metrics</code>.</p></li>\n",
    "<li><p>Compute <code>ada</code>&apos;s test set ROC AUC score, assign it to <code>ada_roc_auc</code>, and print it out.</p></li>\n",
    "</ul>"
   ]
  },
  {
   "cell_type": "code",
   "execution_count": 7,
   "metadata": {},
   "outputs": [
    {
     "name": "stdout",
     "output_type": "stream",
     "text": [
      "ROC AUC score: 0.64\n"
     ]
    }
   ],
   "source": [
    "# Import roc_auc_score\n",
    "from sklearn.metrics import roc_auc_score\n",
    "\n",
    "# Evaluate test-set roc_auc_score\n",
    "ada_roc_auc = roc_auc_score(y_test, y_pred_proba)\n",
    "\n",
    "# Print roc_auc_score\n",
    "print('ROC AUC score: {:.2f}'.format(ada_roc_auc))"
   ]
  },
  {
   "cell_type": "markdown",
   "metadata": {},
   "source": [
    "# 5- Gradient Boosting (GB)\n"
   ]
  },
  {
   "cell_type": "markdown",
   "metadata": {},
   "source": [
    "video"
   ]
  },
  {
   "cell_type": "markdown",
   "metadata": {},
   "source": [
    "# 6- Define the GB regressor\n"
   ]
  },
  {
   "cell_type": "markdown",
   "metadata": {},
   "source": [
    "<p>You&apos;ll now revisit the <a href=\"https://www.kaggle.com/c/bike-sharing-demand\">Bike Sharing Demand</a> dataset that was introduced in the previous chapter. Recall that your task is to predict the bike rental demand using historical weather data from the Capital Bikeshare program in Washington, D.C.. For this purpose, you&apos;ll be using a gradient boosting regressor.</p>\n",
    "<p>As a first step, you&apos;ll start by instantiating a gradient boosting regressor which you will train in the next exercise.</p>"
   ]
  },
  {
   "cell_type": "markdown",
   "metadata": {},
   "source": [
    "<ul>\n",
    "<li><p>Import <code>GradientBoostingRegressor</code> from <code>sklearn.ensemble</code>.</p></li>\n",
    "<li><p>Instantiate a gradient boosting regressor by setting the parameters:</p>\n",
    "<ul>\n",
    "<li><p><code>max_depth</code> to 4</p></li>\n",
    "<li><p><code>n_estimators</code> to 200</p></li></ul></li>\n",
    "</ul>"
   ]
  },
  {
   "cell_type": "code",
   "execution_count": 9,
   "metadata": {},
   "outputs": [],
   "source": [
    "# Import GradientBoostingRegressor\n",
    "from sklearn.ensemble import GradientBoostingRegressor\n",
    "\n",
    "# Instantiate gb\n",
    "gb = GradientBoostingRegressor(max_depth=4, \n",
    "            n_estimators=200,\n",
    "            random_state=2)"
   ]
  },
  {
   "cell_type": "markdown",
   "metadata": {},
   "source": [
    "# 7- Train the GB regressor\n"
   ]
  },
  {
   "cell_type": "markdown",
   "metadata": {},
   "source": [
    "<p>You&apos;ll now train the gradient boosting regressor <code>gb</code> that you instantiated in the previous exercise and predict test set labels.</p>\n",
    "<p>The dataset is split into 80% train and 20% test. Feature matrices <code>X_train</code> and <code>X_test</code>, as well as the arrays <code>y_train</code> and <code>y_test</code> are available in your workspace. In addition, we have also loaded the model instance <code>gb</code> that you defined in the previous exercise.</p>"
   ]
  },
  {
   "cell_type": "code",
   "execution_count": 29,
   "metadata": {},
   "outputs": [
    {
     "name": "stdout",
     "output_type": "stream",
     "text": [
      "<class 'pandas.core.frame.DataFrame'>\n",
      "RangeIndex: 1488 entries, 0 to 1487\n",
      "Data columns (total 13 columns):\n",
      "hr                        1488 non-null int64\n",
      "holiday                   1488 non-null int64\n",
      "workingday                1488 non-null int64\n",
      "temp                      1488 non-null float64\n",
      "hum                       1488 non-null float64\n",
      "windspeed                 1488 non-null float64\n",
      "cnt                       1488 non-null int64\n",
      "instant                   1488 non-null int64\n",
      "mnth                      1488 non-null int64\n",
      "yr                        1488 non-null int64\n",
      "Clear to partly cloudy    1488 non-null int64\n",
      "Light Precipitation       1488 non-null int64\n",
      "Misty                     1488 non-null int64\n",
      "dtypes: float64(3), int64(10)\n",
      "memory usage: 151.2 KB\n",
      "None\n"
     ]
    }
   ],
   "source": [
    "#importing data and preprocessing \n",
    "\n",
    "bikes=pd.read_csv('datasets/bikes.csv')\n",
    "print(bikes.info())\n",
    "\n",
    "X=bikes.drop('cnt', axis=1)\n",
    "y=bikes['cnt']\n",
    "\n",
    "X_train, X_test, y_train, y_test=train_test_split(X, y, test_size=0.20,\n",
    "                                                 random_state=2)"
   ]
  },
  {
   "cell_type": "markdown",
   "metadata": {},
   "source": [
    "-------------"
   ]
  },
  {
   "cell_type": "markdown",
   "metadata": {},
   "source": [
    "<ul>\n",
    "<li>Fit <code>gb</code> to the training set. </li>\n",
    "<li>Predict the test set labels and assign the result to <code>y_pred</code>.</li>\n",
    "</ul>"
   ]
  },
  {
   "cell_type": "code",
   "execution_count": 30,
   "metadata": {},
   "outputs": [],
   "source": [
    "# Fit gb to the training set\n",
    "gb.fit(X_train, y_train)\n",
    "\n",
    "# Predict test set labels\n",
    "y_pred = gb.predict(X_test)"
   ]
  },
  {
   "cell_type": "markdown",
   "metadata": {},
   "source": [
    "# 8- Evaluate the GB regressor\n"
   ]
  },
  {
   "cell_type": "markdown",
   "metadata": {},
   "source": [
    "<p>Now that the test set predictions are available, you can use them to evaluate the test set Root Mean Squared Error (RMSE) of <code>gb</code>. </p>\n",
    "<p><code>y_test</code> and predictions <code>y_pred</code> are available in your workspace.</p>"
   ]
  },
  {
   "cell_type": "markdown",
   "metadata": {},
   "source": [
    "<ul>\n",
    "<li><p>Import <code>mean_squared_error</code> from <code>sklearn.metrics</code> as <code>MSE</code>.</p></li>\n",
    "<li><p>Compute the test set MSE and assign it to <code>mse_test</code>. </p></li>\n",
    "<li><p>Compute the test set RMSE and assign it to <code>rmse_test</code>.</p></li>\n",
    "</ul>"
   ]
  },
  {
   "cell_type": "code",
   "execution_count": 31,
   "metadata": {},
   "outputs": [
    {
     "name": "stdout",
     "output_type": "stream",
     "text": [
      "Test set RMSE of gb: 49.796\n"
     ]
    }
   ],
   "source": [
    "# Import mean_squared_error as MSE\n",
    "from sklearn.metrics import mean_squared_error as MSE\n",
    "\n",
    "# Compute MSE\n",
    "mse_test = MSE(y_test, y_pred)\n",
    "\n",
    "# Compute RMSE\n",
    "rmse_test = mse_test**(1/2)\n",
    "\n",
    "# Print RMSE\n",
    "print('Test set RMSE of gb: {:.3f}'.format(rmse_test))"
   ]
  },
  {
   "cell_type": "markdown",
   "metadata": {},
   "source": [
    "# 9- Stochastic Gradient Boosting (SGB)\n"
   ]
  },
  {
   "cell_type": "markdown",
   "metadata": {},
   "source": [
    "video"
   ]
  },
  {
   "cell_type": "markdown",
   "metadata": {},
   "source": [
    "# 10- Regression with SGB\n"
   ]
  },
  {
   "cell_type": "markdown",
   "metadata": {},
   "source": [
    "<p>As in the exercises from the previous lesson, you&apos;ll be working with the <a href=\"https://www.kaggle.com/c/bike-sharing-demand\">Bike Sharing Demand</a> dataset. In the following set of exercises, you&apos;ll solve this bike count regression problem using stochastic gradient boosting.</p>"
   ]
  },
  {
   "cell_type": "markdown",
   "metadata": {},
   "source": [
    "<ul>\n",
    "<li><p>Instantiate a Stochastic Gradient Boosting Regressor (SGBR) and set: </p>\n",
    "<ul>\n",
    "<li><p><code>max_depth</code> to 4 and <code>n_estimators</code> to 200,</p></li>\n",
    "<li><p><code>subsample</code> to 0.9, and </p></li>\n",
    "<li><p><code>max_features</code> to 0.75.</p></li></ul></li>\n",
    "</ul>"
   ]
  },
  {
   "cell_type": "code",
   "execution_count": 32,
   "metadata": {},
   "outputs": [],
   "source": [
    "# Import GradientBoostingRegressor\n",
    "from sklearn.ensemble import GradientBoostingRegressor\n",
    "\n",
    "# Instantiate sgbr\n",
    "sgbr = GradientBoostingRegressor(max_depth=4, \n",
    "            subsample=0.9,\n",
    "            max_features=0.75,\n",
    "            n_estimators=200,                                \n",
    "            random_state=2)"
   ]
  },
  {
   "cell_type": "markdown",
   "metadata": {},
   "source": [
    "# 11- Train the SGB regressor\n"
   ]
  },
  {
   "cell_type": "markdown",
   "metadata": {},
   "source": [
    "<p>In this exercise, you&apos;ll train the SGBR <code>sgbr</code> instantiated in the previous exercise and predict the test set labels.</p>\n",
    "<p>The bike sharing demand dataset is already loaded processed for you; it is split into 80% train and 20% test. The feature matrices <code>X_train</code> and <code>X_test</code>, the arrays of labels <code>y_train</code> and <code>y_test</code>, and the model instance <code>sgbr</code> that you defined in the previous exercise are available in your workspace.</p>"
   ]
  },
  {
   "cell_type": "markdown",
   "metadata": {},
   "source": [
    "<ul>\n",
    "<li>Fit <code>sgbr</code> to the training set. </li>\n",
    "<li>Predict the test set labels and assign the results to <code>y_pred</code>.</li>\n",
    "</ul>"
   ]
  },
  {
   "cell_type": "code",
   "execution_count": 33,
   "metadata": {},
   "outputs": [],
   "source": [
    "# Fit sgbr to the training set\n",
    "sgbr.fit(X_train, y_train)\n",
    "\n",
    "# Predict test set labels\n",
    "y_pred = sgbr.predict(X_test)"
   ]
  },
  {
   "cell_type": "markdown",
   "metadata": {},
   "source": [
    "# 12- Evaluate the SGB regressor\n"
   ]
  },
  {
   "cell_type": "markdown",
   "metadata": {},
   "source": [
    "<p>You have prepared the ground to determine the test set RMSE of <code>sgbr</code> which you shall evaluate in this exercise.</p>\n",
    "<p><code>y_pred</code> and <code>y_test</code> are available in your workspace.</p>"
   ]
  },
  {
   "cell_type": "markdown",
   "metadata": {},
   "source": [
    "<ul>\n",
    "<li><p>Import <code>mean_squared_error</code> as <code>MSE</code> from <code>sklearn.metrics</code>.  </p></li>\n",
    "<li><p>Compute test set MSE and assign the result to <code>mse_test</code>. </p></li>\n",
    "<li><p>Compute test set RMSE and assign the result to <code>rmse_test</code>.</p></li>\n",
    "</ul>"
   ]
  },
  {
   "cell_type": "code",
   "execution_count": 34,
   "metadata": {},
   "outputs": [
    {
     "name": "stdout",
     "output_type": "stream",
     "text": [
      "Test set RMSE of sgbr: 47.944\n"
     ]
    }
   ],
   "source": [
    "# Import mean_squared_error as MSE\n",
    "from sklearn.metrics import mean_squared_error\n",
    "\n",
    "# Compute test set MSE\n",
    "mse_test = mean_squared_error(y_test, y_pred)\n",
    "\n",
    "# Compute test set RMSE\n",
    "rmse_test = mse_test**(1/2)\n",
    "\n",
    "# Print rmse_test\n",
    "print('Test set RMSE of sgbr: {:.3f}'.format(rmse_test))"
   ]
  },
  {
   "cell_type": "code",
   "execution_count": null,
   "metadata": {},
   "outputs": [],
   "source": []
  }
 ],
 "metadata": {
  "kernelspec": {
   "display_name": "Python 3",
   "language": "python",
   "name": "python3"
  },
  "language_info": {
   "codemirror_mode": {
    "name": "ipython",
    "version": 3
   },
   "file_extension": ".py",
   "mimetype": "text/x-python",
   "name": "python",
   "nbconvert_exporter": "python",
   "pygments_lexer": "ipython3",
   "version": "3.7.4"
  }
 },
 "nbformat": 4,
 "nbformat_minor": 2
}
