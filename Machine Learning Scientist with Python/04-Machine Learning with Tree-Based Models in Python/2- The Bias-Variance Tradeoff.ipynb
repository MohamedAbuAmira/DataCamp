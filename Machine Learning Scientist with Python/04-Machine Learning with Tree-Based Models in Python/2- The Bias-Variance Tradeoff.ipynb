{
 "cells": [
  {
   "cell_type": "markdown",
   "metadata": {},
   "source": [
    "The bias-variance tradeoff is one of the fundamental concepts in supervised machine learning. In this chapter, you'll understand how to diagnose the problems of overfitting and underfitting. You'll also be introduced to the concept of ensembling where the predictions of several models are aggregated to produce predictions that are more robust."
   ]
  },
  {
   "cell_type": "markdown",
   "metadata": {},
   "source": [
    "# 1- Generalization Error\n"
   ]
  },
  {
   "cell_type": "markdown",
   "metadata": {},
   "source": [
    "video"
   ]
  },
  {
   "cell_type": "markdown",
   "metadata": {},
   "source": [
    "# 2- Complexity, bias and variance\n"
   ]
  },
  {
   "cell_type": "markdown",
   "metadata": {},
   "source": [
    "<p>In the video, you saw how the complexity of a model labeled \\(\\hat{f}\\) influences the bias and variance terms of its generalization error.<br>\n",
    "Which of the following correctly describes the relationship between \\(\\hat{f}\\)&apos;s complexity and \\(\\hat{f}\\)&apos;s bias and variance terms?</p>"
   ]
  },
  {
   "cell_type": "markdown",
   "metadata": {},
   "source": [
    "- <p>As the complexity of \\(\\hat{f}\\) decreases, the bias term decreases while the variance term increases.</p>\n",
    "- <p>As the complexity of \\(\\hat{f}\\) decreases, both the bias and the variance terms increase.</p>\n",
    "- <p>As the complexity of \\(\\hat{f}\\) increases, the bias term increases while the variance term decreases.</p>\n",
    "- <p> As the complexity of \\(\\hat{f}\\)&apos;s increases, the bias term decreases while the variance term increases </p> (Answer)"
   ]
  },
  {
   "cell_type": "markdown",
   "metadata": {},
   "source": [
    "# 3- Overfitting and underfitting\n"
   ]
  },
  {
   "cell_type": "markdown",
   "metadata": {},
   "source": [
    "<p>In this exercise, you&apos;ll visually diagnose whether a model is overfitting or underfitting the training set.</p>\n",
    "<p>For this purpose, we have trained two different models \\(A\\) and \\(B\\) on the auto dataset to predict the <code>mpg</code> consumption of a car using only the car&apos;s displacement (<code>displ</code>) as a feature.</p>\n",
    "<p>The following figure shows you scatterplots of <code>mpg</code> versus <code>displ</code> along with lines corresponding to the training set predictions of models \\(A\\) and \\(B\\) in red.</p>\n",
    "<p><img src=\"https://assets.datacamp.com/production/repositories/1796/datasets/f905399bc06da86c2a3af27b20717de5a777e6e1/diagnose-problems.jpg\" alt=\"diagnose\"></p>\n",
    "<p>Which of the following statements is true?</p>"
   ]
  },
  {
   "cell_type": "markdown",
   "metadata": {},
   "source": [
    "- <p>\\(A\\) suffers from high bias and overfits the training set.</p>\n",
    "- <p>\\(A\\) suffers from high variance and underfits the training set.</p>\n",
    "- <p>\\(B\\) suffers from high bias and underfits the training set. (Answer) </p>\n",
    "- <p>\\(B\\) suffers from high variance and underfits the training set.</p>"
   ]
  },
  {
   "cell_type": "raw",
   "metadata": {},
   "source": [
    "Absolutely! Model B is not able to capture the nonlinear dependence of mpg on displ."
   ]
  },
  {
   "cell_type": "markdown",
   "metadata": {},
   "source": [
    "# 4- Diagnose bias and variance problems\n"
   ]
  },
  {
   "cell_type": "markdown",
   "metadata": {},
   "source": [
    "video"
   ]
  },
  {
   "cell_type": "markdown",
   "metadata": {},
   "source": [
    "# 5- Instantiate the model"
   ]
  },
  {
   "cell_type": "markdown",
   "metadata": {},
   "source": [
    "<p>In the following set of exercises, you&apos;ll diagnose the bias and variance problems of a regression tree. The regression tree you&apos;ll define in this exercise will be used to predict the mpg consumption of cars from the auto dataset using all available features.</p>\n",
    "<p>We have already processed the data and loaded the features matrix <code>X</code> and the array <code>y</code> in your workspace. In addition, the <code>DecisionTreeRegressor</code> class was imported from <code>sklearn.tree</code>.</p>"
   ]
  },
  {
   "cell_type": "code",
   "execution_count": 9,
   "metadata": {},
   "outputs": [
    {
     "data": {
      "text/html": [
       "<div>\n",
       "<style scoped>\n",
       "    .dataframe tbody tr th:only-of-type {\n",
       "        vertical-align: middle;\n",
       "    }\n",
       "\n",
       "    .dataframe tbody tr th {\n",
       "        vertical-align: top;\n",
       "    }\n",
       "\n",
       "    .dataframe thead th {\n",
       "        text-align: right;\n",
       "    }\n",
       "</style>\n",
       "<table border=\"1\" class=\"dataframe\">\n",
       "  <thead>\n",
       "    <tr style=\"text-align: right;\">\n",
       "      <th></th>\n",
       "      <th>mpg</th>\n",
       "      <th>displ</th>\n",
       "      <th>hp</th>\n",
       "      <th>weight</th>\n",
       "      <th>accel</th>\n",
       "      <th>origin</th>\n",
       "      <th>size</th>\n",
       "    </tr>\n",
       "  </thead>\n",
       "  <tbody>\n",
       "    <tr>\n",
       "      <td>0</td>\n",
       "      <td>18.0</td>\n",
       "      <td>250.0</td>\n",
       "      <td>88</td>\n",
       "      <td>3139</td>\n",
       "      <td>14.5</td>\n",
       "      <td>US</td>\n",
       "      <td>15.0</td>\n",
       "    </tr>\n",
       "    <tr>\n",
       "      <td>1</td>\n",
       "      <td>9.0</td>\n",
       "      <td>304.0</td>\n",
       "      <td>193</td>\n",
       "      <td>4732</td>\n",
       "      <td>18.5</td>\n",
       "      <td>US</td>\n",
       "      <td>20.0</td>\n",
       "    </tr>\n",
       "    <tr>\n",
       "      <td>2</td>\n",
       "      <td>36.1</td>\n",
       "      <td>91.0</td>\n",
       "      <td>60</td>\n",
       "      <td>1800</td>\n",
       "      <td>16.4</td>\n",
       "      <td>Asia</td>\n",
       "      <td>10.0</td>\n",
       "    </tr>\n",
       "    <tr>\n",
       "      <td>3</td>\n",
       "      <td>18.5</td>\n",
       "      <td>250.0</td>\n",
       "      <td>98</td>\n",
       "      <td>3525</td>\n",
       "      <td>19.0</td>\n",
       "      <td>US</td>\n",
       "      <td>15.0</td>\n",
       "    </tr>\n",
       "    <tr>\n",
       "      <td>4</td>\n",
       "      <td>34.3</td>\n",
       "      <td>97.0</td>\n",
       "      <td>78</td>\n",
       "      <td>2188</td>\n",
       "      <td>15.8</td>\n",
       "      <td>Europe</td>\n",
       "      <td>10.0</td>\n",
       "    </tr>\n",
       "  </tbody>\n",
       "</table>\n",
       "</div>"
      ],
      "text/plain": [
       "    mpg  displ   hp  weight  accel  origin  size\n",
       "0  18.0  250.0   88    3139   14.5      US  15.0\n",
       "1   9.0  304.0  193    4732   18.5      US  20.0\n",
       "2  36.1   91.0   60    1800   16.4    Asia  10.0\n",
       "3  18.5  250.0   98    3525   19.0      US  15.0\n",
       "4  34.3   97.0   78    2188   15.8  Europe  10.0"
      ]
     },
     "execution_count": 9,
     "metadata": {},
     "output_type": "execute_result"
    }
   ],
   "source": [
    "#preprocessing\n",
    "import pandas as pd\n",
    "auto=pd.read_csv('datasets/auto.csv')\n",
    "\n",
    "auto.head()\n"
   ]
  },
  {
   "cell_type": "code",
   "execution_count": 10,
   "metadata": {},
   "outputs": [
    {
     "name": "stdout",
     "output_type": "stream",
     "text": [
      "Index(['mpg', 'displ', 'hp', 'weight', 'accel', 'size', 'origin_Asia',\n",
      "       'origin_Europe', 'origin_US'],\n",
      "      dtype='object')\n",
      "Index(['mpg', 'displ', 'hp', 'weight', 'accel', 'size', 'origin_Europe',\n",
      "       'origin_US'],\n",
      "      dtype='object')\n"
     ]
    },
    {
     "data": {
      "text/html": [
       "<div>\n",
       "<style scoped>\n",
       "    .dataframe tbody tr th:only-of-type {\n",
       "        vertical-align: middle;\n",
       "    }\n",
       "\n",
       "    .dataframe tbody tr th {\n",
       "        vertical-align: top;\n",
       "    }\n",
       "\n",
       "    .dataframe thead th {\n",
       "        text-align: right;\n",
       "    }\n",
       "</style>\n",
       "<table border=\"1\" class=\"dataframe\">\n",
       "  <thead>\n",
       "    <tr style=\"text-align: right;\">\n",
       "      <th></th>\n",
       "      <th>mpg</th>\n",
       "      <th>displ</th>\n",
       "      <th>hp</th>\n",
       "      <th>weight</th>\n",
       "      <th>accel</th>\n",
       "      <th>size</th>\n",
       "      <th>origin_Europe</th>\n",
       "      <th>origin_US</th>\n",
       "    </tr>\n",
       "  </thead>\n",
       "  <tbody>\n",
       "    <tr>\n",
       "      <td>0</td>\n",
       "      <td>18.0</td>\n",
       "      <td>250.0</td>\n",
       "      <td>88</td>\n",
       "      <td>3139</td>\n",
       "      <td>14.5</td>\n",
       "      <td>15.0</td>\n",
       "      <td>0</td>\n",
       "      <td>1</td>\n",
       "    </tr>\n",
       "    <tr>\n",
       "      <td>1</td>\n",
       "      <td>9.0</td>\n",
       "      <td>304.0</td>\n",
       "      <td>193</td>\n",
       "      <td>4732</td>\n",
       "      <td>18.5</td>\n",
       "      <td>20.0</td>\n",
       "      <td>0</td>\n",
       "      <td>1</td>\n",
       "    </tr>\n",
       "    <tr>\n",
       "      <td>2</td>\n",
       "      <td>36.1</td>\n",
       "      <td>91.0</td>\n",
       "      <td>60</td>\n",
       "      <td>1800</td>\n",
       "      <td>16.4</td>\n",
       "      <td>10.0</td>\n",
       "      <td>0</td>\n",
       "      <td>0</td>\n",
       "    </tr>\n",
       "    <tr>\n",
       "      <td>3</td>\n",
       "      <td>18.5</td>\n",
       "      <td>250.0</td>\n",
       "      <td>98</td>\n",
       "      <td>3525</td>\n",
       "      <td>19.0</td>\n",
       "      <td>15.0</td>\n",
       "      <td>0</td>\n",
       "      <td>1</td>\n",
       "    </tr>\n",
       "    <tr>\n",
       "      <td>4</td>\n",
       "      <td>34.3</td>\n",
       "      <td>97.0</td>\n",
       "      <td>78</td>\n",
       "      <td>2188</td>\n",
       "      <td>15.8</td>\n",
       "      <td>10.0</td>\n",
       "      <td>1</td>\n",
       "      <td>0</td>\n",
       "    </tr>\n",
       "  </tbody>\n",
       "</table>\n",
       "</div>"
      ],
      "text/plain": [
       "    mpg  displ   hp  weight  accel  size  origin_Europe  origin_US\n",
       "0  18.0  250.0   88    3139   14.5  15.0              0          1\n",
       "1   9.0  304.0  193    4732   18.5  20.0              0          1\n",
       "2  36.1   91.0   60    1800   16.4  10.0              0          0\n",
       "3  18.5  250.0   98    3525   19.0  15.0              0          1\n",
       "4  34.3   97.0   78    2188   15.8  10.0              1          0"
      ]
     },
     "execution_count": 10,
     "metadata": {},
     "output_type": "execute_result"
    }
   ],
   "source": [
    "#Creating dummy variables, for origin colum\n",
    "\n",
    "# Create dummy variables: df_region\n",
    "origins = pd.get_dummies(auto)\n",
    "\n",
    "# Print the columns of df_region\n",
    "print(origins.columns)\n",
    "\n",
    "# Create dummy variables with drop_first=True: df_region\n",
    "auto_origins = pd.get_dummies(auto, drop_first=True)\n",
    "\n",
    "# Print the new columns of df_region\n",
    "print(auto_origins.columns)\n",
    "\n",
    "auto_origins.head()"
   ]
  },
  {
   "cell_type": "code",
   "execution_count": 11,
   "metadata": {},
   "outputs": [],
   "source": [
    "X=auto_origins.drop('mpg', axis=1)\n",
    "y=auto_origins['mpg']"
   ]
  },
  {
   "cell_type": "markdown",
   "metadata": {},
   "source": [
    "----------"
   ]
  },
  {
   "cell_type": "markdown",
   "metadata": {},
   "source": [
    "<ul>\n",
    "<li>Import <code>train_test_split</code> from <code>sklearn.model_selection</code>.</li>\n",
    "<li>Split the data into 70% train and 30% test. </li>\n",
    "<li>Instantiate a <code>DecisionTreeRegressor</code> with max depth 4 and <code>min_samples_leaf</code> set to 0.26.</li>\n",
    "</ul>"
   ]
  },
  {
   "cell_type": "code",
   "execution_count": 12,
   "metadata": {},
   "outputs": [],
   "source": [
    "from sklearn.tree import DecisionTreeRegressor\n",
    "\n",
    "#Import train_test_split from sklearn.model_selection\n",
    "from sklearn.model_selection import train_test_split\n",
    "\n",
    "# Set SEED for reproducibility\n",
    "SEED = 1\n",
    "\n",
    "# Split the data into 70% train and 30% test\n",
    "X_train, X_test, y_train, y_test = train_test_split(X, y, test_size=0.30,\n",
    "                                                    random_state=SEED)\n",
    "\n",
    "# Instantiate a DecisionTreeRegressor dt\n",
    "dt = DecisionTreeRegressor(max_depth=4,\n",
    "                           min_samples_leaf=0.26,\n",
    "                           random_state=SEED)"
   ]
  },
  {
   "cell_type": "markdown",
   "metadata": {},
   "source": [
    "# 6- Evaluate the 10-fold CV error\n"
   ]
  },
  {
   "cell_type": "markdown",
   "metadata": {},
   "source": [
    "<p>In this exercise, you&apos;ll evaluate the 10-fold CV Root Mean Squared Error (RMSE) achieved by the regression tree <code>dt</code> that you instantiated in the previous exercise.</p>\n",
    "<p>In addition to <code>dt</code>, the training data including <code>X_train</code> and <code>y_train</code> are available in your workspace. We also imported <code>cross_val_score</code> from <code>sklearn.model_selection</code>.</p>\n",
    "<p>Note that since <code>cross_val_score</code> has only the option of evaluating the negative MSEs, its output should be multiplied by negative one to obtain the MSEs.</p>"
   ]
  },
  {
   "cell_type": "markdown",
   "metadata": {},
   "source": [
    "<ul>\n",
    "<li><p>Compute <code>dt</code>&apos;s 10-fold cross-validated MSE by setting the <code>scoring</code> argument to <code>&apos;neg_mean_squared_error&apos;</code>.</p></li>\n",
    "<li><p>Compute RMSE from the obtained MSE scores.</p></li>\n",
    "</ul>"
   ]
  },
  {
   "cell_type": "code",
   "execution_count": 15,
   "metadata": {},
   "outputs": [
    {
     "name": "stdout",
     "output_type": "stream",
     "text": [
      "CV RMSE: 5.14\n"
     ]
    }
   ],
   "source": [
    "#import cross_val_score from sklearn.model_selection\n",
    "from sklearn.model_selection import cross_val_score\n",
    "\n",
    "# Compute the array containing the 10-folds CV MSEs\n",
    "MSE_CV_scores = -1 * cross_val_score(dt, X_train, y_train,\n",
    "                       cv=10, \n",
    "                       scoring='neg_mean_squared_error',\n",
    "                       n_jobs=-1)\n",
    "\n",
    "# Compute the 10-folds CV RMSE\n",
    "RMSE_CV = (MSE_CV_scores.mean())**(1/2)\n",
    "\n",
    "# Print RMSE_CV\n",
    "print('CV RMSE: {:.2f}'.format(RMSE_CV))"
   ]
  },
  {
   "cell_type": "raw",
   "metadata": {},
   "source": [
    "Great work! A very good practice is to keep the test set untouched until you are confident about your model's performance. CV is a great technique to get an estimate of a model's performance without affecting the test set."
   ]
  },
  {
   "cell_type": "markdown",
   "metadata": {},
   "source": [
    "# 7- Evaluate the training error\n"
   ]
  },
  {
   "cell_type": "markdown",
   "metadata": {},
   "source": [
    "<p>You&apos;ll now evaluate the training set RMSE achieved by the regression tree <code>dt</code> that you instantiated in a previous exercise.</p>\n",
    "<p>In addition to <code>dt</code>, <code>X_train</code> and <code>y_train</code> are available in your workspace.</p>"
   ]
  },
  {
   "cell_type": "markdown",
   "metadata": {},
   "source": [
    "<ul>\n",
    "<li>Import <code>mean_squared_error</code> as <code>MSE</code> from <code>sklearn.metrics</code>.</li>\n",
    "<li>Fit <code>dt</code> to the training set.</li>\n",
    "<li>Predict <code>dt</code>&apos;s training set labels and assign the result to <code>y_pred_train</code>. </li>\n",
    "<li>Evaluate <code>dt</code>&apos;s training set MSE and assign it to <code>RMSE_train</code>.</li>\n",
    "</ul>"
   ]
  },
  {
   "cell_type": "code",
   "execution_count": 17,
   "metadata": {},
   "outputs": [
    {
     "name": "stdout",
     "output_type": "stream",
     "text": [
      "Train RMSE: 5.15\n"
     ]
    }
   ],
   "source": [
    "# Import mean_squared_error from sklearn.metrics as MSE\n",
    "from sklearn.metrics import mean_squared_error as MSE\n",
    "\n",
    "# Fit dt to the training set\n",
    "dt.fit(X_train, y_train)\n",
    "\n",
    "# Predict the labels of the training set\n",
    "y_pred_train = dt.predict(X_train)\n",
    "\n",
    "# Evaluate the training set RMSE of dt\n",
    "RMSE_train = (MSE(y_train, y_pred_train))**(1/2)\n",
    "\n",
    "# Print RMSE_train\n",
    "print('Train RMSE: {:.2f}'.format(RMSE_train))"
   ]
  },
  {
   "cell_type": "raw",
   "metadata": {},
   "source": [
    "Awesome! Notice how the training error is roughly equal to the 10-folds CV error you obtained in the previous exercice."
   ]
  },
  {
   "cell_type": "markdown",
   "metadata": {},
   "source": [
    "# 8- High bias or high variance?\n"
   ]
  },
  {
   "cell_type": "markdown",
   "metadata": {},
   "source": [
    "<p>In this exercise you&apos;ll diagnose whether the regression tree <code>dt</code> you trained in the previous exercise suffers from a bias or a variance problem. </p>\n",
    "<p>The training set RMSE (<code>RMSE_train</code>) and the CV RMSE (<code>RMSE_CV</code>) achieved by <code>dt</code> are available in your workspace. In addition, we have also loaded a variable called <code>baseline_RMSE</code> which corresponds to the root mean-squared error achieved by the regression-tree trained with the <code>disp</code> feature only (it is the RMSE achieved by the regression tree trained in chapter 1, lesson 3). Here <code>baseline_RMSE</code> serves as the baseline RMSE above which a model is considered to be underfitting and below which the model is considered &apos;good enough&apos;.\n",
    "\n",
    "</p> \n",
    "baseline_RMSE=5.1\n",
    "<p>Does <code>dt</code> suffer from a high bias or a high variance problem?</p>"
   ]
  },
  {
   "cell_type": "markdown",
   "metadata": {},
   "source": [
    "- <p><code>dt</code> suffers from high variance because <code>RMSE_CV</code> is far less than <code>RMSE_train</code>.</p>\n",
    "- <p><code>dt</code> suffers from  high bias because <code>RMSE_CV</code> \\(\\approx\\) <code>RMSE_train</code> and both scores are greater than <code>baseline_RMSE</code>.</p> (The Answer)\n",
    "- <p><code>dt</code> is a good fit because <code>RMSE_CV</code> \\(\\approx\\) <code>RMSE_train</code> and both scores are smaller than <code>baseline_RMSE</code>.</p>"
   ]
  },
  {
   "cell_type": "raw",
   "metadata": {},
   "source": [
    "Correct! dt is indeed underfitting the training set as the model is too constrained to capture the nonlinear dependencies between features and labels."
   ]
  },
  {
   "cell_type": "markdown",
   "metadata": {},
   "source": [
    "# 9- Ensemble Learning\n"
   ]
  },
  {
   "cell_type": "markdown",
   "metadata": {},
   "source": [
    "video"
   ]
  },
  {
   "cell_type": "markdown",
   "metadata": {},
   "source": [
    "# 10- Define the ensemble\n"
   ]
  },
  {
   "cell_type": "markdown",
   "metadata": {},
   "source": [
    "<p>In the following set of exercises, you&apos;ll work with the <a href=\"https://www.kaggle.com/jeevannagaraj/indian-liver-patient-dataset\">Indian Liver Patient Dataset</a> from the UCI Machine learning repository. </p>\n",
    "<p>In this exercise, you&apos;ll instantiate three classifiers to predict whether a patient suffers from a liver disease using all the features present in the dataset. </p>\n",
    "<p>The classes <code>LogisticRegression</code>, <code>DecisionTreeClassifier</code>, and <code>KNeighborsClassifier</code> under the alias <code>KNN</code> are available in your workspace.</p>"
   ]
  },
  {
   "cell_type": "markdown",
   "metadata": {},
   "source": [
    "<ul>\n",
    "<li><p>Instantiate a Logistic Regression classifier and assign it to <code>lr</code>. </p></li>\n",
    "<li><p>Instantiate a KNN classifier that considers 27 nearest neighbors and assign it to <code>knn</code>. </p></li>\n",
    "<li><p>Instantiate a Decision Tree Classifier with the parameter <code>min_samples_leaf</code> set to 0.13 and assign it to <code>dt</code>.</p></li>\n",
    "</ul>"
   ]
  },
  {
   "cell_type": "code",
   "execution_count": 23,
   "metadata": {},
   "outputs": [],
   "source": [
    "# Import functions to compute accuracy and split data\n",
    "from sklearn.metrics import accuracy_score\n",
    "from sklearn.model_selection import train_test_split\n",
    "\n",
    "# Import models, including VotingClassifier meta-model\n",
    "from sklearn.linear_model import LogisticRegression\n",
    "from sklearn.tree import DecisionTreeClassifier\n",
    "from sklearn.neighbors import KNeighborsClassifier as KNN\n",
    "from sklearn.ensemble import VotingClassifier\n",
    "\n",
    "# Set seed for reproducibility\n",
    "SEED=1\n",
    "\n",
    "# Instantiate lr\n",
    "lr = LogisticRegression(random_state=SEED)\n",
    "\n",
    "# Instantiate knn\n",
    "knn = KNN(n_neighbors=27)\n",
    "\n",
    "# Instantiate dt\n",
    "dt = DecisionTreeClassifier(min_samples_leaf=0.13, random_state=SEED)\n",
    "\n",
    "# Define the list classifiers\n",
    "classifiers = [('Logistic Regression', lr),\n",
    "               ('K Nearest Neighbours', knn),\n",
    "               ('Classification Tree', dt)]"
   ]
  },
  {
   "cell_type": "markdown",
   "metadata": {},
   "source": [
    "# 11- Evaluate individual classifiers\n"
   ]
  },
  {
   "cell_type": "markdown",
   "metadata": {},
   "source": [
    "<p>In this exercise you&apos;ll evaluate the performance of the models in the list <code>classifiers</code> that we defined in the previous exercise. You&apos;ll do so by fitting each classifier on the training set and evaluating its test set accuracy.</p>\n",
    "<p>The dataset is already loaded and preprocessed for you (numerical features are standardized) and it is split into 70% train and 30% test. The features matrices <code>X_train</code> and <code>X_test</code>, as well as the arrays of labels <code>y_train</code> and <code>y_test</code> are available in your workspace. In addition, we have loaded the list <code>classifiers</code> from the previous exercise, as well as the function <code>accuracy_score()</code> from <code>sklearn.metrics</code>.</p>"
   ]
  },
  {
   "cell_type": "code",
   "execution_count": 24,
   "metadata": {},
   "outputs": [],
   "source": [
    "#preprocessing, by me\n",
    "\n",
    "#Import train_test_split from sklearn.model_selection\n",
    "from sklearn.model_selection import train_test_split\n",
    "\n",
    "\n",
    "\n",
    "liver=pd.read_csv('datasets/indian_liver_patient/indian_liver_patient_preprocessed.csv')\n",
    "liver.head()\n",
    "\n",
    "X=liver.drop('Liver_disease', axis=1)\n",
    "y=liver['Liver_disease']\n",
    "\n",
    "SEED=1\n",
    "\n",
    "# Split the data into 70% train and 30% test\n",
    "X_train, X_test, y_train, y_test = train_test_split(X, y, test_size=0.30,\n",
    "                                                    random_state=SEED)"
   ]
  },
  {
   "cell_type": "markdown",
   "metadata": {},
   "source": [
    "---------"
   ]
  },
  {
   "cell_type": "markdown",
   "metadata": {},
   "source": [
    "<ul>\n",
    "<li>Iterate over the tuples in <code>classifiers</code>. Use <code>clf_name</code> and <code>clf</code> as the <code>for</code> loop variables:<ul>\n",
    "<li>Fit <code>clf</code> to the training set.</li>\n",
    "<li>Predict <code>clf</code>&apos;s test set labels and assign the results to <code>y_pred</code>.</li>\n",
    "<li>Evaluate the test set accuracy of <code>clf</code> and print the result.</li></ul></li>\n",
    "</ul>"
   ]
  },
  {
   "cell_type": "code",
   "execution_count": 25,
   "metadata": {},
   "outputs": [
    {
     "name": "stderr",
     "output_type": "stream",
     "text": [
      "C:\\Users\\MohammedTaysser\\Anaconda3\\lib\\site-packages\\sklearn\\linear_model\\logistic.py:432: FutureWarning: Default solver will be changed to 'lbfgs' in 0.22. Specify a solver to silence this warning.\n",
      "  FutureWarning)\n"
     ]
    },
    {
     "name": "stdout",
     "output_type": "stream",
     "text": [
      "Logistic Regression : 0.747\n",
      "K Nearest Neighbours : 0.724\n",
      "Classification Tree : 0.730\n"
     ]
    }
   ],
   "source": [
    "# Iterate over the pre-defined list of classifiers\n",
    "for clf_name, clf in classifiers:    \n",
    " \n",
    "    # Fit clf to the training set\n",
    "    clf.fit(X_train, y_train)    \n",
    "   \n",
    "    # Predict y_pred\n",
    "    y_pred = clf.predict(X_test)\n",
    "    \n",
    "    # Calculate accuracy\n",
    "    accuracy = accuracy_score(y_pred, y_test) \n",
    "   \n",
    "    # Evaluate clf's accuracy on the test set\n",
    "    print('{:s} : {:.3f}'.format(clf_name, accuracy))"
   ]
  },
  {
   "cell_type": "raw",
   "metadata": {},
   "source": [
    "Great work! Notice how Logistic Regression achieved the highest accuracy of 74.7%."
   ]
  },
  {
   "cell_type": "markdown",
   "metadata": {},
   "source": [
    "# 12- Better performance with a Voting Classifier"
   ]
  },
  {
   "cell_type": "markdown",
   "metadata": {},
   "source": [
    "<p>Finally, you&apos;ll evaluate the performance of a voting classifier that takes the outputs of the models defined in the list <code>classifiers</code> and assigns labels by majority voting.  </p>\n",
    "<p><code>X_train</code>, <code>X_test</code>,<code>y_train</code>, <code>y_test</code>, the list <code>classifiers</code> defined in a previous exercise, as well as the function <code>accuracy_score</code> from <code>sklearn.metrics</code> are available in your workspace.</p>"
   ]
  },
  {
   "cell_type": "markdown",
   "metadata": {},
   "source": [
    "<ul>\n",
    "<li>Import <code>VotingClassifier</code> from <code>sklearn.ensemble</code>.</li>\n",
    "<li>Instantiate a <code>VotingClassifier</code> by setting the parameter <code>estimators</code> to <code>classifiers</code> and assign it to <code>vc</code>. </li>\n",
    "<li>Fit <code>vc</code> to the training set.</li>\n",
    "<li>Evaluate <code>vc</code>&apos;s test set accuracy using the test set predictions <code>y_pred</code>.</li>\n",
    "</ul>"
   ]
  },
  {
   "cell_type": "code",
   "execution_count": 26,
   "metadata": {},
   "outputs": [
    {
     "name": "stdout",
     "output_type": "stream",
     "text": [
      "Voting Classifier: 0.753\n"
     ]
    },
    {
     "name": "stderr",
     "output_type": "stream",
     "text": [
      "C:\\Users\\MohammedTaysser\\Anaconda3\\lib\\site-packages\\sklearn\\linear_model\\logistic.py:432: FutureWarning: Default solver will be changed to 'lbfgs' in 0.22. Specify a solver to silence this warning.\n",
      "  FutureWarning)\n"
     ]
    }
   ],
   "source": [
    "# Import VotingClassifier from sklearn.ensemble\n",
    "from sklearn.ensemble import VotingClassifier\n",
    "\n",
    "# Instantiate a VotingClassifier vc\n",
    "vc = VotingClassifier(estimators=classifiers)     \n",
    "\n",
    "# Fit vc to the training set\n",
    "vc.fit(X_train, y_train)   \n",
    "\n",
    "# Evaluate the test set predictions\n",
    "y_pred = vc.predict(X_test)\n",
    "\n",
    "# Calculate accuracy score\n",
    "accuracy = accuracy_score(y_pred, y_test)\n",
    "print('Voting Classifier: {:.3f}'.format(accuracy))"
   ]
  },
  {
   "cell_type": "raw",
   "metadata": {},
   "source": [
    "Great work! Notice how the voting classifier achieves a test set accuracy of 75.3%. This value is greater than that achieved by LogisticRegression."
   ]
  },
  {
   "cell_type": "code",
   "execution_count": null,
   "metadata": {},
   "outputs": [],
   "source": []
  }
 ],
 "metadata": {
  "kernelspec": {
   "display_name": "Python 3",
   "language": "python",
   "name": "python3"
  },
  "language_info": {
   "codemirror_mode": {
    "name": "ipython",
    "version": 3
   },
   "file_extension": ".py",
   "mimetype": "text/x-python",
   "name": "python",
   "nbconvert_exporter": "python",
   "pygments_lexer": "ipython3",
   "version": "3.7.4"
  }
 },
 "nbformat": 4,
 "nbformat_minor": 2
}
